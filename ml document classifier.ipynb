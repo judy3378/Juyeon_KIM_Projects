{
 "cells": [
  {
   "cell_type": "code",
   "execution_count": 1,
   "id": "9f82ac76-09aa-41f3-bc67-b2eae0bdbec6",
   "metadata": {
    "tags": []
   },
   "outputs": [
    {
     "name": "stderr",
     "output_type": "stream",
     "text": [
      "C:\\Users\\t3q_dhkim\\anaconda3\\envs\\intern\\lib\\site-packages\\numpy\\_distributor_init.py:30: UserWarning: loaded more than 1 DLL from .libs:\n",
      "C:\\Users\\t3q_dhkim\\anaconda3\\envs\\intern\\lib\\site-packages\\numpy\\.libs\\libopenblas64__v0.3.21-gcc_10_3_0.dll\n",
      "C:\\Users\\t3q_dhkim\\anaconda3\\envs\\intern\\lib\\site-packages\\numpy\\.libs\\libopenblas64__v0.3.23-gcc_10_3_0.dll\n",
      "  warnings.warn(\"loaded more than 1 DLL from .libs:\"\n"
     ]
    }
   ],
   "source": [
    "import pandas as pd\n",
    "import numpy as np\n",
    "import json, os\n",
    "import seaborn as sns\n",
    "import matplotlib as mpl\n",
    "from matplotlib import pyplot as plt\n",
    "import glob\n",
    "import warnings"
   ]
  },
  {
   "cell_type": "code",
   "execution_count": 70,
   "id": "0dce10c5-da50-4d33-8f0f-2152e7f33fae",
   "metadata": {
    "tags": []
   },
   "outputs": [],
   "source": [
    "import koreanize_matplotlib\n",
    "\n",
    "# 그래프에 retina display 적용\n",
    "%config InlineBackend.figure_format = 'retina'\n",
    "\n",
    "#pd.Series([1, 3, 5, -7, 9]).plot(title=\"한글\")"
   ]
  },
  {
   "cell_type": "code",
   "execution_count": 2,
   "id": "955232cd-0e0a-48e8-92be-85fcf352fd20",
   "metadata": {
    "tags": []
   },
   "outputs": [],
   "source": [
    "%matplotlib inline\n",
    "%config InlineBackend.figure_format = 'retina'\n",
    "\n",
    "mpl.rc('font', family='NanumGothic') # 폰트 설정\n",
    "mpl.rc('axes', unicode_minus=False) # 유니코드에서 음수 부호 설정\n",
    "\n",
    "# 차트 스타일 설정\n",
    "sns.set(font=\"NanumGothic\", rc={\"axes.unicode_minus\":False}, style='darkgrid')\n",
    "plt.rc(\"figure\", figsize=(10,8))\n",
    "\n",
    "warnings.filterwarnings(\"ignore\")"
   ]
  },
  {
   "cell_type": "markdown",
   "id": "e2f4dc0b-4a0a-4a30-aea4-546be4740f02",
   "metadata": {
    "tags": []
   },
   "source": [
    "## 2. 텍스트 분류 실습"
   ]
  },
  {
   "cell_type": "markdown",
   "id": "4457d957-0cc7-49b2-9fab-f1c6320b48ff",
   "metadata": {},
   "source": [
    "### 2.1 데이터 미리보기"
   ]
  },
  {
   "cell_type": "code",
   "execution_count": 3,
   "id": "ce686ab4-704d-4555-b774-a9f390b6d363",
   "metadata": {
    "tags": []
   },
   "outputs": [
    {
     "data": {
      "text/html": [
       "<div>\n",
       "<style scoped>\n",
       "    .dataframe tbody tr th:only-of-type {\n",
       "        vertical-align: middle;\n",
       "    }\n",
       "\n",
       "    .dataframe tbody tr th {\n",
       "        vertical-align: top;\n",
       "    }\n",
       "\n",
       "    .dataframe thead th {\n",
       "        text-align: right;\n",
       "    }\n",
       "</style>\n",
       "<table border=\"1\" class=\"dataframe\">\n",
       "  <thead>\n",
       "    <tr style=\"text-align: right;\">\n",
       "      <th></th>\n",
       "      <th>Meta(Acqusition)</th>\n",
       "      <th>Meta(Refine)</th>\n",
       "      <th>Annotation</th>\n",
       "    </tr>\n",
       "  </thead>\n",
       "  <tbody>\n",
       "    <tr>\n",
       "      <th>doc_id</th>\n",
       "      <td>REPORT-news_r-00001</td>\n",
       "      <td>NaN</td>\n",
       "      <td>NaN</td>\n",
       "    </tr>\n",
       "    <tr>\n",
       "      <th>doc_category</th>\n",
       "      <td>REPORT</td>\n",
       "      <td>NaN</td>\n",
       "      <td>NaN</td>\n",
       "    </tr>\n",
       "    <tr>\n",
       "      <th>doc_type</th>\n",
       "      <td>news_r</td>\n",
       "      <td>NaN</td>\n",
       "      <td>NaN</td>\n",
       "    </tr>\n",
       "    <tr>\n",
       "      <th>doc_name</th>\n",
       "      <td>40억달러 딜 주인공 김봉진 \"국내서 폼잡다 죽고싶지 않았다\"</td>\n",
       "      <td>NaN</td>\n",
       "      <td>NaN</td>\n",
       "    </tr>\n",
       "    <tr>\n",
       "      <th>author</th>\n",
       "      <td>김선영</td>\n",
       "      <td>NaN</td>\n",
       "      <td>NaN</td>\n",
       "    </tr>\n",
       "    <tr>\n",
       "      <th>publisher</th>\n",
       "      <td>중앙일보</td>\n",
       "      <td>NaN</td>\n",
       "      <td>NaN</td>\n",
       "    </tr>\n",
       "    <tr>\n",
       "      <th>publisher_year</th>\n",
       "      <td>2020</td>\n",
       "      <td>NaN</td>\n",
       "      <td>NaN</td>\n",
       "    </tr>\n",
       "    <tr>\n",
       "      <th>doc_origin</th>\n",
       "      <td>중앙일보</td>\n",
       "      <td>NaN</td>\n",
       "      <td>NaN</td>\n",
       "    </tr>\n",
       "    <tr>\n",
       "      <th>passage_id</th>\n",
       "      <td>NaN</td>\n",
       "      <td>REPORT-news_r-00001-00001</td>\n",
       "      <td>NaN</td>\n",
       "    </tr>\n",
       "    <tr>\n",
       "      <th>passage</th>\n",
       "      <td>NaN</td>\n",
       "      <td>40억 달러 ‘딜’ 주인공 김봉진 우아한형제들 대표태풍 뒤의 고요함이랄까.\\n  4...</td>\n",
       "      <td>NaN</td>\n",
       "    </tr>\n",
       "    <tr>\n",
       "      <th>passage_Cnt</th>\n",
       "      <td>NaN</td>\n",
       "      <td>1271</td>\n",
       "      <td>NaN</td>\n",
       "    </tr>\n",
       "    <tr>\n",
       "      <th>summary1</th>\n",
       "      <td>NaN</td>\n",
       "      <td>NaN</td>\n",
       "      <td>DH가 기업가치를 약 4조 8000억 원으로 평가한 우아한형제들의 김 대표는 국내 ...</td>\n",
       "    </tr>\n",
       "    <tr>\n",
       "      <th>summary2</th>\n",
       "      <td>NaN</td>\n",
       "      <td>NaN</td>\n",
       "      <td>None</td>\n",
       "    </tr>\n",
       "    <tr>\n",
       "      <th>summary3</th>\n",
       "      <td>NaN</td>\n",
       "      <td>NaN</td>\n",
       "      <td>독일계 음식 배달서비스업체 DH(딜리버리 히어로)가 평가한 우아한형제들의 기업가치는...</td>\n",
       "    </tr>\n",
       "    <tr>\n",
       "      <th>summary_3_cnt</th>\n",
       "      <td>NaN</td>\n",
       "      <td>NaN</td>\n",
       "      <td>209</td>\n",
       "    </tr>\n",
       "  </tbody>\n",
       "</table>\n",
       "</div>"
      ],
      "text/plain": [
       "                                   Meta(Acqusition)  \\\n",
       "doc_id                          REPORT-news_r-00001   \n",
       "doc_category                                 REPORT   \n",
       "doc_type                                     news_r   \n",
       "doc_name        40억달러 딜 주인공 김봉진 \"국내서 폼잡다 죽고싶지 않았다\"    \n",
       "author                                          김선영   \n",
       "publisher                                      중앙일보   \n",
       "publisher_year                                 2020   \n",
       "doc_origin                                     중앙일보   \n",
       "passage_id                                      NaN   \n",
       "passage                                         NaN   \n",
       "passage_Cnt                                     NaN   \n",
       "summary1                                        NaN   \n",
       "summary2                                        NaN   \n",
       "summary3                                        NaN   \n",
       "summary_3_cnt                                   NaN   \n",
       "\n",
       "                                                     Meta(Refine)  \\\n",
       "doc_id                                                        NaN   \n",
       "doc_category                                                  NaN   \n",
       "doc_type                                                      NaN   \n",
       "doc_name                                                      NaN   \n",
       "author                                                        NaN   \n",
       "publisher                                                     NaN   \n",
       "publisher_year                                                NaN   \n",
       "doc_origin                                                    NaN   \n",
       "passage_id                              REPORT-news_r-00001-00001   \n",
       "passage         40억 달러 ‘딜’ 주인공 김봉진 우아한형제들 대표태풍 뒤의 고요함이랄까.\\n  4...   \n",
       "passage_Cnt                                                  1271   \n",
       "summary1                                                      NaN   \n",
       "summary2                                                      NaN   \n",
       "summary3                                                      NaN   \n",
       "summary_3_cnt                                                 NaN   \n",
       "\n",
       "                                                       Annotation  \n",
       "doc_id                                                        NaN  \n",
       "doc_category                                                  NaN  \n",
       "doc_type                                                      NaN  \n",
       "doc_name                                                      NaN  \n",
       "author                                                        NaN  \n",
       "publisher                                                     NaN  \n",
       "publisher_year                                                NaN  \n",
       "doc_origin                                                    NaN  \n",
       "passage_id                                                    NaN  \n",
       "passage                                                       NaN  \n",
       "passage_Cnt                                                   NaN  \n",
       "summary1        DH가 기업가치를 약 4조 8000억 원으로 평가한 우아한형제들의 김 대표는 국내 ...  \n",
       "summary2                                                     None  \n",
       "summary3        독일계 음식 배달서비스업체 DH(딜리버리 히어로)가 평가한 우아한형제들의 기업가치는...  \n",
       "summary_3_cnt                                                 209  "
      ]
     },
     "execution_count": 3,
     "metadata": {},
     "output_type": "execute_result"
    }
   ],
   "source": [
    "df_sample = pd.read_json('022.요약문 및 레포트 생성 데이터\\\\01.데이터\\\\1.Training\\\\라벨링데이터\\\\TL1\\\\01.news_r\\\\20per\\\\REPORT-news_r-00001-00001.json')\n",
    "df_sample"
   ]
  },
  {
   "cell_type": "markdown",
   "id": "ee77bb31-f076-429d-bbd5-dd2d78d64718",
   "metadata": {},
   "source": [
    "* 메타 정보(수집 단계), 메타 정보(정제 단계), 요약문으로 나뉘어져있다. \n",
    "* 문서 유형 (doc_type), 문서명 (doc_name), 원문 (passage), 원문 글자수 (passage_Cnt) 을 제외한 정보는 제거한다.\n",
    "* 원문 텍스트만으로 어떤 문서 유형에 속하는지 확인한다."
   ]
  },
  {
   "cell_type": "markdown",
   "id": "d92ce835-500a-4aa4-ad77-573600fdbfe7",
   "metadata": {},
   "source": [
    "### 2.2 데이터 병합\n",
    "\n",
    "각 다른 문서 유형의 폴더 안에 있는 파일들을 한 곳으로 모은다. 여기서는 빠른 계산을 위해 1.0 Training 학습 데이터셋에서 유형별로 100개의 파일을 추출한다."
   ]
  },
  {
   "cell_type": "code",
   "execution_count": 4,
   "id": "11fcf5d3-a751-4a5f-b678-d3bea8587b33",
   "metadata": {
    "tags": []
   },
   "outputs": [
    {
     "data": {
      "text/plain": [
       "1000"
      ]
     },
     "execution_count": 4,
     "metadata": {},
     "output_type": "execute_result"
    }
   ],
   "source": [
    "# 1.0 Training 학습세트에서 100개씩 추출\n",
    "folders = [\n",
    "    '01.news_r',\n",
    "    '02.briefing',\n",
    "    '03.his_cul',\n",
    "    '04.paper',\n",
    "    '05.minute',\n",
    "    '06.edit',\n",
    "    '07.public',\n",
    "    '08.speech',\n",
    "    '09.literature',\n",
    "    '10.narration'\n",
    "    \n",
    "]\n",
    "\n",
    "file_limit = 100\n",
    "file_paths = []\n",
    "\n",
    "for folder in folders:\n",
    "    folder_path = f'022.요약문 및 레포트 생성 데이터\\\\01.데이터\\\\1.Training\\\\라벨링데이터\\\\TL1\\\\{folder}\\\\2~3sent\\\\*.json'\n",
    "    files = glob.glob(folder_path)[:file_limit]\n",
    "    file_paths.extend(files)\n",
    "\n",
    "# Print the resulting file paths\n",
    "#for file_path in file_paths:\n",
    "#    print(file_path)\n",
    "len(file_paths)\n",
    "#file_paths[:4]"
   ]
  },
  {
   "cell_type": "code",
   "execution_count": 5,
   "id": "75ba06de-e03b-412d-845a-9103efaffed6",
   "metadata": {
    "tags": []
   },
   "outputs": [
    {
     "name": "stdout",
     "output_type": "stream",
     "text": [
      "(1000, 6)\n",
      "CPU times: total: 859 ms\n",
      "Wall time: 911 ms\n"
     ]
    },
    {
     "data": {
      "text/html": [
       "<div>\n",
       "<style scoped>\n",
       "    .dataframe tbody tr th:only-of-type {\n",
       "        vertical-align: middle;\n",
       "    }\n",
       "\n",
       "    .dataframe tbody tr th {\n",
       "        vertical-align: top;\n",
       "    }\n",
       "\n",
       "    .dataframe thead th {\n",
       "        text-align: right;\n",
       "    }\n",
       "</style>\n",
       "<table border=\"1\" class=\"dataframe\">\n",
       "  <thead>\n",
       "    <tr style=\"text-align: right;\">\n",
       "      <th></th>\n",
       "      <th>doc_type</th>\n",
       "      <th>doc_name</th>\n",
       "      <th>author</th>\n",
       "      <th>publisher</th>\n",
       "      <th>passage</th>\n",
       "      <th>passage_id</th>\n",
       "    </tr>\n",
       "  </thead>\n",
       "  <tbody>\n",
       "    <tr>\n",
       "      <th>0</th>\n",
       "      <td>news_r</td>\n",
       "      <td>[최상연 논설위원이 간다] 이재오 “무반성 한국당, 무능 지도부…이대론 총선 어렵다”</td>\n",
       "      <td>김선영</td>\n",
       "      <td>중앙일보</td>\n",
       "      <td>보수진영 사분오열 속 ‘국민통합연대’ 띄운 비박계 크리스마스를 앞둔 지난 23일 오...</td>\n",
       "      <td>REPORT-news_r-00007-00001</td>\n",
       "    </tr>\n",
       "    <tr>\n",
       "      <th>1</th>\n",
       "      <td>news_r</td>\n",
       "      <td>26세에 14억 빚 얻은 청년, 8년만에 연매출 183억 비결은?</td>\n",
       "      <td>이수기</td>\n",
       "      <td>중앙일보</td>\n",
       "      <td>가난 속에서 맨손으로 혼자 창업해 30대 중반에 코스닥 상장까지 일궈낸 이가 있다....</td>\n",
       "      <td>REPORT-news_r-00018-00001</td>\n",
       "    </tr>\n",
       "    <tr>\n",
       "      <th>2</th>\n",
       "      <td>news_r</td>\n",
       "      <td>이통사 장기 가입자 혜택 비교해 보니…VIP일까, 호갱일까</td>\n",
       "      <td>박형수</td>\n",
       "      <td>중앙일보</td>\n",
       "      <td>SK텔레콤은 ‘T끼리 온가족 할인’ 요금제로, 가족 구성원의 가입 합산 기간이...</td>\n",
       "      <td>REPORT-news_r-00020-00002</td>\n",
       "    </tr>\n",
       "    <tr>\n",
       "      <th>3</th>\n",
       "      <td>news_r</td>\n",
       "      <td>자율포장 테이프 없애놓고 1+1 상품엔 둘둘···대형마트의 모순</td>\n",
       "      <td>천권필</td>\n",
       "      <td>중앙일보</td>\n",
       "      <td>“박스 테이프는 어디 갔죠?” 1일 오전 서울 중구의 한 대형마트.\\n  장을 본 ...</td>\n",
       "      <td>REPORT-news_r-00024-00001</td>\n",
       "    </tr>\n",
       "    <tr>\n",
       "      <th>4</th>\n",
       "      <td>news_r</td>\n",
       "      <td>이달 출시 제네시스 첫 SUV 살짝 공개···전문가들 \"예상대로\"</td>\n",
       "      <td>김영주</td>\n",
       "      <td>중앙일보</td>\n",
       "      <td>현대차그룹 고급 브랜드 제네시스의 첫 스포츠유틸리티차량(SUV), GV80이 드디어...</td>\n",
       "      <td>REPORT-news_r-00029-00001</td>\n",
       "    </tr>\n",
       "    <tr>\n",
       "      <th>...</th>\n",
       "      <td>...</td>\n",
       "      <td>...</td>\n",
       "      <td>...</td>\n",
       "      <td>...</td>\n",
       "      <td>...</td>\n",
       "      <td>...</td>\n",
       "    </tr>\n",
       "    <tr>\n",
       "      <th>995</th>\n",
       "      <td>narration</td>\n",
       "      <td>51006_DC_걸어서세계속으로006_2014007630.txt</td>\n",
       "      <td>KBS</td>\n",
       "      <td>KBS</td>\n",
       "      <td>한국과는 정반대다.\\n계절의 뒤바뀜을 느껴보는 것도 여행의 또 다른 재미다.\\n이곳...</td>\n",
       "      <td>REPORT-narration-51006-00019</td>\n",
       "    </tr>\n",
       "    <tr>\n",
       "      <th>996</th>\n",
       "      <td>narration</td>\n",
       "      <td>51007_DC_걸어서세계속으로007_2014007672.txt</td>\n",
       "      <td>KBS</td>\n",
       "      <td>KBS</td>\n",
       "      <td>1960년대부터는 중국의 박해를 피해 망명한 티베트인들이 이곳을 중심으로 네팔에 정...</td>\n",
       "      <td>REPORT-narration-51007-00003</td>\n",
       "    </tr>\n",
       "    <tr>\n",
       "      <th>997</th>\n",
       "      <td>narration</td>\n",
       "      <td>51007_DC_걸어서세계속으로007_2014007672.txt</td>\n",
       "      <td>KBS</td>\n",
       "      <td>KBS</td>\n",
       "      <td>포카라에서는 어느 곳에서나 안나푸르나 산 문을 볼 수 있다.\\n안나푸르나로 가는 길...</td>\n",
       "      <td>REPORT-narration-51007-00004</td>\n",
       "    </tr>\n",
       "    <tr>\n",
       "      <th>998</th>\n",
       "      <td>narration</td>\n",
       "      <td>51007_DC_걸어서세계속으로007_2014007672.txt</td>\n",
       "      <td>KBS</td>\n",
       "      <td>KBS</td>\n",
       "      <td>청년의 친절이 고마웠다.\\n주민들은 산비탈을 깎아 만든 계단식 밭에서 겨울에는 주로...</td>\n",
       "      <td>REPORT-narration-51007-00007</td>\n",
       "    </tr>\n",
       "    <tr>\n",
       "      <th>999</th>\n",
       "      <td>narration</td>\n",
       "      <td>51007_DC_걸어서세계속으로007_2014007672.txt</td>\n",
       "      <td>KBS</td>\n",
       "      <td>KBS</td>\n",
       "      <td>부모의 사랑을 받으며 커야 할 8살 나이에 아이가 짊어져야 하는 삶의 무게가 버거워...</td>\n",
       "      <td>REPORT-narration-51007-00009</td>\n",
       "    </tr>\n",
       "  </tbody>\n",
       "</table>\n",
       "<p>1000 rows × 6 columns</p>\n",
       "</div>"
      ],
      "text/plain": [
       "      doc_type                                         doc_name author  \\\n",
       "0       news_r  [최상연 논설위원이 간다] 이재오 “무반성 한국당, 무능 지도부…이대론 총선 어렵다”    김선영   \n",
       "1       news_r             26세에 14억 빚 얻은 청년, 8년만에 연매출 183억 비결은?    이수기   \n",
       "2       news_r                 이통사 장기 가입자 혜택 비교해 보니…VIP일까, 호갱일까    박형수   \n",
       "3       news_r              자율포장 테이프 없애놓고 1+1 상품엔 둘둘···대형마트의 모순    천권필   \n",
       "4       news_r             이달 출시 제네시스 첫 SUV 살짝 공개···전문가들 \"예상대로\"    김영주   \n",
       "..         ...                                              ...    ...   \n",
       "995  narration              51006_DC_걸어서세계속으로006_2014007630.txt    KBS   \n",
       "996  narration              51007_DC_걸어서세계속으로007_2014007672.txt    KBS   \n",
       "997  narration              51007_DC_걸어서세계속으로007_2014007672.txt    KBS   \n",
       "998  narration              51007_DC_걸어서세계속으로007_2014007672.txt    KBS   \n",
       "999  narration              51007_DC_걸어서세계속으로007_2014007672.txt    KBS   \n",
       "\n",
       "    publisher                                            passage  \\\n",
       "0        중앙일보  보수진영 사분오열 속 ‘국민통합연대’ 띄운 비박계 크리스마스를 앞둔 지난 23일 오...   \n",
       "1        중앙일보  가난 속에서 맨손으로 혼자 창업해 30대 중반에 코스닥 상장까지 일궈낸 이가 있다....   \n",
       "2        중앙일보     SK텔레콤은 ‘T끼리 온가족 할인’ 요금제로, 가족 구성원의 가입 합산 기간이...   \n",
       "3        중앙일보  “박스 테이프는 어디 갔죠?” 1일 오전 서울 중구의 한 대형마트.\\n  장을 본 ...   \n",
       "4        중앙일보  현대차그룹 고급 브랜드 제네시스의 첫 스포츠유틸리티차량(SUV), GV80이 드디어...   \n",
       "..        ...                                                ...   \n",
       "995       KBS  한국과는 정반대다.\\n계절의 뒤바뀜을 느껴보는 것도 여행의 또 다른 재미다.\\n이곳...   \n",
       "996       KBS  1960년대부터는 중국의 박해를 피해 망명한 티베트인들이 이곳을 중심으로 네팔에 정...   \n",
       "997       KBS  포카라에서는 어느 곳에서나 안나푸르나 산 문을 볼 수 있다.\\n안나푸르나로 가는 길...   \n",
       "998       KBS  청년의 친절이 고마웠다.\\n주민들은 산비탈을 깎아 만든 계단식 밭에서 겨울에는 주로...   \n",
       "999       KBS  부모의 사랑을 받으며 커야 할 8살 나이에 아이가 짊어져야 하는 삶의 무게가 버거워...   \n",
       "\n",
       "                       passage_id  \n",
       "0       REPORT-news_r-00007-00001  \n",
       "1       REPORT-news_r-00018-00001  \n",
       "2       REPORT-news_r-00020-00002  \n",
       "3       REPORT-news_r-00024-00001  \n",
       "4       REPORT-news_r-00029-00001  \n",
       "..                            ...  \n",
       "995  REPORT-narration-51006-00019  \n",
       "996  REPORT-narration-51007-00003  \n",
       "997  REPORT-narration-51007-00004  \n",
       "998  REPORT-narration-51007-00007  \n",
       "999  REPORT-narration-51007-00009  \n",
       "\n",
       "[1000 rows x 6 columns]"
      ]
     },
     "execution_count": 5,
     "metadata": {},
     "output_type": "execute_result"
    }
   ],
   "source": [
    "%%time \n",
    "# Initialize an empty DataFrame\n",
    "df = pd.DataFrame(columns=[ \"doc_type\", \"doc_name\", \"author\", \"publisher\", \"passage\", \"passage_id\"])\n",
    "\n",
    "# Iterate over each JSON file\n",
    "for file_path in file_paths:\n",
    "    # Load the JSON file\n",
    "    with open(file_path, \"r\", encoding=\"utf-8\") as file:\n",
    "        json_data = json.load(file)\n",
    "    \n",
    "    # Extract the required information\n",
    "    doc_type = json_data[\"Meta(Acqusition)\"][\"doc_type\"]\n",
    "    doc_name = json_data[\"Meta(Acqusition)\"][\"doc_name\"]\n",
    "    #passage_Cnt = json_data[\"Meta(Refine)\"][\"passage_Cnt\"]\n",
    "    passage = json_data[\"Meta(Refine)\"][\"passage\"]\n",
    "    passage_id = json_data[\"Meta(Refine)\"][\"passage_id\"]\n",
    "    author = json_data[\"Meta(Acqusition)\"][\"author\"]\n",
    "    publisher = json_data[\"Meta(Acqusition)\"][\"publisher\"]\n",
    "\n",
    "    # Append a new row to the DataFrame\n",
    "    #train_data = train_data.append({\"doc_type\": doc_type, \"doc_name\": doc_name, \"passage_Cnt\": passage_Cnt, \"passage\": passage}, ignore_index=True)\n",
    "    df.loc[len(df)] = [doc_type,doc_name, author, publisher, passage,passage_id]\n",
    "    \n",
    "# Print the resulting DataFrame\n",
    "print(df.shape)\n",
    "df"
   ]
  },
  {
   "cell_type": "code",
   "execution_count": 6,
   "id": "1e9ca1d1-ec2e-4653-953e-150a5c9acac1",
   "metadata": {
    "tags": []
   },
   "outputs": [
    {
     "data": {
      "text/plain": [
       "author\n",
       "KBS    100\n",
       "김선영     25\n",
       "채만식     20\n",
       "김동인     12\n",
       "이효석     10\n",
       "      ... \n",
       "천권필      1\n",
       "박태인      1\n",
       "유지연      1\n",
       "하선영      1\n",
       "김효성      1\n",
       "Name: count, Length: 79, dtype: int64"
      ]
     },
     "execution_count": 6,
     "metadata": {},
     "output_type": "execute_result"
    }
   ],
   "source": [
    "df[\"author\"].value_counts()"
   ]
  },
  {
   "cell_type": "code",
   "execution_count": 7,
   "id": "6c11ce57-17a2-4564-9b35-f74b1fada63c",
   "metadata": {
    "tags": []
   },
   "outputs": [
    {
     "data": {
      "text/plain": [
       "publisher\n",
       "중앙일보    100\n",
       "KBS     100\n",
       "Name: count, dtype: int64"
      ]
     },
     "execution_count": 7,
     "metadata": {},
     "output_type": "execute_result"
    }
   ],
   "source": [
    "df[\"publisher\"].value_counts()"
   ]
  },
  {
   "cell_type": "code",
   "execution_count": 8,
   "id": "fb27fd43-40f0-42ef-b8d7-f00acc0eacbc",
   "metadata": {
    "tags": []
   },
   "outputs": [
    {
     "data": {
      "text/plain": [
       "doc_type        0\n",
       "doc_name        0\n",
       "author        700\n",
       "publisher     800\n",
       "passage         0\n",
       "passage_id      0\n",
       "dtype: int64"
      ]
     },
     "execution_count": 8,
     "metadata": {},
     "output_type": "execute_result"
    }
   ],
   "source": [
    "df.isnull().sum()"
   ]
  },
  {
   "cell_type": "code",
   "execution_count": null,
   "id": "6b2b81a6-9e87-49e3-9f13-bcd63847e167",
   "metadata": {},
   "outputs": [],
   "source": []
  },
  {
   "cell_type": "code",
   "execution_count": 9,
   "id": "855ab3f0-eb9b-4409-a99b-fe936b5c27ba",
   "metadata": {
    "tags": []
   },
   "outputs": [
    {
     "data": {
      "text/plain": [
       "150"
      ]
     },
     "execution_count": 9,
     "metadata": {},
     "output_type": "execute_result"
    }
   ],
   "source": [
    "# 2.0 Validation 검증용 세트\n",
    "vfolders = [\n",
    "    '01.news_r',\n",
    "    '02.briefing',\n",
    "    '03.his_cul',\n",
    "    '04.paper',\n",
    "    '05.minute',\n",
    "    '06.edit',\n",
    "    '07.public',\n",
    "    '08.speech',\n",
    "    '09.literature',\n",
    "    '10.narration'\n",
    "    \n",
    "]\n",
    "vfile_limit = 15\n",
    "vfile_paths = []\n",
    "\n",
    "for folder in vfolders:\n",
    "    folder_path = f'022.요약문 및 레포트 생성 데이터\\\\01.데이터\\\\2.Validation\\\\라벨링데이터\\\\VL1\\\\{folder}\\\\2~3sent\\\\*.json'\n",
    "    files = glob.glob(folder_path)[:vfile_limit]\n",
    "    vfile_paths.extend(files)\n",
    "\n",
    "# Print the resulting file paths\n",
    "#for file_path in file_paths:\n",
    "#    print(file_path)\n",
    "len(vfile_paths)"
   ]
  },
  {
   "cell_type": "code",
   "execution_count": 10,
   "id": "c6448ae9-eae1-4c27-8318-2a04571f8fc5",
   "metadata": {
    "tags": []
   },
   "outputs": [
    {
     "name": "stdout",
     "output_type": "stream",
     "text": [
      "(150, 6)\n",
      "CPU times: total: 93.8 ms\n",
      "Wall time: 124 ms\n"
     ]
    },
    {
     "data": {
      "text/html": [
       "<div>\n",
       "<style scoped>\n",
       "    .dataframe tbody tr th:only-of-type {\n",
       "        vertical-align: middle;\n",
       "    }\n",
       "\n",
       "    .dataframe tbody tr th {\n",
       "        vertical-align: top;\n",
       "    }\n",
       "\n",
       "    .dataframe thead th {\n",
       "        text-align: right;\n",
       "    }\n",
       "</style>\n",
       "<table border=\"1\" class=\"dataframe\">\n",
       "  <thead>\n",
       "    <tr style=\"text-align: right;\">\n",
       "      <th></th>\n",
       "      <th>doc_type</th>\n",
       "      <th>doc_name</th>\n",
       "      <th>author</th>\n",
       "      <th>publisher</th>\n",
       "      <th>passage</th>\n",
       "      <th>passage_id</th>\n",
       "    </tr>\n",
       "  </thead>\n",
       "  <tbody>\n",
       "    <tr>\n",
       "      <th>0</th>\n",
       "      <td>news_r</td>\n",
       "      <td>[마음 읽기] 새해의 첫 마음</td>\n",
       "      <td>KBS</td>\n",
       "      <td>KBS</td>\n",
       "      <td>새해가 밝았다.\\n  또 다른 한 해가 시작되었다.\\n  눈이 내린 하얀 설원이 앞...</td>\n",
       "      <td>REPORT-news_r-00003-00001</td>\n",
       "    </tr>\n",
       "    <tr>\n",
       "      <th>1</th>\n",
       "      <td>news_r</td>\n",
       "      <td>'남의 팔 가진 사나이' 3년의 행복···\"8월엔 아빠 됩니다\"</td>\n",
       "      <td>KBS</td>\n",
       "      <td>KBS</td>\n",
       "      <td>\"기다리던 새해가 밝았네요.\\n  올해 제가 드디어 아빠가 됩니다.\\n \" 국내에서...</td>\n",
       "      <td>REPORT-news_r-00015-00001</td>\n",
       "    </tr>\n",
       "    <tr>\n",
       "      <th>2</th>\n",
       "      <td>news_r</td>\n",
       "      <td>새 전략무기 언급한 김정은···\"조만간 전략잠수함 진수식 첩보\"</td>\n",
       "      <td>KBS</td>\n",
       "      <td>KBS</td>\n",
       "      <td>김정은 국무위원장이 지난달 28일부터 31일까지 열린 노동당 중앙위원회 전원회의 ...</td>\n",
       "      <td>REPORT-news_r-00028-00001</td>\n",
       "    </tr>\n",
       "    <tr>\n",
       "      <th>3</th>\n",
       "      <td>news_r</td>\n",
       "      <td>“경선 밀리신거냐” 그 말에···예비후보 벌써 등록한 현역 8명</td>\n",
       "      <td>KBS</td>\n",
       "      <td>KBS</td>\n",
       "      <td>신 의원은 \"총선에 제가 다시 도전한다는 의사표시로 예비후보를 등록했다\"고 말했다...</td>\n",
       "      <td>REPORT-news_r-00032-00002</td>\n",
       "    </tr>\n",
       "    <tr>\n",
       "      <th>4</th>\n",
       "      <td>news_r</td>\n",
       "      <td>손등에 칩 심고 결제하는 나라 스웨덴, 돌연 \"현금 지키자\" 왜</td>\n",
       "      <td>KBS</td>\n",
       "      <td>KBS</td>\n",
       "      <td>스웨덴에서는 지갑을 몸에 지니지 않아도 일상생활에 불편을 겪지 않는 이들이 있다.\\...</td>\n",
       "      <td>REPORT-news_r-00058-00001</td>\n",
       "    </tr>\n",
       "  </tbody>\n",
       "</table>\n",
       "</div>"
      ],
      "text/plain": [
       "  doc_type                             doc_name author publisher  \\\n",
       "0   news_r                     [마음 읽기] 새해의 첫 마음    KBS       KBS   \n",
       "1   news_r  '남의 팔 가진 사나이' 3년의 행복···\"8월엔 아빠 됩니다\"    KBS       KBS   \n",
       "2   news_r  새 전략무기 언급한 김정은···\"조만간 전략잠수함 진수식 첩보\"    KBS       KBS   \n",
       "3   news_r  “경선 밀리신거냐” 그 말에···예비후보 벌써 등록한 현역 8명    KBS       KBS   \n",
       "4   news_r  손등에 칩 심고 결제하는 나라 스웨덴, 돌연 \"현금 지키자\" 왜    KBS       KBS   \n",
       "\n",
       "                                             passage  \\\n",
       "0  새해가 밝았다.\\n  또 다른 한 해가 시작되었다.\\n  눈이 내린 하얀 설원이 앞...   \n",
       "1  \"기다리던 새해가 밝았네요.\\n  올해 제가 드디어 아빠가 됩니다.\\n \" 국내에서...   \n",
       "2   김정은 국무위원장이 지난달 28일부터 31일까지 열린 노동당 중앙위원회 전원회의 ...   \n",
       "3   신 의원은 \"총선에 제가 다시 도전한다는 의사표시로 예비후보를 등록했다\"고 말했다...   \n",
       "4  스웨덴에서는 지갑을 몸에 지니지 않아도 일상생활에 불편을 겪지 않는 이들이 있다.\\...   \n",
       "\n",
       "                  passage_id  \n",
       "0  REPORT-news_r-00003-00001  \n",
       "1  REPORT-news_r-00015-00001  \n",
       "2  REPORT-news_r-00028-00001  \n",
       "3  REPORT-news_r-00032-00002  \n",
       "4  REPORT-news_r-00058-00001  "
      ]
     },
     "execution_count": 10,
     "metadata": {},
     "output_type": "execute_result"
    }
   ],
   "source": [
    "%%time \n",
    "# Initialize an empty DataFrame\n",
    "dft= pd.DataFrame(columns=[ \"doc_type\", \"doc_name\", \"author\", \"publisher\", \"passage\", \"passage_id\"])\n",
    "\n",
    "# Iterate over each JSON file\n",
    "#print(file_paths)\n",
    "for file_path in vfile_paths:\n",
    "    # Load the JSON file\n",
    "    with open(file_path, \"r\", encoding=\"utf-8\") as file:\n",
    "        json_data = json.load(file)\n",
    "    \n",
    "    # Extract the required information\n",
    "    doc_type = json_data[\"Meta(Acqusition)\"][\"doc_type\"]\n",
    "    doc_name = json_data[\"Meta(Acqusition)\"][\"doc_name\"]\n",
    "    passage_id = json_data[\"Meta(Refine)\"][\"passage_id\"]\n",
    "    passage = json_data[\"Meta(Refine)\"][\"passage\"]\n",
    "\n",
    "     # Create a new DataFrame for the current row\n",
    "    #dft = pd.DataFrame({\"doc_type\": [doc_type],\"passage\": [passage]})\n",
    "    dft.loc[len(dft)] = [doc_type,doc_name, author, publisher, passage,passage_id]\n",
    "    # Append the new DataFrame to the list\n",
    "    #dft.append(dft)\n",
    "\n",
    "# Concatenate all DataFrames into a single DataFrame#\n",
    "#valid_data = pd.concat(dft, ignore_index=True)\n",
    "# Print the resulting DataFrame\n",
    "print(dft.shape)\n",
    "dft.head()"
   ]
  },
  {
   "cell_type": "markdown",
   "id": "8ba39126-2b01-4c5a-89d7-48815bcd45b4",
   "metadata": {},
   "source": [
    "### 2.3 전처리"
   ]
  },
  {
   "cell_type": "code",
   "execution_count": 11,
   "id": "d13422cd-dede-47e5-b4b7-0d4d0a4e06dd",
   "metadata": {
    "tags": []
   },
   "outputs": [],
   "source": [
    "import re\n",
    "from bs4 import BeautifulSoup\n",
    "from nltk.corpus import stopwords\n",
    "import nltk"
   ]
  },
  {
   "cell_type": "markdown",
   "id": "e254e7aa-631b-4387-8661-c90cc611c791",
   "metadata": {},
   "source": [
    "#### 2.3.1 데이터 정제"
   ]
  },
  {
   "cell_type": "code",
   "execution_count": 12,
   "id": "4d4d4385-3533-4f42-be2c-088a7e10144d",
   "metadata": {
    "tags": []
   },
   "outputs": [],
   "source": [
    "def preprocessing(text):\n",
    "    # 개행문자 제거\n",
    "    text = re.sub('\\n', ' ', text)\n",
    "    #text = re.sub('‘', '', text)\n",
    "    #text = re.sub('’', ' ', text)\n",
    "    # 특수문자 제거\n",
    "    # 특수문자나 이모티콘 등은 때로는 의미를 갖기도 하지만 여기에서는 제거했습니다.\n",
    "    # text = re.sub('[?.,;:|\\)*~`’!^\\-_+<>@\\#$%&-=#}※]', '', text)\n",
    "    # 한글, 영문, 숫자만 남기고 모두 제거하도록 합니다.\n",
    "    #text = re.sub('[^가-힣ㄱ-ㅎㅏ-ㅣa-zA-Z0-9]', ' ', text)\n",
    "    # 한글, 영문만 남기고 모두 제거하도록 합니다.\n",
    "    text = re.sub('[^가-힣ㄱ-ㅎㅏ-ㅣa-zA-Z]', ' ', text)\n",
    "    # 중복으로 생성된 공백값을 제거합니다.\n",
    "    text = re.sub(' +', ' ', text)\n",
    "    return text"
   ]
  },
  {
   "cell_type": "code",
   "execution_count": 16,
   "id": "7ad90efc-da40-4bac-b9e1-56e2775e9475",
   "metadata": {
    "tags": []
   },
   "outputs": [
    {
     "name": "stdout",
     "output_type": "stream",
     "text": [
      "CPU times: total: 31.2 ms\n",
      "Wall time: 75.7 ms\n"
     ]
    }
   ],
   "source": [
    "%time df['content_preprocessing'] = df['passage'].apply(preprocessing)"
   ]
  },
  {
   "cell_type": "markdown",
   "id": "261e939b-f58d-4f10-a0fd-3e59ae0bad42",
   "metadata": {
    "tags": []
   },
   "source": [
    "#### 2.3.2. 불용어 제거"
   ]
  },
  {
   "cell_type": "code",
   "execution_count": 14,
   "id": "c76c03f5-3615-4673-b890-cef47deb931e",
   "metadata": {
    "tags": []
   },
   "outputs": [],
   "source": [
    "# 불용어 제거\n",
    "def remove_stopwords(text):\n",
    "    tokens = text.split(' ')\n",
    "    stops = ['수', '현', '있는', '있습니다', '그', '년도', '합니다', '하는', \n",
    "             '및', '제', '할', '하고', '더', '대한', '한', '그리고', '월', \n",
    "             '저는', '없는', '입니다', '등', '일', '많은', '이런', '것은', \n",
    "             '왜','같은', '같습니다', '없습니다', '위해', '한다', \n",
    "             '여명', '이다', '에', '고', '란', '는', '그래도', '개에', '개인데', '일엔']\n",
    "    meaningful_words = [w for w in tokens if not w in stops]\n",
    "    return ' '.join(meaningful_words)"
   ]
  },
  {
   "cell_type": "code",
   "execution_count": 19,
   "id": "7f2e9f18-5d03-44fa-b9aa-d7dc36d163d5",
   "metadata": {
    "tags": []
   },
   "outputs": [
    {
     "name": "stdout",
     "output_type": "stream",
     "text": [
      "CPU times: total: 31.2 ms\n",
      "Wall time: 81.8 ms\n"
     ]
    },
    {
     "data": {
      "text/html": [
       "<div>\n",
       "<style scoped>\n",
       "    .dataframe tbody tr th:only-of-type {\n",
       "        vertical-align: middle;\n",
       "    }\n",
       "\n",
       "    .dataframe tbody tr th {\n",
       "        vertical-align: top;\n",
       "    }\n",
       "\n",
       "    .dataframe thead th {\n",
       "        text-align: right;\n",
       "    }\n",
       "</style>\n",
       "<table border=\"1\" class=\"dataframe\">\n",
       "  <thead>\n",
       "    <tr style=\"text-align: right;\">\n",
       "      <th></th>\n",
       "      <th>doc_type</th>\n",
       "      <th>doc_name</th>\n",
       "      <th>author</th>\n",
       "      <th>publisher</th>\n",
       "      <th>passage</th>\n",
       "      <th>passage_id</th>\n",
       "      <th>content_preprocessing</th>\n",
       "      <th>content_preprocessed</th>\n",
       "    </tr>\n",
       "  </thead>\n",
       "  <tbody>\n",
       "    <tr>\n",
       "      <th>0</th>\n",
       "      <td>news_r</td>\n",
       "      <td>[최상연 논설위원이 간다] 이재오 “무반성 한국당, 무능 지도부…이대론 총선 어렵다”</td>\n",
       "      <td>김선영</td>\n",
       "      <td>중앙일보</td>\n",
       "      <td>보수진영 사분오열 속 ‘국민통합연대’ 띄운 비박계 크리스마스를 앞둔 지난 23일 오...</td>\n",
       "      <td>REPORT-news_r-00007-00001</td>\n",
       "      <td>보수진영 사분오열 속 국민통합연대 띄운 비박계 크리스마스를 앞둔 지난 일 오전 서울...</td>\n",
       "      <td>보수진영 사분오열 속 국민통합연대 띄운 비박계 크리스마스를 앞둔 지난 오전 서울 프...</td>\n",
       "    </tr>\n",
       "    <tr>\n",
       "      <th>1</th>\n",
       "      <td>news_r</td>\n",
       "      <td>26세에 14억 빚 얻은 청년, 8년만에 연매출 183억 비결은?</td>\n",
       "      <td>이수기</td>\n",
       "      <td>중앙일보</td>\n",
       "      <td>가난 속에서 맨손으로 혼자 창업해 30대 중반에 코스닥 상장까지 일궈낸 이가 있다....</td>\n",
       "      <td>REPORT-news_r-00018-00001</td>\n",
       "      <td>가난 속에서 맨손으로 혼자 창업해 대 중반에 코스닥 상장까지 일궈낸 이가 있다 지난...</td>\n",
       "      <td>가난 속에서 맨손으로 혼자 창업해 대 중반에 코스닥 상장까지 일궈낸 이가 있다 지난...</td>\n",
       "    </tr>\n",
       "    <tr>\n",
       "      <th>2</th>\n",
       "      <td>news_r</td>\n",
       "      <td>이통사 장기 가입자 혜택 비교해 보니…VIP일까, 호갱일까</td>\n",
       "      <td>박형수</td>\n",
       "      <td>중앙일보</td>\n",
       "      <td>SK텔레콤은 ‘T끼리 온가족 할인’ 요금제로, 가족 구성원의 가입 합산 기간이...</td>\n",
       "      <td>REPORT-news_r-00020-00002</td>\n",
       "      <td>SK텔레콤은 T끼리 온가족 할인 요금제로 가족 구성원의 가입 합산 기간이 년을 넘...</td>\n",
       "      <td>SK텔레콤은 T끼리 온가족 할인 요금제로 가족 구성원의 가입 합산 기간이 년을 넘...</td>\n",
       "    </tr>\n",
       "    <tr>\n",
       "      <th>3</th>\n",
       "      <td>news_r</td>\n",
       "      <td>자율포장 테이프 없애놓고 1+1 상품엔 둘둘···대형마트의 모순</td>\n",
       "      <td>천권필</td>\n",
       "      <td>중앙일보</td>\n",
       "      <td>“박스 테이프는 어디 갔죠?” 1일 오전 서울 중구의 한 대형마트.\\n  장을 본 ...</td>\n",
       "      <td>REPORT-news_r-00024-00001</td>\n",
       "      <td>박스 테이프는 어디 갔죠 일 오전 서울 중구의 한 대형마트 장을 본 사람들이 자율...</td>\n",
       "      <td>박스 테이프는 어디 갔죠 오전 서울 중구의 대형마트 장을 본 사람들이 자율포장대 ...</td>\n",
       "    </tr>\n",
       "    <tr>\n",
       "      <th>4</th>\n",
       "      <td>news_r</td>\n",
       "      <td>이달 출시 제네시스 첫 SUV 살짝 공개···전문가들 \"예상대로\"</td>\n",
       "      <td>김영주</td>\n",
       "      <td>중앙일보</td>\n",
       "      <td>현대차그룹 고급 브랜드 제네시스의 첫 스포츠유틸리티차량(SUV), GV80이 드디어...</td>\n",
       "      <td>REPORT-news_r-00029-00001</td>\n",
       "      <td>현대차그룹 고급 브랜드 제네시스의 첫 스포츠유틸리티차량 SUV GV 이 드디어 모습...</td>\n",
       "      <td>현대차그룹 고급 브랜드 제네시스의 첫 스포츠유틸리티차량 SUV GV 이 드디어 모습...</td>\n",
       "    </tr>\n",
       "  </tbody>\n",
       "</table>\n",
       "</div>"
      ],
      "text/plain": [
       "  doc_type                                         doc_name author publisher  \\\n",
       "0   news_r  [최상연 논설위원이 간다] 이재오 “무반성 한국당, 무능 지도부…이대론 총선 어렵다”    김선영      중앙일보   \n",
       "1   news_r             26세에 14억 빚 얻은 청년, 8년만에 연매출 183억 비결은?    이수기      중앙일보   \n",
       "2   news_r                 이통사 장기 가입자 혜택 비교해 보니…VIP일까, 호갱일까    박형수      중앙일보   \n",
       "3   news_r              자율포장 테이프 없애놓고 1+1 상품엔 둘둘···대형마트의 모순    천권필      중앙일보   \n",
       "4   news_r             이달 출시 제네시스 첫 SUV 살짝 공개···전문가들 \"예상대로\"    김영주      중앙일보   \n",
       "\n",
       "                                             passage  \\\n",
       "0  보수진영 사분오열 속 ‘국민통합연대’ 띄운 비박계 크리스마스를 앞둔 지난 23일 오...   \n",
       "1  가난 속에서 맨손으로 혼자 창업해 30대 중반에 코스닥 상장까지 일궈낸 이가 있다....   \n",
       "2     SK텔레콤은 ‘T끼리 온가족 할인’ 요금제로, 가족 구성원의 가입 합산 기간이...   \n",
       "3  “박스 테이프는 어디 갔죠?” 1일 오전 서울 중구의 한 대형마트.\\n  장을 본 ...   \n",
       "4  현대차그룹 고급 브랜드 제네시스의 첫 스포츠유틸리티차량(SUV), GV80이 드디어...   \n",
       "\n",
       "                  passage_id  \\\n",
       "0  REPORT-news_r-00007-00001   \n",
       "1  REPORT-news_r-00018-00001   \n",
       "2  REPORT-news_r-00020-00002   \n",
       "3  REPORT-news_r-00024-00001   \n",
       "4  REPORT-news_r-00029-00001   \n",
       "\n",
       "                               content_preprocessing  \\\n",
       "0  보수진영 사분오열 속 국민통합연대 띄운 비박계 크리스마스를 앞둔 지난 일 오전 서울...   \n",
       "1  가난 속에서 맨손으로 혼자 창업해 대 중반에 코스닥 상장까지 일궈낸 이가 있다 지난...   \n",
       "2   SK텔레콤은 T끼리 온가족 할인 요금제로 가족 구성원의 가입 합산 기간이 년을 넘...   \n",
       "3   박스 테이프는 어디 갔죠 일 오전 서울 중구의 한 대형마트 장을 본 사람들이 자율...   \n",
       "4  현대차그룹 고급 브랜드 제네시스의 첫 스포츠유틸리티차량 SUV GV 이 드디어 모습...   \n",
       "\n",
       "                                content_preprocessed  \n",
       "0  보수진영 사분오열 속 국민통합연대 띄운 비박계 크리스마스를 앞둔 지난 오전 서울 프...  \n",
       "1  가난 속에서 맨손으로 혼자 창업해 대 중반에 코스닥 상장까지 일궈낸 이가 있다 지난...  \n",
       "2   SK텔레콤은 T끼리 온가족 할인 요금제로 가족 구성원의 가입 합산 기간이 년을 넘...  \n",
       "3   박스 테이프는 어디 갔죠 오전 서울 중구의 대형마트 장을 본 사람들이 자율포장대 ...  \n",
       "4  현대차그룹 고급 브랜드 제네시스의 첫 스포츠유틸리티차량 SUV GV 이 드디어 모습...  "
      ]
     },
     "execution_count": 19,
     "metadata": {},
     "output_type": "execute_result"
    }
   ],
   "source": [
    "%time df['content_preprocessed'] = df['content_preprocessing'].apply(remove_stopwords)\n",
    "df.head()"
   ]
  },
  {
   "cell_type": "code",
   "execution_count": 20,
   "id": "2a4ce57c-1dfc-4aa0-84f0-5a172122204f",
   "metadata": {
    "tags": []
   },
   "outputs": [
    {
     "name": "stdout",
     "output_type": "stream",
     "text": [
      "CPU times: total: 0 ns\n",
      "Wall time: 10.8 ms\n",
      "CPU times: total: 0 ns\n",
      "Wall time: 10.1 ms\n"
     ]
    }
   ],
   "source": [
    "##validation\n",
    "%time dft['content_preprocessing'] = dft['passage'].apply(preprocessing)\n",
    "%time dft['content_preprocessed'] = dft['content_preprocessing'].apply(remove_stopwords)"
   ]
  },
  {
   "cell_type": "code",
   "execution_count": 21,
   "id": "44c6728e-c609-4159-b789-39a73da0f1cd",
   "metadata": {
    "tags": []
   },
   "outputs": [
    {
     "data": {
      "text/html": [
       "<div>\n",
       "<style scoped>\n",
       "    .dataframe tbody tr th:only-of-type {\n",
       "        vertical-align: middle;\n",
       "    }\n",
       "\n",
       "    .dataframe tbody tr th {\n",
       "        vertical-align: top;\n",
       "    }\n",
       "\n",
       "    .dataframe thead th {\n",
       "        text-align: right;\n",
       "    }\n",
       "</style>\n",
       "<table border=\"1\" class=\"dataframe\">\n",
       "  <thead>\n",
       "    <tr style=\"text-align: right;\">\n",
       "      <th></th>\n",
       "      <th>doc_type</th>\n",
       "      <th>doc_name</th>\n",
       "      <th>author</th>\n",
       "      <th>publisher</th>\n",
       "      <th>passage</th>\n",
       "      <th>passage_id</th>\n",
       "      <th>content_preprocessing</th>\n",
       "      <th>content_preprocessed</th>\n",
       "    </tr>\n",
       "  </thead>\n",
       "  <tbody>\n",
       "    <tr>\n",
       "      <th>0</th>\n",
       "      <td>news_r</td>\n",
       "      <td>[마음 읽기] 새해의 첫 마음</td>\n",
       "      <td>KBS</td>\n",
       "      <td>KBS</td>\n",
       "      <td>새해가 밝았다.\\n  또 다른 한 해가 시작되었다.\\n  눈이 내린 하얀 설원이 앞...</td>\n",
       "      <td>REPORT-news_r-00003-00001</td>\n",
       "      <td>새해가 밝았다 또 다른 한 해가 시작되었다 눈이 내린 하얀 설원이 앞에 펼쳐져 있는...</td>\n",
       "      <td>새해가 밝았다 또 다른 해가 시작되었다 눈이 내린 하얀 설원이 앞에 펼쳐져 느낌이다...</td>\n",
       "    </tr>\n",
       "    <tr>\n",
       "      <th>1</th>\n",
       "      <td>news_r</td>\n",
       "      <td>'남의 팔 가진 사나이' 3년의 행복···\"8월엔 아빠 됩니다\"</td>\n",
       "      <td>KBS</td>\n",
       "      <td>KBS</td>\n",
       "      <td>\"기다리던 새해가 밝았네요.\\n  올해 제가 드디어 아빠가 됩니다.\\n \" 국내에서...</td>\n",
       "      <td>REPORT-news_r-00015-00001</td>\n",
       "      <td>기다리던 새해가 밝았네요 올해 제가 드디어 아빠가 됩니다 국내에서 처음으로 남의 ...</td>\n",
       "      <td>기다리던 새해가 밝았네요 올해 제가 드디어 아빠가 됩니다 국내에서 처음으로 남의 ...</td>\n",
       "    </tr>\n",
       "    <tr>\n",
       "      <th>2</th>\n",
       "      <td>news_r</td>\n",
       "      <td>새 전략무기 언급한 김정은···\"조만간 전략잠수함 진수식 첩보\"</td>\n",
       "      <td>KBS</td>\n",
       "      <td>KBS</td>\n",
       "      <td>김정은 국무위원장이 지난달 28일부터 31일까지 열린 노동당 중앙위원회 전원회의 ...</td>\n",
       "      <td>REPORT-news_r-00028-00001</td>\n",
       "      <td>김정은 국무위원장이 지난달 일부터 일까지 열린 노동당 중앙위원회 전원회의 보고에서...</td>\n",
       "      <td>김정은 국무위원장이 지난달 일부터 일까지 열린 노동당 중앙위원회 전원회의 보고에서...</td>\n",
       "    </tr>\n",
       "    <tr>\n",
       "      <th>3</th>\n",
       "      <td>news_r</td>\n",
       "      <td>“경선 밀리신거냐” 그 말에···예비후보 벌써 등록한 현역 8명</td>\n",
       "      <td>KBS</td>\n",
       "      <td>KBS</td>\n",
       "      <td>신 의원은 \"총선에 제가 다시 도전한다는 의사표시로 예비후보를 등록했다\"고 말했다...</td>\n",
       "      <td>REPORT-news_r-00032-00002</td>\n",
       "      <td>신 의원은 총선에 제가 다시 도전한다는 의사표시로 예비후보를 등록했다 고 말했다 ...</td>\n",
       "      <td>신 의원은 총선에 제가 다시 도전한다는 의사표시로 예비후보를 등록했다 말했다 다른...</td>\n",
       "    </tr>\n",
       "    <tr>\n",
       "      <th>4</th>\n",
       "      <td>news_r</td>\n",
       "      <td>손등에 칩 심고 결제하는 나라 스웨덴, 돌연 \"현금 지키자\" 왜</td>\n",
       "      <td>KBS</td>\n",
       "      <td>KBS</td>\n",
       "      <td>스웨덴에서는 지갑을 몸에 지니지 않아도 일상생활에 불편을 겪지 않는 이들이 있다.\\...</td>\n",
       "      <td>REPORT-news_r-00058-00001</td>\n",
       "      <td>스웨덴에서는 지갑을 몸에 지니지 않아도 일상생활에 불편을 겪지 않는 이들이 있다 엄...</td>\n",
       "      <td>스웨덴에서는 지갑을 몸에 지니지 않아도 일상생활에 불편을 겪지 않는 이들이 있다 엄...</td>\n",
       "    </tr>\n",
       "  </tbody>\n",
       "</table>\n",
       "</div>"
      ],
      "text/plain": [
       "  doc_type                             doc_name author publisher  \\\n",
       "0   news_r                     [마음 읽기] 새해의 첫 마음    KBS       KBS   \n",
       "1   news_r  '남의 팔 가진 사나이' 3년의 행복···\"8월엔 아빠 됩니다\"    KBS       KBS   \n",
       "2   news_r  새 전략무기 언급한 김정은···\"조만간 전략잠수함 진수식 첩보\"    KBS       KBS   \n",
       "3   news_r  “경선 밀리신거냐” 그 말에···예비후보 벌써 등록한 현역 8명    KBS       KBS   \n",
       "4   news_r  손등에 칩 심고 결제하는 나라 스웨덴, 돌연 \"현금 지키자\" 왜    KBS       KBS   \n",
       "\n",
       "                                             passage  \\\n",
       "0  새해가 밝았다.\\n  또 다른 한 해가 시작되었다.\\n  눈이 내린 하얀 설원이 앞...   \n",
       "1  \"기다리던 새해가 밝았네요.\\n  올해 제가 드디어 아빠가 됩니다.\\n \" 국내에서...   \n",
       "2   김정은 국무위원장이 지난달 28일부터 31일까지 열린 노동당 중앙위원회 전원회의 ...   \n",
       "3   신 의원은 \"총선에 제가 다시 도전한다는 의사표시로 예비후보를 등록했다\"고 말했다...   \n",
       "4  스웨덴에서는 지갑을 몸에 지니지 않아도 일상생활에 불편을 겪지 않는 이들이 있다.\\...   \n",
       "\n",
       "                  passage_id  \\\n",
       "0  REPORT-news_r-00003-00001   \n",
       "1  REPORT-news_r-00015-00001   \n",
       "2  REPORT-news_r-00028-00001   \n",
       "3  REPORT-news_r-00032-00002   \n",
       "4  REPORT-news_r-00058-00001   \n",
       "\n",
       "                               content_preprocessing  \\\n",
       "0  새해가 밝았다 또 다른 한 해가 시작되었다 눈이 내린 하얀 설원이 앞에 펼쳐져 있는...   \n",
       "1   기다리던 새해가 밝았네요 올해 제가 드디어 아빠가 됩니다 국내에서 처음으로 남의 ...   \n",
       "2   김정은 국무위원장이 지난달 일부터 일까지 열린 노동당 중앙위원회 전원회의 보고에서...   \n",
       "3   신 의원은 총선에 제가 다시 도전한다는 의사표시로 예비후보를 등록했다 고 말했다 ...   \n",
       "4  스웨덴에서는 지갑을 몸에 지니지 않아도 일상생활에 불편을 겪지 않는 이들이 있다 엄...   \n",
       "\n",
       "                                content_preprocessed  \n",
       "0  새해가 밝았다 또 다른 해가 시작되었다 눈이 내린 하얀 설원이 앞에 펼쳐져 느낌이다...  \n",
       "1   기다리던 새해가 밝았네요 올해 제가 드디어 아빠가 됩니다 국내에서 처음으로 남의 ...  \n",
       "2   김정은 국무위원장이 지난달 일부터 일까지 열린 노동당 중앙위원회 전원회의 보고에서...  \n",
       "3   신 의원은 총선에 제가 다시 도전한다는 의사표시로 예비후보를 등록했다 말했다 다른...  \n",
       "4  스웨덴에서는 지갑을 몸에 지니지 않아도 일상생활에 불편을 겪지 않는 이들이 있다 엄...  "
      ]
     },
     "execution_count": 21,
     "metadata": {},
     "output_type": "execute_result"
    }
   ],
   "source": [
    "#df_valid = valid_data.drop(columns=['passage', 'content_preprocessing'])\n",
    "dft.head()"
   ]
  },
  {
   "cell_type": "markdown",
   "id": "1cc6889e-833f-402c-9c4c-c3f773bd4614",
   "metadata": {},
   "source": [
    "#### 2.3.3 문장 분리"
   ]
  },
  {
   "cell_type": "code",
   "execution_count": null,
   "id": "a36d9fda-d890-481e-a1f3-6ee732d47ea6",
   "metadata": {
    "tags": []
   },
   "outputs": [],
   "source": [
    "import kss\n"
   ]
  },
  {
   "cell_type": "code",
   "execution_count": null,
   "id": "000848f1-9901-4fb9-975f-3c31159146a0",
   "metadata": {
    "tags": []
   },
   "outputs": [],
   "source": [
    "df['content_preprocessed']"
   ]
  },
  {
   "cell_type": "code",
   "execution_count": null,
   "id": "69fafca2-af84-489f-bc07-34245e12c1be",
   "metadata": {
    "tags": []
   },
   "outputs": [],
   "source": [
    "sents=[]\n",
    "for sent in df['content_preprocessed'][:3]:\n",
    "    sent = sent.strip()\n",
    "    if sent:\n",
    "        splited_sentence = kss.split_sentences(sent)\n",
    "        sents.extend(splited_sentence)\n",
    "    \n",
    "sents"
   ]
  },
  {
   "cell_type": "markdown",
   "id": "7ef03516-782b-4de6-b7fe-b71591ef4e11",
   "metadata": {
    "tags": []
   },
   "source": [
    "### 2.4 TF-IDF Vectorizing"
   ]
  },
  {
   "cell_type": "markdown",
   "id": "c710b5e4-3bf8-423d-9437-17dbff48a157",
   "metadata": {},
   "source": [
    "* 데이터에 대해 TF-IDF 값으로 벡터화를 진행한다.\n",
    "* min_df : 설정한 값보다 특정 Token의 df 값이 더 적게 나오면 벡터화 과정에서 제거\n",
    "* anlayzer : 분석 단위를 의미, ‘word’의 경우 간어 하나를 단위로, ‘char’는 문자 하나를 단위로\n",
    "* sublinear_tf : 문서의 단어 빈도수(tf:term frequency)에 대한 smoothing 여부를 설정\n",
    "* ngram_range : 빈도의 기본 단위를 어떤 범위의 n-gram으로 설정할 것인지를 보는 인자\n",
    "* max_features : 각 벡터의 최대 길이(특징의 길이)를 설정"
   ]
  },
  {
   "cell_type": "markdown",
   "id": "a0c52c00-b783-4541-80f7-f8ec8d8f1ba6",
   "metadata": {},
   "source": [
    "#### 2.4 학습, 시험 데이터 세트 분리\n",
    "\n",
    "학습 데이터 세트와 시험 데이터 세트로 다시 분리한다. 정닶값인 doc_type 값 여부에 따라 데이터를 나눌 수 있다."
   ]
  },
  {
   "cell_type": "code",
   "execution_count": 22,
   "id": "53cffab0-105e-4b24-ad99-4180e42e2c27",
   "metadata": {
    "tags": []
   },
   "outputs": [
    {
     "data": {
      "text/plain": [
       "700"
      ]
     },
     "execution_count": 22,
     "metadata": {},
     "output_type": "execute_result"
    }
   ],
   "source": [
    "#데이터를 나누는 기준을 구함\n",
    "split_count = int(df.shape[0]*0.7)\n",
    "split_count"
   ]
  },
  {
   "cell_type": "code",
   "execution_count": 64,
   "id": "032f74ca-f900-4679-a214-f3bf9c30dddb",
   "metadata": {
    "tags": []
   },
   "outputs": [
    {
     "data": {
      "text/html": [
       "<div>\n",
       "<style scoped>\n",
       "    .dataframe tbody tr th:only-of-type {\n",
       "        vertical-align: middle;\n",
       "    }\n",
       "\n",
       "    .dataframe tbody tr th {\n",
       "        vertical-align: top;\n",
       "    }\n",
       "\n",
       "    .dataframe thead th {\n",
       "        text-align: right;\n",
       "    }\n",
       "</style>\n",
       "<table border=\"1\" class=\"dataframe\">\n",
       "  <thead>\n",
       "    <tr style=\"text-align: right;\">\n",
       "      <th></th>\n",
       "      <th>doc_type</th>\n",
       "      <th>doc_name</th>\n",
       "      <th>author</th>\n",
       "      <th>publisher</th>\n",
       "      <th>passage</th>\n",
       "      <th>passage_id</th>\n",
       "      <th>content_preprocessing</th>\n",
       "      <th>content_preprocessed</th>\n",
       "    </tr>\n",
       "  </thead>\n",
       "  <tbody>\n",
       "    <tr>\n",
       "      <th>73</th>\n",
       "      <td>minute</td>\n",
       "      <td>제19대 국회 교육과학기술위원회 회의록 데이터셋_16481.csv</td>\n",
       "      <td>KBS</td>\n",
       "      <td>KBS</td>\n",
       "      <td>위원장 신학용] \"수고하셨습니다.   유기홍 위원님 마지막 질의해 주시기 바랍니다....</td>\n",
       "      <td>REPORT-minute-00001-00856</td>\n",
       "      <td>위원장 신학용 수고하셨습니다 유기홍 위원님 마지막 질의해 주시기 바랍니다 유기홍 위...</td>\n",
       "      <td>위원장 신학용 수고하셨습니다 유기홍 위원님 마지막 질의해 주시기 바랍니다 유기홍 위...</td>\n",
       "    </tr>\n",
       "    <tr>\n",
       "      <th>18</th>\n",
       "      <td>briefing</td>\n",
       "      <td>(보도자료) 대형특수소방차 여성 기관원 증가.hwp</td>\n",
       "      <td>KBS</td>\n",
       "      <td>KBS</td>\n",
       "      <td>소방청(청장 정문호)은 전국적으로 48명의 여성 소방공무원이 대형특수소방차 운전요...</td>\n",
       "      <td>REPORT-briefing-51310-00001</td>\n",
       "      <td>소방청 청장 정문호 은 전국적으로 명의 여성 소방공무원이 대형특수소방차 운전요원으...</td>\n",
       "      <td>소방청 청장 정문호 은 전국적으로 명의 여성 소방공무원이 대형특수소방차 운전요원으...</td>\n",
       "    </tr>\n",
       "    <tr>\n",
       "      <th>118</th>\n",
       "      <td>speech</td>\n",
       "      <td>속기자료 13쪽 (2).hwp</td>\n",
       "      <td>KBS</td>\n",
       "      <td>KBS</td>\n",
       "      <td>&lt;강성천 중소벤처기업부 차관&gt; 중소벤처기업부 차관입니다. 바이오 산업은 4차 산업의...</td>\n",
       "      <td>REPORT-speech-00094-00001</td>\n",
       "      <td>강성천 중소벤처기업부 차관 중소벤처기업부 차관입니다 바이오 산업은 차 산업의 가장...</td>\n",
       "      <td>강성천 중소벤처기업부 차관 중소벤처기업부 차관입니다 바이오 산업은 차 산업의 가장...</td>\n",
       "    </tr>\n",
       "    <tr>\n",
       "      <th>78</th>\n",
       "      <td>edit</td>\n",
       "      <td>【서봉대의 ‘되짚기’】 대선 후보경선, 결선까지 갈까? 역전 가능성은...</td>\n",
       "      <td>KBS</td>\n",
       "      <td>KBS</td>\n",
       "      <td>이번 대선에서 결선투표가 이뤄질 수 있을까? 결선투표를 대선 본선에서 실시하는 건 ...</td>\n",
       "      <td>REPORT-edit-00028-00001</td>\n",
       "      <td>이번 대선에서 결선투표가 이뤄질 수 있을까 결선투표를 대선 본선에서 실시하는 건 개...</td>\n",
       "      <td>이번 대선에서 결선투표가 이뤄질 있을까 결선투표를 대선 본선에서 실시하는 건 개헌사...</td>\n",
       "    </tr>\n",
       "    <tr>\n",
       "      <th>76</th>\n",
       "      <td>edit</td>\n",
       "      <td>【이상곤의 ‘흐름’】 윤석열 검찰의 고발사주 의혹? “이번에도 작전 들어갔나”</td>\n",
       "      <td>KBS</td>\n",
       "      <td>KBS</td>\n",
       "      <td>이번에는 윤석열 검찰이 작년 총선을 코앞에 두고 유시민과 최강욱.이번엔 비교적 신생...</td>\n",
       "      <td>REPORT-edit-00020-00002</td>\n",
       "      <td>이번에는 윤석열 검찰이 작년 총선을 코앞에 두고 유시민과 최강욱 이번엔 비교적 신생...</td>\n",
       "      <td>이번에는 윤석열 검찰이 작년 총선을 코앞에 두고 유시민과 최강욱 이번엔 비교적 신생...</td>\n",
       "    </tr>\n",
       "  </tbody>\n",
       "</table>\n",
       "</div>"
      ],
      "text/plain": [
       "     doc_type                                     doc_name author publisher  \\\n",
       "73     minute         제19대 국회 교육과학기술위원회 회의록 데이터셋_16481.csv    KBS       KBS   \n",
       "18   briefing                 (보도자료) 대형특수소방차 여성 기관원 증가.hwp    KBS       KBS   \n",
       "118    speech                             속기자료 13쪽 (2).hwp    KBS       KBS   \n",
       "78       edit    【서봉대의 ‘되짚기’】 대선 후보경선, 결선까지 갈까? 역전 가능성은...    KBS       KBS   \n",
       "76       edit  【이상곤의 ‘흐름’】 윤석열 검찰의 고발사주 의혹? “이번에도 작전 들어갔나”    KBS       KBS   \n",
       "\n",
       "                                               passage  \\\n",
       "73   위원장 신학용] \"수고하셨습니다.   유기홍 위원님 마지막 질의해 주시기 바랍니다....   \n",
       "18    소방청(청장 정문호)은 전국적으로 48명의 여성 소방공무원이 대형특수소방차 운전요...   \n",
       "118  <강성천 중소벤처기업부 차관> 중소벤처기업부 차관입니다. 바이오 산업은 4차 산업의...   \n",
       "78   이번 대선에서 결선투표가 이뤄질 수 있을까? 결선투표를 대선 본선에서 실시하는 건 ...   \n",
       "76   이번에는 윤석열 검찰이 작년 총선을 코앞에 두고 유시민과 최강욱.이번엔 비교적 신생...   \n",
       "\n",
       "                      passage_id  \\\n",
       "73     REPORT-minute-00001-00856   \n",
       "18   REPORT-briefing-51310-00001   \n",
       "118    REPORT-speech-00094-00001   \n",
       "78       REPORT-edit-00028-00001   \n",
       "76       REPORT-edit-00020-00002   \n",
       "\n",
       "                                 content_preprocessing  \\\n",
       "73   위원장 신학용 수고하셨습니다 유기홍 위원님 마지막 질의해 주시기 바랍니다 유기홍 위...   \n",
       "18    소방청 청장 정문호 은 전국적으로 명의 여성 소방공무원이 대형특수소방차 운전요원으...   \n",
       "118   강성천 중소벤처기업부 차관 중소벤처기업부 차관입니다 바이오 산업은 차 산업의 가장...   \n",
       "78   이번 대선에서 결선투표가 이뤄질 수 있을까 결선투표를 대선 본선에서 실시하는 건 개...   \n",
       "76   이번에는 윤석열 검찰이 작년 총선을 코앞에 두고 유시민과 최강욱 이번엔 비교적 신생...   \n",
       "\n",
       "                                  content_preprocessed  \n",
       "73   위원장 신학용 수고하셨습니다 유기홍 위원님 마지막 질의해 주시기 바랍니다 유기홍 위...  \n",
       "18    소방청 청장 정문호 은 전국적으로 명의 여성 소방공무원이 대형특수소방차 운전요원으...  \n",
       "118   강성천 중소벤처기업부 차관 중소벤처기업부 차관입니다 바이오 산업은 차 산업의 가장...  \n",
       "78   이번 대선에서 결선투표가 이뤄질 있을까 결선투표를 대선 본선에서 실시하는 건 개헌사...  \n",
       "76   이번에는 윤석열 검찰이 작년 총선을 코앞에 두고 유시민과 최강욱 이번엔 비교적 신생...  "
      ]
     },
     "execution_count": 64,
     "metadata": {},
     "output_type": "execute_result"
    }
   ],
   "source": [
    "# Shuffle the data randomly\n",
    "shuffled_df = df.sample(frac=1, random_state=42)\n",
    "shuffled_dft = dft.sample(frac=1, random_state=42)\n",
    "shuffled_df.head()\n",
    "shuffled_dft.head()"
   ]
  },
  {
   "cell_type": "code",
   "execution_count": 24,
   "id": "4bf8e483-c6ad-4949-adac-ff78588f01ba",
   "metadata": {
    "tags": []
   },
   "outputs": [
    {
     "data": {
      "text/plain": [
       "(700, 8)"
      ]
     },
     "execution_count": 24,
     "metadata": {},
     "output_type": "execute_result"
    }
   ],
   "source": [
    "#학습세트 만들기\n",
    "df_train = shuffled_df[:split_count].copy()\n",
    "df_train.shape\n",
    "#df_train.head()"
   ]
  },
  {
   "cell_type": "code",
   "execution_count": 25,
   "id": "fdaa1808-1b33-44ac-88cd-62f918da1ebc",
   "metadata": {
    "tags": []
   },
   "outputs": [
    {
     "data": {
      "text/plain": [
       "(300, 8)"
      ]
     },
     "execution_count": 25,
     "metadata": {},
     "output_type": "execute_result"
    }
   ],
   "source": [
    "df_test = shuffled_df[split_count:].copy()\n",
    "df_test.shape"
   ]
  },
  {
   "cell_type": "code",
   "execution_count": 65,
   "id": "1f1e3c2c-692a-4e29-bcc6-fa7d63b51715",
   "metadata": {
    "tags": []
   },
   "outputs": [
    {
     "data": {
      "text/plain": [
       "(150, 8)"
      ]
     },
     "execution_count": 65,
     "metadata": {},
     "output_type": "execute_result"
    }
   ],
   "source": [
    "dft_valid = shuffled_dft[:300].copy()\n",
    "dft_valid.shape"
   ]
  },
  {
   "cell_type": "code",
   "execution_count": 26,
   "id": "34c204f4-a766-4d92-8289-a9ec13f14292",
   "metadata": {
    "tags": []
   },
   "outputs": [
    {
     "data": {
      "text/plain": [
       "doc_type\n",
       "news_r        76\n",
       "narration     76\n",
       "edit          75\n",
       "briefing      73\n",
       "paper         73\n",
       "his_cul       69\n",
       "minute        68\n",
       "public        67\n",
       "literature    62\n",
       "speech        61\n",
       "Name: count, dtype: int64"
      ]
     },
     "execution_count": 26,
     "metadata": {},
     "output_type": "execute_result"
    }
   ],
   "source": [
    "y_train = df_train[\"doc_type\"]\n",
    "y_train.value_counts()"
   ]
  },
  {
   "cell_type": "code",
   "execution_count": 27,
   "id": "f28a19cd-e04a-4f28-aacf-06404c69521a",
   "metadata": {
    "tags": []
   },
   "outputs": [
    {
     "data": {
      "text/plain": [
       "doc_type\n",
       "speech        39\n",
       "literature    38\n",
       "public        33\n",
       "minute        32\n",
       "his_cul       31\n",
       "briefing      27\n",
       "paper         27\n",
       "edit          25\n",
       "narration     24\n",
       "news_r        24\n",
       "Name: count, dtype: int64"
      ]
     },
     "execution_count": 27,
     "metadata": {},
     "output_type": "execute_result"
    }
   ],
   "source": [
    "y_test = df_test[\"doc_type\"]\n",
    "y_test.value_counts()"
   ]
  },
  {
   "cell_type": "code",
   "execution_count": null,
   "id": "1ac7b91a-8fd9-4a5c-bd5f-ad46eb4aa107",
   "metadata": {},
   "outputs": [],
   "source": []
  },
  {
   "cell_type": "markdown",
   "id": "6d7611d4-3435-4c8e-9313-28096fee57e3",
   "metadata": {},
   "source": [
    "#### 단어 벡터화 하기"
   ]
  },
  {
   "cell_type": "code",
   "execution_count": null,
   "id": "91f4604a-7ce7-418a-83f5-e028ed26c7fd",
   "metadata": {
    "tags": []
   },
   "outputs": [],
   "source": [
    "from sklearn.feature_extraction.text import CountVectorizer\n",
    "\n",
    "vectorizer = CountVectorizer(analyzer = 'word',\n",
    "                             tokenizer = None,\n",
    "                             preprocessor = None,\n",
    "                             stop_words = None,\n",
    "                             min_df = 2, \n",
    "                             ngram_range=(1, 3),\n",
    "                             max_features = 1500\n",
    "                            )\n",
    "vectorizer"
   ]
  },
  {
   "cell_type": "code",
   "execution_count": null,
   "id": "8ab81765-a3c2-475f-b36f-b8859dece21a",
   "metadata": {
    "tags": []
   },
   "outputs": [],
   "source": [
    "%%time \n",
    "train_feature_vector = vectorizer.fit_transform(df_train['content_preprocessed'])\n",
    "train_feature_vector.shape"
   ]
  },
  {
   "cell_type": "code",
   "execution_count": null,
   "id": "e8574826-9f02-4c6a-bf23-6b9945208686",
   "metadata": {
    "tags": []
   },
   "outputs": [],
   "source": [
    "%%time \n",
    "test_feature_vector = vectorizer.transform(df_test['content_preprocessed'])\n",
    "test_feature_vector.shape"
   ]
  },
  {
   "cell_type": "code",
   "execution_count": null,
   "id": "3aa951fa-4b93-417d-a688-d4d256f4f087",
   "metadata": {
    "tags": []
   },
   "outputs": [],
   "source": [
    "vocab = vectorizer.get_feature_names_out()\n",
    "print(len(vocab))\n",
    "vocab[:10]"
   ]
  },
  {
   "cell_type": "code",
   "execution_count": null,
   "id": "4d60af56-dca7-4b5b-bfb9-73f8a5b7decf",
   "metadata": {
    "tags": []
   },
   "outputs": [],
   "source": [
    "dist = np.sum(train_feature_vector, axis=0)\n",
    "\n",
    "pd.DataFrame(dist, columns=vocab)"
   ]
  },
  {
   "cell_type": "markdown",
   "id": "9ed2c5c7-282f-4109-b7d0-8f3860f75bec",
   "metadata": {},
   "source": [
    "#### TF-IDF 가중치 적용"
   ]
  },
  {
   "cell_type": "code",
   "execution_count": null,
   "id": "2009418f-0ce6-41bd-bef7-7b12fcc070c6",
   "metadata": {
    "tags": []
   },
   "outputs": [],
   "source": [
    "from sklearn.feature_extraction.text import TfidfTransformer\n",
    "transformer = TfidfTransformer(smooth_idf=False)\n",
    "transformer"
   ]
  },
  {
   "cell_type": "code",
   "execution_count": null,
   "id": "f078a96f-abb9-45c2-9128-b1345bab30c1",
   "metadata": {
    "tags": []
   },
   "outputs": [],
   "source": [
    "%%time \n",
    "train_feature_tfidf = transformer.fit_transform(train_feature_vector)\n",
    "train_feature_tfidf.shape"
   ]
  },
  {
   "cell_type": "code",
   "execution_count": null,
   "id": "f436bceb-3598-4e3c-8d0c-25a3f64f1dfc",
   "metadata": {
    "tags": []
   },
   "outputs": [],
   "source": [
    "%%time \n",
    "test_feature_tfidf = transformer.transform(test_feature_vector)\n",
    "test_feature_tfidf.shape"
   ]
  },
  {
   "cell_type": "code",
   "execution_count": null,
   "id": "b911b7e7-0a2b-4f19-96f8-41c9aaf4b651",
   "metadata": {
    "tags": []
   },
   "outputs": [],
   "source": [
    "test_feature_tfidf.shape"
   ]
  },
  {
   "cell_type": "code",
   "execution_count": null,
   "id": "481338a0-efe9-4017-9449-0edc5e291444",
   "metadata": {},
   "outputs": [],
   "source": []
  },
  {
   "cell_type": "code",
   "execution_count": null,
   "id": "af97e23d-0382-4cce-8712-a5d406769b91",
   "metadata": {},
   "outputs": [],
   "source": []
  },
  {
   "cell_type": "markdown",
   "id": "c4d1a454-1506-4d5f-8dd6-d4ad042e4d29",
   "metadata": {},
   "source": [
    "### TF-IDF 를 활용한 모델 구현"
   ]
  },
  {
   "cell_type": "code",
   "execution_count": 73,
   "id": "3e2f9db6-882f-4a0d-9b6b-779f52d61e89",
   "metadata": {
    "tags": []
   },
   "outputs": [
    {
     "data": {
      "text/plain": [
       "((700,), (300,))"
      ]
     },
     "execution_count": 73,
     "metadata": {},
     "output_type": "execute_result"
    }
   ],
   "source": [
    "X_train = df_train[\"content_preprocessed\"]\n",
    "X_test = df_test[\"content_preprocessed\"]\n",
    "X_train.shape, X_test.shape"
   ]
  },
  {
   "cell_type": "code",
   "execution_count": 63,
   "id": "febfc82e-4e32-406a-8f67-8bbf5e2e8d8b",
   "metadata": {
    "tags": []
   },
   "outputs": [
    {
     "data": {
      "text/plain": [
       "0    새해가 밝았다 또 다른 해가 시작되었다 눈이 내린 하얀 설원이 앞에 펼쳐져 느낌이다...\n",
       "1     기다리던 새해가 밝았네요 올해 제가 드디어 아빠가 됩니다 국내에서 처음으로 남의 ...\n",
       "2     김정은 국무위원장이 지난달 일부터 일까지 열린 노동당 중앙위원회 전원회의 보고에서...\n",
       "3     신 의원은 총선에 제가 다시 도전한다는 의사표시로 예비후보를 등록했다 말했다 다른...\n",
       "4    스웨덴에서는 지갑을 몸에 지니지 않아도 일상생활에 불편을 겪지 않는 이들이 있다 엄...\n",
       "Name: content_preprocessed, dtype: object"
      ]
     },
     "execution_count": 63,
     "metadata": {},
     "output_type": "execute_result"
    }
   ],
   "source": [
    "X_valid = dft['content_preprocessed']\n",
    "X_valid.head()"
   ]
  },
  {
   "cell_type": "code",
   "execution_count": 67,
   "id": "abcddeb2-3f48-402d-897d-d1a5deab174d",
   "metadata": {
    "tags": []
   },
   "outputs": [
    {
     "data": {
      "text/plain": [
       "doc_type\n",
       "news_r        15\n",
       "briefing      15\n",
       "his_cul       15\n",
       "paper         15\n",
       "minute        15\n",
       "edit          15\n",
       "public        15\n",
       "speech        15\n",
       "literature    15\n",
       "narration     15\n",
       "Name: count, dtype: int64"
      ]
     },
     "execution_count": 67,
     "metadata": {},
     "output_type": "execute_result"
    }
   ],
   "source": [
    "y_valid = dft['doc_type']\n",
    "y_valid.value_counts()"
   ]
  },
  {
   "cell_type": "code",
   "execution_count": 32,
   "id": "d045c71c-a92f-4442-b022-79a026c02d83",
   "metadata": {
    "tags": []
   },
   "outputs": [
    {
     "data": {
      "text/plain": [
       "doc_type\n",
       "news_r        76\n",
       "narration     76\n",
       "edit          75\n",
       "briefing      73\n",
       "paper         73\n",
       "his_cul       69\n",
       "minute        68\n",
       "public        67\n",
       "literature    62\n",
       "speech        61\n",
       "Name: count, dtype: int64"
      ]
     },
     "execution_count": 32,
     "metadata": {},
     "output_type": "execute_result"
    }
   ],
   "source": [
    "y_train = df_train[\"doc_type\"]\n",
    "y_train.value_counts()"
   ]
  },
  {
   "cell_type": "code",
   "execution_count": 33,
   "id": "4acdf83b-99b4-4e77-a0a0-4e5442b6b4d7",
   "metadata": {
    "tags": []
   },
   "outputs": [
    {
     "data": {
      "text/plain": [
       "doc_type\n",
       "speech        39\n",
       "literature    38\n",
       "public        33\n",
       "minute        32\n",
       "his_cul       31\n",
       "briefing      27\n",
       "paper         27\n",
       "edit          25\n",
       "narration     24\n",
       "news_r        24\n",
       "Name: count, dtype: int64"
      ]
     },
     "execution_count": 33,
     "metadata": {},
     "output_type": "execute_result"
    }
   ],
   "source": [
    "y_test = df_test[\"doc_type\"]\n",
    "y_test.value_counts()"
   ]
  },
  {
   "cell_type": "code",
   "execution_count": 66,
   "id": "7104fa91-0e3b-4c6a-b61f-783a0994d41d",
   "metadata": {
    "tags": []
   },
   "outputs": [
    {
     "data": {
      "text/plain": [
       "(150,)"
      ]
     },
     "execution_count": 66,
     "metadata": {},
     "output_type": "execute_result"
    }
   ],
   "source": [
    "X_valid = dft_valid[\"content_preprocessed\"]\n",
    "X_valid.shape"
   ]
  },
  {
   "cell_type": "markdown",
   "id": "d79b715e-48de-49ea-b1e5-f4dca85864b9",
   "metadata": {},
   "source": [
    "#### 벡터화\n",
    "TF-IDF"
   ]
  },
  {
   "cell_type": "code",
   "execution_count": null,
   "id": "616758fb-0112-4188-a992-5aed31cd027e",
   "metadata": {},
   "outputs": [],
   "source": []
  },
  {
   "cell_type": "code",
   "execution_count": 34,
   "id": "044864c7-bddf-414c-b76a-b25011e04bf4",
   "metadata": {
    "tags": []
   },
   "outputs": [
    {
     "data": {
      "text/plain": [
       "TfidfVectorizer(max_df=0.95, min_df=3, ngram_range=(1, 2))"
      ]
     },
     "execution_count": 34,
     "metadata": {},
     "output_type": "execute_result"
    }
   ],
   "source": [
    "from sklearn.feature_extraction.text import TfidfVectorizer\n",
    "\n",
    "tfidf_vect = TfidfVectorizer(tokenizer=None, \n",
    "                             ngram_range=(1,2),\n",
    "                             min_df=3, \n",
    "                             max_df=0.95)\n",
    "tfidf_vect.fit(X_train)"
   ]
  },
  {
   "cell_type": "code",
   "execution_count": 35,
   "id": "2300eb22-3d33-4eaf-85dd-7e8fbd227105",
   "metadata": {
    "tags": []
   },
   "outputs": [
    {
     "data": {
      "text/plain": [
       "((700, 6539), (300, 6539))"
      ]
     },
     "execution_count": 35,
     "metadata": {},
     "output_type": "execute_result"
    }
   ],
   "source": [
    "train_feature_tfidf = tfidf_vect.transform(X_train)\n",
    "test_feature_tfidf = tfidf_vect.transform(X_test)\n",
    "\n",
    "train_feature_tfidf.shape, test_feature_tfidf.shape"
   ]
  },
  {
   "cell_type": "code",
   "execution_count": 36,
   "id": "43c55957-4b9e-4344-a4d5-a39e646ab478",
   "metadata": {
    "tags": []
   },
   "outputs": [
    {
     "name": "stdout",
     "output_type": "stream",
     "text": [
      "6539\n"
     ]
    },
    {
     "data": {
      "text/plain": [
       "array(['ai', 'a씨는', 'ceo', 'cm', 'credit', 'dj', 'djp', 'dj가', 'dj와',\n",
       "       'esg'], dtype=object)"
      ]
     },
     "execution_count": 36,
     "metadata": {},
     "output_type": "execute_result"
    }
   ],
   "source": [
    "# 단어 사전\n",
    "vocab = tfidf_vect.get_feature_names_out()\n",
    "print(len(vocab))\n",
    "vocab[:10]"
   ]
  },
  {
   "cell_type": "code",
   "execution_count": 37,
   "id": "ae66d69c-694a-4ee0-963d-ab0ed07ca556",
   "metadata": {
    "tags": []
   },
   "outputs": [
    {
     "data": {
      "text/html": [
       "<div>\n",
       "<style scoped>\n",
       "    .dataframe tbody tr th:only-of-type {\n",
       "        vertical-align: middle;\n",
       "    }\n",
       "\n",
       "    .dataframe tbody tr th {\n",
       "        vertical-align: top;\n",
       "    }\n",
       "\n",
       "    .dataframe thead th {\n",
       "        text-align: right;\n",
       "    }\n",
       "</style>\n",
       "<table border=\"1\" class=\"dataframe\">\n",
       "  <thead>\n",
       "    <tr style=\"text-align: right;\">\n",
       "      <th></th>\n",
       "      <th>ai</th>\n",
       "      <th>a씨는</th>\n",
       "      <th>ceo</th>\n",
       "      <th>cm</th>\n",
       "      <th>credit</th>\n",
       "      <th>dj</th>\n",
       "      <th>djp</th>\n",
       "      <th>dj가</th>\n",
       "      <th>dj와</th>\n",
       "      <th>esg</th>\n",
       "      <th>...</th>\n",
       "      <th>흔히</th>\n",
       "      <th>희망과</th>\n",
       "      <th>희망을</th>\n",
       "      <th>희망의</th>\n",
       "      <th>힘든</th>\n",
       "      <th>힘들다</th>\n",
       "      <th>힘써</th>\n",
       "      <th>힘을</th>\n",
       "      <th>힘이</th>\n",
       "      <th>힘입어</th>\n",
       "    </tr>\n",
       "  </thead>\n",
       "  <tbody>\n",
       "    <tr>\n",
       "      <th>0</th>\n",
       "      <td>1.205585</td>\n",
       "      <td>0.391014</td>\n",
       "      <td>0.26862</td>\n",
       "      <td>0.916047</td>\n",
       "      <td>0.401786</td>\n",
       "      <td>1.408173</td>\n",
       "      <td>0.418229</td>\n",
       "      <td>0.458221</td>\n",
       "      <td>0.750045</td>\n",
       "      <td>1.378943</td>\n",
       "      <td>...</td>\n",
       "      <td>0.775533</td>\n",
       "      <td>0.394498</td>\n",
       "      <td>0.431539</td>\n",
       "      <td>0.344125</td>\n",
       "      <td>1.161799</td>\n",
       "      <td>0.251797</td>\n",
       "      <td>0.337629</td>\n",
       "      <td>1.332905</td>\n",
       "      <td>0.575747</td>\n",
       "      <td>0.349876</td>\n",
       "    </tr>\n",
       "  </tbody>\n",
       "</table>\n",
       "<p>1 rows × 6539 columns</p>\n",
       "</div>"
      ],
      "text/plain": [
       "         ai       a씨는      ceo        cm    credit        dj       djp  \\\n",
       "0  1.205585  0.391014  0.26862  0.916047  0.401786  1.408173  0.418229   \n",
       "\n",
       "        dj가       dj와       esg  ...        흔히       희망과       희망을       희망의  \\\n",
       "0  0.458221  0.750045  1.378943  ...  0.775533  0.394498  0.431539  0.344125   \n",
       "\n",
       "         힘든       힘들다        힘써        힘을        힘이       힘입어  \n",
       "0  1.161799  0.251797  0.337629  1.332905  0.575747  0.349876  \n",
       "\n",
       "[1 rows x 6539 columns]"
      ]
     },
     "execution_count": 37,
     "metadata": {},
     "output_type": "execute_result"
    }
   ],
   "source": [
    "# np.sum 으로 위에서 구한 train_feature_vector 의 값을 모두 더한다. axis=0 으로 한다. \n",
    "dist = np.sum(train_feature_tfidf, axis=0)\n",
    "\n",
    "vocab_count = pd.DataFrame(dist, columns=vocab)\n",
    "vocab_count"
   ]
  },
  {
   "cell_type": "code",
   "execution_count": 38,
   "id": "e4ecb409-c796-4eab-babb-07c39a8f62cb",
   "metadata": {
    "tags": []
   },
   "outputs": [
    {
     "data": {
      "text/plain": [
       "ai        1.205585\n",
       "a씨는       0.391014\n",
       "ceo       0.268620\n",
       "cm        0.916047\n",
       "credit    0.401786\n",
       "            ...   \n",
       "힘들다       0.251797\n",
       "힘써        0.337629\n",
       "힘을        1.332905\n",
       "힘이        0.575747\n",
       "힘입어       0.349876\n",
       "Name: 0, Length: 6539, dtype: float64"
      ]
     },
     "execution_count": 38,
     "metadata": {},
     "output_type": "execute_result"
    }
   ],
   "source": [
    "vocab_count.T[0]"
   ]
  },
  {
   "cell_type": "code",
   "execution_count": 71,
   "id": "a9264f18-a0e6-4bb2-abb9-4a8c48ccd044",
   "metadata": {
    "tags": []
   },
   "outputs": [
    {
     "data": {
      "text/plain": [
       "<Axes: >"
      ]
     },
     "execution_count": 71,
     "metadata": {},
     "output_type": "execute_result"
    },
    {
     "data": {
      "image/png": "[encoded data removed]",
      "text/plain": [
       "<Figure size 1500x400 with 1 Axes>"
      ]
     },
     "metadata": {
      "image/png": {
       "height": 384,
       "width": 1214
      }
     },
     "output_type": "display_data"
    }
   ],
   "source": [
    "# 위에서 구한 빈도수를 그래프로 그린다.\n",
    "vocab_count.T[0].sort_values(ascending=False).head(50).plot.bar(figsize=(15, 4))"
   ]
  },
  {
   "cell_type": "markdown",
   "id": "3dd60f5e-e261-4d44-b72c-91c1c2b21ee2",
   "metadata": {},
   "source": [
    "#### 학습과 예측"
   ]
  },
  {
   "cell_type": "code",
   "execution_count": 46,
   "id": "fa6bf593-4b04-4465-9ec0-d4ea9cc8466f",
   "metadata": {
    "tags": []
   },
   "outputs": [
    {
     "data": {
      "text/plain": [
       "RandomForestClassifier(n_jobs=-1, random_state=42)"
      ]
     },
     "execution_count": 46,
     "metadata": {},
     "output_type": "execute_result"
    }
   ],
   "source": [
    "# RandomForestClassifier 를 불러온다.\n",
    "from sklearn.ensemble import RandomForestClassifier\n",
    "\n",
    "# 랜덤포레스트 분류기를 사용\n",
    "model = RandomForestClassifier(n_estimators = 100, n_jobs = -1, random_state=42)\n",
    "model"
   ]
  },
  {
   "cell_type": "code",
   "execution_count": 47,
   "id": "2a6544bc-85c4-4942-9adc-fb4a6b39712d",
   "metadata": {
    "tags": []
   },
   "outputs": [
    {
     "name": "stdout",
     "output_type": "stream",
     "text": [
      "CPU times: total: 46.9 ms\n",
      "Wall time: 134 ms\n"
     ]
    }
   ],
   "source": [
    "# 학습에 사용할 y_label 을 넣어준다.\n",
    "y_label = df_train['doc_type']\n",
    "%time model = model.fit(train_feature_tfidf, y_label)"
   ]
  },
  {
   "cell_type": "code",
   "execution_count": 48,
   "id": "db2dd3cf-fa53-470d-97c6-56ffb9755824",
   "metadata": {
    "tags": []
   },
   "outputs": [
    {
     "data": {
      "text/plain": [
       "array([0.8       , 0.80714286, 0.78571429, 0.83571429, 0.85      ])"
      ]
     },
     "execution_count": 48,
     "metadata": {},
     "output_type": "execute_result"
    }
   ],
   "source": [
    "from sklearn.model_selection import KFold\n",
    "from sklearn.model_selection import cross_val_score\n",
    "\n",
    "k_fold = KFold(n_splits=5, shuffle=True, random_state=42)\n",
    "\n",
    "scoring = 'accuracy'\n",
    "score = cross_val_score(model, train_feature_tfidf, \n",
    "                        y_label, cv=k_fold, n_jobs=-1, \n",
    "                        scoring=scoring)\n",
    "score"
   ]
  },
  {
   "cell_type": "code",
   "execution_count": 49,
   "id": "a4a9d132-7225-4dad-b099-84f0baa34713",
   "metadata": {
    "tags": []
   },
   "outputs": [
    {
     "data": {
      "text/plain": [
       "81.57"
      ]
     },
     "execution_count": 49,
     "metadata": {},
     "output_type": "execute_result"
    }
   ],
   "source": [
    "round(np.mean(score)*100,2)"
   ]
  },
  {
   "cell_type": "code",
   "execution_count": 50,
   "id": "b599c792-5608-42f7-bee1-b47fb45114bb",
   "metadata": {
    "tags": []
   },
   "outputs": [
    {
     "data": {
      "text/plain": [
       "array(['speech', 'public', 'literature', 'edit', 'literature', 'minute',\n",
       "       'briefing', 'briefing', 'narration', 'narration'], dtype=object)"
      ]
     },
     "execution_count": 50,
     "metadata": {},
     "output_type": "execute_result"
    }
   ],
   "source": [
    "y_pred = model.predict(test_feature_tfidf)\n",
    "y_pred[:10]"
   ]
  },
  {
   "cell_type": "code",
   "execution_count": 51,
   "id": "9cee56fa-5db5-498c-ab0e-e0bc03c8df0c",
   "metadata": {
    "tags": []
   },
   "outputs": [
    {
     "data": {
      "text/plain": [
       "(300,)"
      ]
     },
     "execution_count": 51,
     "metadata": {},
     "output_type": "execute_result"
    }
   ],
   "source": [
    "y_pred.shape"
   ]
  },
  {
   "cell_type": "code",
   "execution_count": null,
   "id": "f930df0f-ba03-455d-99fa-6dd87943c5be",
   "metadata": {},
   "outputs": [],
   "source": []
  },
  {
   "cell_type": "markdown",
   "id": "18d0a71c-8407-42fe-a8e2-292c2844942f",
   "metadata": {},
   "source": [
    "#### 교차 검증"
   ]
  },
  {
   "cell_type": "code",
   "execution_count": 41,
   "id": "48a6aae8-0f78-47da-99e5-85f1ce2faff9",
   "metadata": {
    "tags": []
   },
   "outputs": [
    {
     "name": "stderr",
     "output_type": "stream",
     "text": [
      "[Parallel(n_jobs=-1)]: Using backend LokyBackend with 16 concurrent workers.\n",
      "[Parallel(n_jobs=-1)]: Done   3 out of   3 | elapsed:    2.4s finished\n"
     ]
    }
   ],
   "source": [
    "from sklearn.model_selection import cross_val_predict\n",
    "\n",
    "y_pred = cross_val_predict(model, train_feature_tfidf, y_train, cv=3, n_jobs=-1, verbose=1)"
   ]
  },
  {
   "cell_type": "code",
   "execution_count": 42,
   "id": "fb0576d1-929f-4b25-b80e-bdc132a9e96d",
   "metadata": {
    "tags": []
   },
   "outputs": [
    {
     "data": {
      "text/plain": [
       "0.8028571428571428"
      ]
     },
     "execution_count": 42,
     "metadata": {},
     "output_type": "execute_result"
    }
   ],
   "source": [
    "valid_accuracy = (y_pred == y_train).mean()\n",
    "valid_accuracy"
   ]
  },
  {
   "cell_type": "code",
   "execution_count": 43,
   "id": "198e450f-9ede-45dc-a649-d81d0716e068",
   "metadata": {
    "tags": []
   },
   "outputs": [],
   "source": [
    "df_accuracy = pd.DataFrame({\"pred\": y_pred, \"train\": y_train})\n",
    "df_accuracy[\"accuracy\"] = (y_pred == y_train)"
   ]
  },
  {
   "cell_type": "code",
   "execution_count": 44,
   "id": "5e498bc4-cd82-4bcd-814d-9716d74b245a",
   "metadata": {
    "tags": []
   },
   "outputs": [
    {
     "data": {
      "text/plain": [
       "'narration'"
      ]
     },
     "execution_count": 44,
     "metadata": {},
     "output_type": "execute_result"
    }
   ],
   "source": [
    "doc_type"
   ]
  },
  {
   "cell_type": "code",
   "execution_count": null,
   "id": "3567f4f1-e504-4fd1-b0dd-bc6959232114",
   "metadata": {},
   "outputs": [],
   "source": []
  },
  {
   "cell_type": "code",
   "execution_count": null,
   "id": "cbeb5dac-2463-4568-b434-2a79fff6b54b",
   "metadata": {
    "tags": []
   },
   "outputs": [],
   "source": [
    "passage = list(df_train['content_preprocessed'])\n",
    "doctype = list(df_train['doc_type'])"
   ]
  },
  {
   "cell_type": "code",
   "execution_count": null,
   "id": "37be6cc5-faf9-49e8-9c94-7b41d613fa5b",
   "metadata": {
    "tags": []
   },
   "outputs": [],
   "source": [
    "from sklearn.feature_extraction.text import TfidfVectorizer\n",
    "vectorizer = TfidfVectorizer(min_df=0.0, analyzer='char', sublinear_tf = True, ngram_range=(1,3),max_features=5000)\n",
    "X = vectorizer.fit_transform(passage)"
   ]
  },
  {
   "cell_type": "code",
   "execution_count": null,
   "id": "fa290508-7201-4857-bc83-469298d619c8",
   "metadata": {},
   "outputs": [],
   "source": []
  },
  {
   "cell_type": "code",
   "execution_count": null,
   "id": "16f14c0f-4860-4051-a1be-678166804dbc",
   "metadata": {},
   "outputs": [],
   "source": []
  },
  {
   "cell_type": "code",
   "execution_count": null,
   "id": "4cdb4d67-16da-453b-8498-a3f611eada71",
   "metadata": {},
   "outputs": [],
   "source": []
  },
  {
   "cell_type": "code",
   "execution_count": null,
   "id": "ceb032bf-3e2d-4d56-8726-cfe48d6e8d7d",
   "metadata": {},
   "outputs": [],
   "source": []
  },
  {
   "cell_type": "markdown",
   "id": "755c529c-f884-4ed3-9461-01c7fa4b4195",
   "metadata": {},
   "source": [
    "### Random Forest Tree classifier"
   ]
  },
  {
   "cell_type": "code",
   "execution_count": 60,
   "id": "082e5e2b-7317-4b00-96fb-0a4ac48af5df",
   "metadata": {
    "tags": []
   },
   "outputs": [],
   "source": [
    "from sklearn.ensemble import RandomForestClassifier\n",
    "from sklearn.feature_extraction.text import TfidfVectorizer\n",
    "from sklearn.metrics import classification_report\n",
    "from sklearn.model_selection import train_test_split\n",
    "from sklearn.metrics import confusion_matrix, classification_report, accuracy_score, ConfusionMatrixDisplay, roc_curve, roc_auc_score"
   ]
  },
  {
   "cell_type": "code",
   "execution_count": null,
   "id": "1aec8f86-c240-4bae-ac24-c02c2e45c845",
   "metadata": {
    "tags": []
   },
   "outputs": [],
   "source": [
    "X_train, X_test, y_train, y_test = train_test_split(df_train['content_preprocessed'], df_train['doc_type'], test_size=0.3, random_state=42)"
   ]
  },
  {
   "cell_type": "code",
   "execution_count": 68,
   "id": "7c6c246d-9930-4237-880f-bde013691040",
   "metadata": {
    "tags": []
   },
   "outputs": [
    {
     "name": "stdout",
     "output_type": "stream",
     "text": [
      "              precision    recall  f1-score   support\n",
      "\n",
      "    briefing       0.17      0.07      0.10        15\n",
      "        edit       0.15      0.13      0.14        15\n",
      "     his_cul       0.09      0.13      0.11        15\n",
      "  literature       0.15      0.13      0.14        15\n",
      "      minute       0.11      0.13      0.12        15\n",
      "   narration       0.17      0.27      0.21        15\n",
      "      news_r       0.14      0.13      0.14        15\n",
      "       paper       0.11      0.13      0.12        15\n",
      "      public       0.09      0.07      0.08        15\n",
      "      speech       0.33      0.20      0.25        15\n",
      "\n",
      "    accuracy                           0.14       150\n",
      "   macro avg       0.15      0.14      0.14       150\n",
      "weighted avg       0.15      0.14      0.14       150\n",
      "\n"
     ]
    }
   ],
   "source": [
    "# Vectorize the text data\n",
    "vectorizer = TfidfVectorizer()\n",
    "X_train_vectorized = vectorizer.fit_transform(X_train)\n",
    "X_valid_vectorized = vectorizer.transform(X_valid)\n",
    "\n",
    "# Initialize the Random Forest Classifier\n",
    "rf_classifier = RandomForestClassifier(n_estimators=100, random_state=42)\n",
    "\n",
    "# Train the classifier\n",
    "rf_classifier.fit(X_train_vectorized, y_train)\n",
    "\n",
    "# Make predictions on the validation set\n",
    "y_pred = rf_classifier.predict(X_valid_vectorized)\n",
    "\n",
    "# Evaluate the classifier\n",
    "classification_report = classification_report(y_valid, y_pred)\n",
    "print(classification_report)"
   ]
  },
  {
   "cell_type": "markdown",
   "id": "a9e995f5-1dd1-4392-aa31-5cb9f76023ab",
   "metadata": {},
   "source": [
    "### Navies Bayes"
   ]
  },
  {
   "cell_type": "code",
   "execution_count": null,
   "id": "5a7886ba-3e12-4f4b-9323-bada57236b5e",
   "metadata": {
    "tags": []
   },
   "outputs": [],
   "source": [
    "from sklearn.feature_extraction.text import TfidfVectorizer\n",
    "from sklearn.naive_bayes import MultinomialNB\n",
    "from sklearn.pipeline import make_pipeline\n",
    "\n",
    "# Creating a model based on Multinomial Navies Bayes\n",
    "model = make_pipeline(TfidfVectorizer(), MultinomialNB())\n",
    "\n",
    "#Training the model with the train data\n",
    "model.fit(train.data, train.target)\n",
    "\n",
    "#Creating labels for the test data\n",
    "labels = model.predict(test.data)"
   ]
  },
  {
   "cell_type": "code",
   "execution_count": null,
   "id": "773e08f0-8142-4d9f-8cba-06a1daa85ae9",
   "metadata": {
    "tags": []
   },
   "outputs": [],
   "source": []
  },
  {
   "cell_type": "code",
   "execution_count": null,
   "id": "466fc925-b546-444e-8894-3a7cde83db74",
   "metadata": {},
   "outputs": [],
   "source": []
  }
 ],
 "metadata": {
  "kernelspec": {
   "display_name": "Python 3 (ipykernel)",
   "language": "python",
   "name": "python3"
  },
  "language_info": {
   "codemirror_mode": {
    "name": "ipython",
    "version": 3
   },
   "file_extension": ".py",
   "mimetype": "text/x-python",
   "name": "python",
   "nbconvert_exporter": "python",
   "pygments_lexer": "ipython3",
   "version": "3.9.17"
  }
 },
 "nbformat": 4,
 "nbformat_minor": 5
}
