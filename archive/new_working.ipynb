{
 "cells": [
  {
   "cell_type": "code",
   "execution_count": 28,
   "id": "0268122e-1c01-4c85-a73d-7464a51fb369",
   "metadata": {
    "tags": []
   },
   "outputs": [],
   "source": [
    "import pandas as pd\n",
    "import numpy as np\n",
    "import json, os\n",
    "import seaborn as sns\n",
    "import matplotlib.pyplot as plt\n",
    "import glob\n",
    "\n",
    "%matplotlib inline\n",
    "\n",
    "# 출력 데이터를 깔끔하게 표시하기 위해\n",
    "import warnings\n",
    "warnings.filterwarnings('ignore')"
   ]
  },
  {
   "cell_type": "code",
   "execution_count": 29,
   "id": "431c481a-2150-46b0-9ac6-193cf067fdda",
   "metadata": {
    "tags": []
   },
   "outputs": [
    {
     "data": {
      "text/plain": [
       "'C:\\\\Users\\\\t3q_dhkim\\\\Documents\\\\Intern'"
      ]
     },
     "execution_count": 29,
     "metadata": {},
     "output_type": "execute_result"
    }
   ],
   "source": [
    "os.getcwd()"
   ]
  },
  {
   "cell_type": "markdown",
   "id": "7d529db5-6daf-4b0b-9506-ef2f8af86599",
   "metadata": {},
   "source": [
    "### 데이터 미리보기"
   ]
  },
  {
   "cell_type": "code",
   "execution_count": 30,
   "id": "c3533cd5-ae15-41c1-9169-77f5ea6057ab",
   "metadata": {
    "tags": []
   },
   "outputs": [
    {
     "data": {
      "text/html": [
       "<div>\n",
       "<style scoped>\n",
       "    .dataframe tbody tr th:only-of-type {\n",
       "        vertical-align: middle;\n",
       "    }\n",
       "\n",
       "    .dataframe tbody tr th {\n",
       "        vertical-align: top;\n",
       "    }\n",
       "\n",
       "    .dataframe thead th {\n",
       "        text-align: right;\n",
       "    }\n",
       "</style>\n",
       "<table border=\"1\" class=\"dataframe\">\n",
       "  <thead>\n",
       "    <tr style=\"text-align: right;\">\n",
       "      <th></th>\n",
       "      <th>Meta(Acqusition)</th>\n",
       "      <th>Meta(Refine)</th>\n",
       "      <th>Annotation</th>\n",
       "    </tr>\n",
       "  </thead>\n",
       "  <tbody>\n",
       "    <tr>\n",
       "      <th>doc_id</th>\n",
       "      <td>REPORT-news_r-00001</td>\n",
       "      <td>NaN</td>\n",
       "      <td>NaN</td>\n",
       "    </tr>\n",
       "    <tr>\n",
       "      <th>doc_category</th>\n",
       "      <td>REPORT</td>\n",
       "      <td>NaN</td>\n",
       "      <td>NaN</td>\n",
       "    </tr>\n",
       "    <tr>\n",
       "      <th>doc_type</th>\n",
       "      <td>news_r</td>\n",
       "      <td>NaN</td>\n",
       "      <td>NaN</td>\n",
       "    </tr>\n",
       "    <tr>\n",
       "      <th>doc_name</th>\n",
       "      <td>40억달러 딜 주인공 김봉진 \"국내서 폼잡다 죽고싶지 않았다\"</td>\n",
       "      <td>NaN</td>\n",
       "      <td>NaN</td>\n",
       "    </tr>\n",
       "    <tr>\n",
       "      <th>author</th>\n",
       "      <td>김선영</td>\n",
       "      <td>NaN</td>\n",
       "      <td>NaN</td>\n",
       "    </tr>\n",
       "    <tr>\n",
       "      <th>publisher</th>\n",
       "      <td>중앙일보</td>\n",
       "      <td>NaN</td>\n",
       "      <td>NaN</td>\n",
       "    </tr>\n",
       "    <tr>\n",
       "      <th>publisher_year</th>\n",
       "      <td>2020</td>\n",
       "      <td>NaN</td>\n",
       "      <td>NaN</td>\n",
       "    </tr>\n",
       "    <tr>\n",
       "      <th>doc_origin</th>\n",
       "      <td>중앙일보</td>\n",
       "      <td>NaN</td>\n",
       "      <td>NaN</td>\n",
       "    </tr>\n",
       "    <tr>\n",
       "      <th>passage_id</th>\n",
       "      <td>NaN</td>\n",
       "      <td>REPORT-news_r-00001-00001</td>\n",
       "      <td>NaN</td>\n",
       "    </tr>\n",
       "    <tr>\n",
       "      <th>passage</th>\n",
       "      <td>NaN</td>\n",
       "      <td>40억 달러 ‘딜’ 주인공 김봉진 우아한형제들 대표태풍 뒤의 고요함이랄까.\\n  4...</td>\n",
       "      <td>NaN</td>\n",
       "    </tr>\n",
       "    <tr>\n",
       "      <th>passage_Cnt</th>\n",
       "      <td>NaN</td>\n",
       "      <td>1271</td>\n",
       "      <td>NaN</td>\n",
       "    </tr>\n",
       "    <tr>\n",
       "      <th>summary1</th>\n",
       "      <td>NaN</td>\n",
       "      <td>NaN</td>\n",
       "      <td>DH가 기업가치를 약 4조 8000억 원으로 평가한 우아한형제들의 김 대표는 국내 ...</td>\n",
       "    </tr>\n",
       "    <tr>\n",
       "      <th>summary2</th>\n",
       "      <td>NaN</td>\n",
       "      <td>NaN</td>\n",
       "      <td>None</td>\n",
       "    </tr>\n",
       "    <tr>\n",
       "      <th>summary3</th>\n",
       "      <td>NaN</td>\n",
       "      <td>NaN</td>\n",
       "      <td>독일계 음식 배달서비스업체 DH(딜리버리 히어로)가 평가한 우아한형제들의 기업가치는...</td>\n",
       "    </tr>\n",
       "    <tr>\n",
       "      <th>summary_3_cnt</th>\n",
       "      <td>NaN</td>\n",
       "      <td>NaN</td>\n",
       "      <td>209</td>\n",
       "    </tr>\n",
       "  </tbody>\n",
       "</table>\n",
       "</div>"
      ],
      "text/plain": [
       "                                   Meta(Acqusition)  \\\n",
       "doc_id                          REPORT-news_r-00001   \n",
       "doc_category                                 REPORT   \n",
       "doc_type                                     news_r   \n",
       "doc_name        40억달러 딜 주인공 김봉진 \"국내서 폼잡다 죽고싶지 않았다\"    \n",
       "author                                          김선영   \n",
       "publisher                                      중앙일보   \n",
       "publisher_year                                 2020   \n",
       "doc_origin                                     중앙일보   \n",
       "passage_id                                      NaN   \n",
       "passage                                         NaN   \n",
       "passage_Cnt                                     NaN   \n",
       "summary1                                        NaN   \n",
       "summary2                                        NaN   \n",
       "summary3                                        NaN   \n",
       "summary_3_cnt                                   NaN   \n",
       "\n",
       "                                                     Meta(Refine)  \\\n",
       "doc_id                                                        NaN   \n",
       "doc_category                                                  NaN   \n",
       "doc_type                                                      NaN   \n",
       "doc_name                                                      NaN   \n",
       "author                                                        NaN   \n",
       "publisher                                                     NaN   \n",
       "publisher_year                                                NaN   \n",
       "doc_origin                                                    NaN   \n",
       "passage_id                              REPORT-news_r-00001-00001   \n",
       "passage         40억 달러 ‘딜’ 주인공 김봉진 우아한형제들 대표태풍 뒤의 고요함이랄까.\\n  4...   \n",
       "passage_Cnt                                                  1271   \n",
       "summary1                                                      NaN   \n",
       "summary2                                                      NaN   \n",
       "summary3                                                      NaN   \n",
       "summary_3_cnt                                                 NaN   \n",
       "\n",
       "                                                       Annotation  \n",
       "doc_id                                                        NaN  \n",
       "doc_category                                                  NaN  \n",
       "doc_type                                                      NaN  \n",
       "doc_name                                                      NaN  \n",
       "author                                                        NaN  \n",
       "publisher                                                     NaN  \n",
       "publisher_year                                                NaN  \n",
       "doc_origin                                                    NaN  \n",
       "passage_id                                                    NaN  \n",
       "passage                                                       NaN  \n",
       "passage_Cnt                                                   NaN  \n",
       "summary1        DH가 기업가치를 약 4조 8000억 원으로 평가한 우아한형제들의 김 대표는 국내 ...  \n",
       "summary2                                                     None  \n",
       "summary3        독일계 음식 배달서비스업체 DH(딜리버리 히어로)가 평가한 우아한형제들의 기업가치는...  \n",
       "summary_3_cnt                                                 209  "
      ]
     },
     "execution_count": 30,
     "metadata": {},
     "output_type": "execute_result"
    }
   ],
   "source": [
    "df = pd.read_json('022.요약문 및 레포트 생성 데이터\\\\01.데이터\\\\1.Training\\\\라벨링데이터\\\\TL1\\\\01.news_r\\\\20per\\\\REPORT-news_r-00001-00001.json')\n",
    "df"
   ]
  },
  {
   "cell_type": "code",
   "execution_count": 31,
   "id": "9f2ccb8d-0670-4f2f-ac00-7b7df8f13b56",
   "metadata": {
    "tags": []
   },
   "outputs": [
    {
     "data": {
      "text/html": [
       "<div>\n",
       "<style scoped>\n",
       "    .dataframe tbody tr th:only-of-type {\n",
       "        vertical-align: middle;\n",
       "    }\n",
       "\n",
       "    .dataframe tbody tr th {\n",
       "        vertical-align: top;\n",
       "    }\n",
       "\n",
       "    .dataframe thead th {\n",
       "        text-align: right;\n",
       "    }\n",
       "</style>\n",
       "<table border=\"1\" class=\"dataframe\">\n",
       "  <thead>\n",
       "    <tr style=\"text-align: right;\">\n",
       "      <th></th>\n",
       "      <th>doc_type</th>\n",
       "      <th>doc_name</th>\n",
       "      <th>passage_id</th>\n",
       "      <th>passage</th>\n",
       "    </tr>\n",
       "  </thead>\n",
       "  <tbody>\n",
       "    <tr>\n",
       "      <th>0</th>\n",
       "      <td>news_r</td>\n",
       "      <td>40억달러 딜 주인공 김봉진 \"국내서 폼잡다 죽고싶지 않았다\"</td>\n",
       "      <td>REPORT-news_r-00001-00001</td>\n",
       "      <td>40억 달러 ‘딜’ 주인공 김봉진 우아한형제들 대표태풍 뒤의 고요함이랄까.\\n  4...</td>\n",
       "    </tr>\n",
       "  </tbody>\n",
       "</table>\n",
       "</div>"
      ],
      "text/plain": [
       "  doc_type                             doc_name                 passage_id  \\\n",
       "0   news_r  40억달러 딜 주인공 김봉진 \"국내서 폼잡다 죽고싶지 않았다\"   REPORT-news_r-00001-00001   \n",
       "\n",
       "                                             passage  \n",
       "0  40억 달러 ‘딜’ 주인공 김봉진 우아한형제들 대표태풍 뒤의 고요함이랄까.\\n  4...  "
      ]
     },
     "execution_count": 31,
     "metadata": {},
     "output_type": "execute_result"
    }
   ],
   "source": [
    "meta_data = {\n",
    "    \"doc_type\": df[\"Meta(Acqusition)\"][\"doc_type\"],\n",
    "    \"doc_name\": df[\"Meta(Acqusition)\"][\"doc_name\"],\n",
    "    \"passage_id\": df[\"Meta(Refine)\"][\"passage_id\"],\n",
    "    \"passage\": df[\"Meta(Refine)\"][\"passage\"]\n",
    "}\n",
    "\n",
    "new = pd.DataFrame([meta_data])\n",
    "new"
   ]
  },
  {
   "cell_type": "markdown",
   "id": "eb396982-e580-4f03-9086-90e84bb0b483",
   "metadata": {},
   "source": [
    "### 전처리를 위한 데이터 병합"
   ]
  },
  {
   "cell_type": "markdown",
   "id": "4902603c-42dc-4238-b5c1-02f9b42b3e90",
   "metadata": {},
   "source": [
    "빠른 계산을 위해 각 카테고리에서 100개의 파일 경로 추출"
   ]
  },
  {
   "cell_type": "code",
   "execution_count": 32,
   "id": "a103729a-a047-4265-88ab-4277db0762c4",
   "metadata": {
    "tags": []
   },
   "outputs": [
    {
     "data": {
      "text/plain": [
       "['022.요약문 및 레포트 생성 데이터\\\\01.데이터\\\\1.Training\\\\라벨링데이터\\\\TL1\\\\01.news_r\\\\2~3sent\\\\REPORT-news_r-00007-00001.json',\n",
       " '022.요약문 및 레포트 생성 데이터\\\\01.데이터\\\\1.Training\\\\라벨링데이터\\\\TL1\\\\01.news_r\\\\2~3sent\\\\REPORT-news_r-00018-00001.json',\n",
       " '022.요약문 및 레포트 생성 데이터\\\\01.데이터\\\\1.Training\\\\라벨링데이터\\\\TL1\\\\01.news_r\\\\2~3sent\\\\REPORT-news_r-00020-00002.json',\n",
       " '022.요약문 및 레포트 생성 데이터\\\\01.데이터\\\\1.Training\\\\라벨링데이터\\\\TL1\\\\01.news_r\\\\2~3sent\\\\REPORT-news_r-00024-00001.json']"
      ]
     },
     "execution_count": 32,
     "metadata": {},
     "output_type": "execute_result"
    }
   ],
   "source": [
    "# 1.0 Training 학습세트에서 100개씩 추출\n",
    "folders = [\n",
    "    '01.news_r',\n",
    "    '02.briefing',\n",
    "    '03.his_cul',\n",
    "    '04.paper',\n",
    "    '05.minute',\n",
    "    '06.edit',\n",
    "    '07.public',\n",
    "    '08.speech',\n",
    "    '09.literature',\n",
    "    '10.narration'\n",
    "    \n",
    "]\n",
    "\n",
    "file_limit = 100\n",
    "file_paths = []\n",
    "\n",
    "for folder in folders:\n",
    "    folder_path = f'022.요약문 및 레포트 생성 데이터\\\\01.데이터\\\\1.Training\\\\라벨링데이터\\\\TL1\\\\{folder}\\\\2~3sent\\\\*.json'\n",
    "    files = glob.glob(folder_path)[:file_limit]\n",
    "    file_paths.extend(files)\n",
    "\n",
    "# Print the resulting file paths\n",
    "#for file_path in file_paths:\n",
    "#    print(file_path)\n",
    "len(file_paths)\n",
    "file_paths[:4]"
   ]
  },
  {
   "cell_type": "code",
   "execution_count": 33,
   "id": "4d33c4ee",
   "metadata": {
    "tags": []
   },
   "outputs": [],
   "source": [
    "%%time \n",
    "# Initialize an empty DataFrame\n",
    "dfs=[]\n",
    "# Iterate over each JSON file\n",
    "#print(file_paths)\n",
    "for file_path in file_paths:\n",
    "    # Load the JSON file\n",
    "    with open(file_path, \"r\", encoding=\"utf-8\") as file:\n",
    "        json_data = json.load(file)\n",
    "    \n",
    "    # Extract the required information\n",
    "    doc_type = json_data[\"Meta(Acqusition)\"][\"doc_type\"]\n",
    "    doc_name = json_data[\"Meta(Acqusition)\"][\"doc_name\"]\n",
    "    passage_id = json_data[\"Meta(Refine)\"][\"passage_id\"]\n",
    "    passage = json_data[\"Meta(Refine)\"][\"passage\"]\n",
    "\n",
    "    # Append a new row to the DataFrame\n",
    "    # Create a new DataFrame for the current row\n",
    "    df = pd.DataFrame({\"doc_type\": [doc_type], \"doc_name\": [doc_name], \"passage_id\": [passage_id], \"passage\": [passage]})\n",
    "\n",
    "    # Append the new DataFrame to the list\n",
    "    dfs.append(df)\n",
    "\n",
    "# Concatenate all DataFrames into a single DataFrame\n",
    "train_data = pd.concat(dfs, ignore_index=True)\n",
    "\n",
    "# Print the resulting DataFrame\n",
    "print(train_data.shape)"
   ]
  },
  {
   "cell_type": "code",
   "execution_count": 34,
   "id": "2add222a-b0f9-4a1b-82ae-06d1ea64fd50",
   "metadata": {
    "tags": []
   },
   "outputs": [
    {
     "data": {
      "text/html": [
       "<div>\n",
       "<style scoped>\n",
       "    .dataframe tbody tr th:only-of-type {\n",
       "        vertical-align: middle;\n",
       "    }\n",
       "\n",
       "    .dataframe tbody tr th {\n",
       "        vertical-align: top;\n",
       "    }\n",
       "\n",
       "    .dataframe thead th {\n",
       "        text-align: right;\n",
       "    }\n",
       "</style>\n",
       "<table border=\"1\" class=\"dataframe\">\n",
       "  <thead>\n",
       "    <tr style=\"text-align: right;\">\n",
       "      <th></th>\n",
       "      <th>doc_type</th>\n",
       "      <th>doc_name</th>\n",
       "      <th>passage_id</th>\n",
       "      <th>passage</th>\n",
       "    </tr>\n",
       "  </thead>\n",
       "  <tbody>\n",
       "    <tr>\n",
       "      <th>0</th>\n",
       "      <td>news_r</td>\n",
       "      <td>[최상연 논설위원이 간다] 이재오 “무반성 한국당, 무능 지도부…이대론 총선 어렵다”</td>\n",
       "      <td>REPORT-news_r-00007-00001</td>\n",
       "      <td>보수진영 사분오열 속 ‘국민통합연대’ 띄운 비박계 크리스마스를 앞둔 지난 23일 오...</td>\n",
       "    </tr>\n",
       "    <tr>\n",
       "      <th>1</th>\n",
       "      <td>news_r</td>\n",
       "      <td>26세에 14억 빚 얻은 청년, 8년만에 연매출 183억 비결은?</td>\n",
       "      <td>REPORT-news_r-00018-00001</td>\n",
       "      <td>가난 속에서 맨손으로 혼자 창업해 30대 중반에 코스닥 상장까지 일궈낸 이가 있다....</td>\n",
       "    </tr>\n",
       "    <tr>\n",
       "      <th>2</th>\n",
       "      <td>news_r</td>\n",
       "      <td>이통사 장기 가입자 혜택 비교해 보니…VIP일까, 호갱일까</td>\n",
       "      <td>REPORT-news_r-00020-00002</td>\n",
       "      <td>SK텔레콤은 ‘T끼리 온가족 할인’ 요금제로, 가족 구성원의 가입 합산 기간이...</td>\n",
       "    </tr>\n",
       "    <tr>\n",
       "      <th>3</th>\n",
       "      <td>news_r</td>\n",
       "      <td>자율포장 테이프 없애놓고 1+1 상품엔 둘둘···대형마트의 모순</td>\n",
       "      <td>REPORT-news_r-00024-00001</td>\n",
       "      <td>“박스 테이프는 어디 갔죠?” 1일 오전 서울 중구의 한 대형마트.\\n  장을 본 ...</td>\n",
       "    </tr>\n",
       "    <tr>\n",
       "      <th>4</th>\n",
       "      <td>news_r</td>\n",
       "      <td>이달 출시 제네시스 첫 SUV 살짝 공개···전문가들 \"예상대로\"</td>\n",
       "      <td>REPORT-news_r-00029-00001</td>\n",
       "      <td>현대차그룹 고급 브랜드 제네시스의 첫 스포츠유틸리티차량(SUV), GV80이 드디어...</td>\n",
       "    </tr>\n",
       "  </tbody>\n",
       "</table>\n",
       "</div>"
      ],
      "text/plain": [
       "  doc_type                                         doc_name  \\\n",
       "0   news_r  [최상연 논설위원이 간다] 이재오 “무반성 한국당, 무능 지도부…이대론 총선 어렵다”   \n",
       "1   news_r             26세에 14억 빚 얻은 청년, 8년만에 연매출 183억 비결은?   \n",
       "2   news_r                 이통사 장기 가입자 혜택 비교해 보니…VIP일까, 호갱일까   \n",
       "3   news_r              자율포장 테이프 없애놓고 1+1 상품엔 둘둘···대형마트의 모순   \n",
       "4   news_r             이달 출시 제네시스 첫 SUV 살짝 공개···전문가들 \"예상대로\"   \n",
       "\n",
       "                  passage_id  \\\n",
       "0  REPORT-news_r-00007-00001   \n",
       "1  REPORT-news_r-00018-00001   \n",
       "2  REPORT-news_r-00020-00002   \n",
       "3  REPORT-news_r-00024-00001   \n",
       "4  REPORT-news_r-00029-00001   \n",
       "\n",
       "                                             passage  \n",
       "0  보수진영 사분오열 속 ‘국민통합연대’ 띄운 비박계 크리스마스를 앞둔 지난 23일 오...  \n",
       "1  가난 속에서 맨손으로 혼자 창업해 30대 중반에 코스닥 상장까지 일궈낸 이가 있다....  \n",
       "2     SK텔레콤은 ‘T끼리 온가족 할인’ 요금제로, 가족 구성원의 가입 합산 기간이...  \n",
       "3  “박스 테이프는 어디 갔죠?” 1일 오전 서울 중구의 한 대형마트.\\n  장을 본 ...  \n",
       "4  현대차그룹 고급 브랜드 제네시스의 첫 스포츠유틸리티차량(SUV), GV80이 드디어...  "
      ]
     },
     "execution_count": 34,
     "metadata": {},
     "output_type": "execute_result"
    }
   ],
   "source": [
    "train_data.head()"
   ]
  },
  {
   "cell_type": "markdown",
   "id": "8b519dbd-916f-4e9c-bd93-71325e48978e",
   "metadata": {},
   "source": [
    "### 02.Validation 검증용 "
   ]
  },
  {
   "cell_type": "code",
   "execution_count": 135,
   "id": "d98569d8-28ad-4d0c-9e3c-2de9cae7059d",
   "metadata": {
    "tags": []
   },
   "outputs": [
    {
     "data": {
      "text/plain": [
       "9150"
      ]
     },
     "execution_count": 135,
     "metadata": {},
     "output_type": "execute_result"
    }
   ],
   "source": [
    "# 2.0 Validation 검증용 세트\n",
    "vfolders = [\n",
    "    '01.news_r',\n",
    "    '02.briefing',\n",
    "    '03.his_cul',\n",
    "    '04.paper',\n",
    "    '05.minute',\n",
    "    '06.edit',\n",
    "    '07.public',\n",
    "    '08.speech',\n",
    "    '09.literature',\n",
    "    '10.narration'\n",
    "    \n",
    "]\n",
    "\n",
    "vfile_paths = []\n",
    "\n",
    "for folder in vfolders:\n",
    "    folder_path = f'022.요약문 및 레포트 생성 데이터\\\\01.데이터\\\\2.Validation\\\\라벨링데이터\\\\VL1\\\\{folder}\\\\2~3sent\\\\*.json'\n",
    "    files = glob.glob(folder_path)[:]\n",
    "    vfile_paths.extend(files)\n",
    "\n",
    "# Print the resulting file paths\n",
    "#for file_path in file_paths:\n",
    "#    print(file_path)\n",
    "len(vfile_paths)"
   ]
  },
  {
   "cell_type": "code",
   "execution_count": 141,
   "id": "484f2a02-290b-4bd9-ad9e-bb65b55bb744",
   "metadata": {
    "tags": []
   },
   "outputs": [
    {
     "name": "stdout",
     "output_type": "stream",
     "text": [
      "(9150, 5)\n",
      "CPU times: total: 7.97 s\n",
      "Wall time: 11 s\n"
     ]
    }
   ],
   "source": [
    "%%time \n",
    "# Initialize an empty DataFrame\n",
    "dft=pd.DataFrame(columns=[ \"doc_type\", \"doc_name\", \"author\", \"passage\", \"passage_id\"])\n",
    "\n",
    "\n",
    "# Iterate over each JSON file\n",
    "#print(file_paths)\n",
    "for file_path in vfile_paths:\n",
    "    # Load the JSON file\n",
    "    with open(file_path, \"r\", encoding=\"utf-8\") as file:\n",
    "        json_data = json.load(file)\n",
    "    \n",
    "    # Extract the required information\n",
    "    doc_type = json_data[\"Meta(Acqusition)\"][\"doc_type\"]\n",
    "    author = json_data[\"Meta(Acqusition)\"][\"author\"]\n",
    "    doc_name = json_data[\"Meta(Acqusition)\"][\"doc_name\"]\n",
    "    passage_id = json_data[\"Meta(Refine)\"][\"passage_id\"]\n",
    "    passage = json_data[\"Meta(Refine)\"][\"passage\"]\n",
    "\n",
    "     # Create a new DataFrame for the current row\n",
    "    #dft = pd.DataFrame({\"doc_type\": [doc_type], \"doc_name\": [doc_name], \"passage_id\": [passage_id], \"passage\": [passage]})\n",
    "    dft.loc[len(dft)] = [doc_type,doc_name, author, passage,passage_id]\n",
    "    # Append the new DataFrame to the list\n",
    "    #dft.append(df)\n",
    "\n",
    "# Concatenate all DataFrames into a single DataFrame\n",
    "#test_data = pd.concat(dft, ignore_index=True)\n",
    "# Print the resulting DataFrame\n",
    "print(dft.shape)"
   ]
  },
  {
   "cell_type": "code",
   "execution_count": 142,
   "id": "a1bd71e5-adcf-4449-a8d6-118b24afbc91",
   "metadata": {
    "tags": []
   },
   "outputs": [
    {
     "data": {
      "text/html": [
       "<div>\n",
       "<style scoped>\n",
       "    .dataframe tbody tr th:only-of-type {\n",
       "        vertical-align: middle;\n",
       "    }\n",
       "\n",
       "    .dataframe tbody tr th {\n",
       "        vertical-align: top;\n",
       "    }\n",
       "\n",
       "    .dataframe thead th {\n",
       "        text-align: right;\n",
       "    }\n",
       "</style>\n",
       "<table border=\"1\" class=\"dataframe\">\n",
       "  <thead>\n",
       "    <tr style=\"text-align: right;\">\n",
       "      <th></th>\n",
       "      <th>doc_type</th>\n",
       "      <th>doc_name</th>\n",
       "      <th>passage_id</th>\n",
       "      <th>passage</th>\n",
       "    </tr>\n",
       "  </thead>\n",
       "  <tbody>\n",
       "    <tr>\n",
       "      <th>0</th>\n",
       "      <td>narration</td>\n",
       "      <td>'일본 활어차, 이대로 좋은가?'</td>\n",
       "      <td>REPORT-narration-99999-00001</td>\n",
       "      <td>'NO JAPAN' 운동이 의류, 화장품, 장난감 등 일상생활 전반으로 확산되는 가...</td>\n",
       "    </tr>\n",
       "    <tr>\n",
       "      <th>1</th>\n",
       "      <td>narration</td>\n",
       "      <td>'일본 활어차, 이대로 좋은가?'</td>\n",
       "      <td>REPORT-narration-99999-00001</td>\n",
       "      <td>'NO JAPAN' 운동이 의류, 화장품, 장난감 등 일상생활 전반으로 확산되는 가...</td>\n",
       "    </tr>\n",
       "    <tr>\n",
       "      <th>2</th>\n",
       "      <td>narration</td>\n",
       "      <td>'일본 활어차, 이대로 좋은가?'</td>\n",
       "      <td>REPORT-narration-99999-00001</td>\n",
       "      <td>'NO JAPAN' 운동이 의류, 화장품, 장난감 등 일상생활 전반으로 확산되는 가...</td>\n",
       "    </tr>\n",
       "    <tr>\n",
       "      <th>3</th>\n",
       "      <td>narration</td>\n",
       "      <td>'일본 활어차, 이대로 좋은가?'</td>\n",
       "      <td>REPORT-narration-99999-00001</td>\n",
       "      <td>'NO JAPAN' 운동이 의류, 화장품, 장난감 등 일상생활 전반으로 확산되는 가...</td>\n",
       "    </tr>\n",
       "    <tr>\n",
       "      <th>4</th>\n",
       "      <td>narration</td>\n",
       "      <td>'일본 활어차, 이대로 좋은가?'</td>\n",
       "      <td>REPORT-narration-99999-00001</td>\n",
       "      <td>'NO JAPAN' 운동이 의류, 화장품, 장난감 등 일상생활 전반으로 확산되는 가...</td>\n",
       "    </tr>\n",
       "  </tbody>\n",
       "</table>\n",
       "</div>"
      ],
      "text/plain": [
       "    doc_type            doc_name                    passage_id  \\\n",
       "0  narration  '일본 활어차, 이대로 좋은가?'  REPORT-narration-99999-00001   \n",
       "1  narration  '일본 활어차, 이대로 좋은가?'  REPORT-narration-99999-00001   \n",
       "2  narration  '일본 활어차, 이대로 좋은가?'  REPORT-narration-99999-00001   \n",
       "3  narration  '일본 활어차, 이대로 좋은가?'  REPORT-narration-99999-00001   \n",
       "4  narration  '일본 활어차, 이대로 좋은가?'  REPORT-narration-99999-00001   \n",
       "\n",
       "                                             passage  \n",
       "0  'NO JAPAN' 운동이 의류, 화장품, 장난감 등 일상생활 전반으로 확산되는 가...  \n",
       "1  'NO JAPAN' 운동이 의류, 화장품, 장난감 등 일상생활 전반으로 확산되는 가...  \n",
       "2  'NO JAPAN' 운동이 의류, 화장품, 장난감 등 일상생활 전반으로 확산되는 가...  \n",
       "3  'NO JAPAN' 운동이 의류, 화장품, 장난감 등 일상생활 전반으로 확산되는 가...  \n",
       "4  'NO JAPAN' 운동이 의류, 화장품, 장난감 등 일상생활 전반으로 확산되는 가...  "
      ]
     },
     "execution_count": 142,
     "metadata": {},
     "output_type": "execute_result"
    }
   ],
   "source": [
    "test_data.head()"
   ]
  },
  {
   "cell_type": "code",
   "execution_count": 147,
   "id": "2932709c-0217-4390-9157-007269264d2b",
   "metadata": {
    "tags": []
   },
   "outputs": [
    {
     "data": {
      "text/plain": [
       "doc_type\n",
       "speech        2000\n",
       "minute        1700\n",
       "news_r        1350\n",
       "briefing      1000\n",
       "literature     600\n",
       "his_cul        500\n",
       "paper          500\n",
       "edit           500\n",
       "public         500\n",
       "narration      500\n",
       "Name: count, dtype: int64"
      ]
     },
     "execution_count": 147,
     "metadata": {},
     "output_type": "execute_result"
    }
   ],
   "source": [
    "# 정답인 '분류'의 유일한 값을 확인하여 주제 수를 확인\n",
    "dft[\"doc_type\"].value_counts()"
   ]
  },
  {
   "cell_type": "code",
   "execution_count": 148,
   "id": "a8aff053-486b-4df6-a1e6-aa77ce191423",
   "metadata": {
    "tags": []
   },
   "outputs": [
    {
     "data": {
      "text/plain": [
       "doc_type         0\n",
       "doc_name         0\n",
       "author        6700\n",
       "passage          0\n",
       "passage_id       0\n",
       "dtype: int64"
      ]
     },
     "execution_count": 148,
     "metadata": {},
     "output_type": "execute_result"
    }
   ],
   "source": [
    "dft.isnull().sum()"
   ]
  },
  {
   "cell_type": "code",
   "execution_count": 149,
   "id": "c9d8da8c-a9b3-44c9-b535-e91e0a349901",
   "metadata": {
    "tags": []
   },
   "outputs": [
    {
     "data": {
      "text/plain": [
       "<Axes: xlabel='count', ylabel='doc_type'>"
      ]
     },
     "execution_count": 149,
     "metadata": {},
     "output_type": "execute_result"
    },
    {
     "data": {
      "image/png": "[encoded data removed]",
      "text/plain": [
       "<Figure size 640x480 with 1 Axes>"
      ]
     },
     "metadata": {},
     "output_type": "display_data"
    }
   ],
   "source": [
    "sns.countplot(data=dft, y=\"doc_type\")"
   ]
  },
  {
   "cell_type": "markdown",
   "id": "562b2309-2f63-4172-983a-07a456239385",
   "metadata": {},
   "source": [
    "#### 데이터 분석"
   ]
  },
  {
   "cell_type": "code",
   "execution_count": 42,
   "id": "d517011a-4649-460a-a90d-5cc80d18ba2e",
   "metadata": {
    "tags": []
   },
   "outputs": [
    {
     "data": {
      "text/html": [
       "<div>\n",
       "<style scoped>\n",
       "    .dataframe tbody tr th:only-of-type {\n",
       "        vertical-align: middle;\n",
       "    }\n",
       "\n",
       "    .dataframe tbody tr th {\n",
       "        vertical-align: top;\n",
       "    }\n",
       "\n",
       "    .dataframe thead th {\n",
       "        text-align: right;\n",
       "    }\n",
       "</style>\n",
       "<table border=\"1\" class=\"dataframe\">\n",
       "  <thead>\n",
       "    <tr style=\"text-align: right;\">\n",
       "      <th></th>\n",
       "      <th>doc_type</th>\n",
       "      <th>doc_name</th>\n",
       "      <th>passage_id</th>\n",
       "      <th>passage</th>\n",
       "    </tr>\n",
       "  </thead>\n",
       "  <tbody>\n",
       "    <tr>\n",
       "      <th>count</th>\n",
       "      <td>1000</td>\n",
       "      <td>1000</td>\n",
       "      <td>1000</td>\n",
       "      <td>1000</td>\n",
       "    </tr>\n",
       "    <tr>\n",
       "      <th>unique</th>\n",
       "      <td>10</td>\n",
       "      <td>535</td>\n",
       "      <td>1000</td>\n",
       "      <td>1000</td>\n",
       "    </tr>\n",
       "    <tr>\n",
       "      <th>top</th>\n",
       "      <td>news_r</td>\n",
       "      <td>제19대 국회 교육문화체육관광위원회 회의록 데이터셋.csv</td>\n",
       "      <td>REPORT-news_r-00007-00001</td>\n",
       "      <td>보수진영 사분오열 속 ‘국민통합연대’ 띄운 비박계 크리스마스를 앞둔 지난 23일 오...</td>\n",
       "    </tr>\n",
       "    <tr>\n",
       "      <th>freq</th>\n",
       "      <td>100</td>\n",
       "      <td>59</td>\n",
       "      <td>1</td>\n",
       "      <td>1</td>\n",
       "    </tr>\n",
       "  </tbody>\n",
       "</table>\n",
       "</div>"
      ],
      "text/plain": [
       "       doc_type                          doc_name                 passage_id  \\\n",
       "count      1000                              1000                       1000   \n",
       "unique       10                               535                       1000   \n",
       "top      news_r  제19대 국회 교육문화체육관광위원회 회의록 데이터셋.csv  REPORT-news_r-00007-00001   \n",
       "freq        100                                59                          1   \n",
       "\n",
       "                                                  passage  \n",
       "count                                                1000  \n",
       "unique                                               1000  \n",
       "top     보수진영 사분오열 속 ‘국민통합연대’ 띄운 비박계 크리스마스를 앞둔 지난 23일 오...  \n",
       "freq                                                    1  "
      ]
     },
     "execution_count": 42,
     "metadata": {},
     "output_type": "execute_result"
    }
   ],
   "source": [
    "train_data.describe()"
   ]
  },
  {
   "cell_type": "code",
   "execution_count": 43,
   "id": "f361e0a3-a2bd-4747-91c4-b73a93655b49",
   "metadata": {
    "tags": []
   },
   "outputs": [
    {
     "data": {
      "text/html": [
       "<div>\n",
       "<style scoped>\n",
       "    .dataframe tbody tr th:only-of-type {\n",
       "        vertical-align: middle;\n",
       "    }\n",
       "\n",
       "    .dataframe tbody tr th {\n",
       "        vertical-align: top;\n",
       "    }\n",
       "\n",
       "    .dataframe thead th {\n",
       "        text-align: right;\n",
       "    }\n",
       "</style>\n",
       "<table border=\"1\" class=\"dataframe\">\n",
       "  <thead>\n",
       "    <tr style=\"text-align: right;\">\n",
       "      <th></th>\n",
       "      <th>doc_type</th>\n",
       "      <th>doc_name</th>\n",
       "      <th>passage_id</th>\n",
       "      <th>passage</th>\n",
       "    </tr>\n",
       "  </thead>\n",
       "  <tbody>\n",
       "    <tr>\n",
       "      <th>0</th>\n",
       "      <td>news_r</td>\n",
       "      <td>[최상연 논설위원이 간다] 이재오 “무반성 한국당, 무능 지도부…이대론 총선 어렵다”</td>\n",
       "      <td>REPORT-news_r-00007-00001</td>\n",
       "      <td>보수진영 사분오열 속 ‘국민통합연대’ 띄운 비박계 크리스마스를 앞둔 지난 23일 오...</td>\n",
       "    </tr>\n",
       "    <tr>\n",
       "      <th>1</th>\n",
       "      <td>news_r</td>\n",
       "      <td>26세에 14억 빚 얻은 청년, 8년만에 연매출 183억 비결은?</td>\n",
       "      <td>REPORT-news_r-00018-00001</td>\n",
       "      <td>가난 속에서 맨손으로 혼자 창업해 30대 중반에 코스닥 상장까지 일궈낸 이가 있다....</td>\n",
       "    </tr>\n",
       "    <tr>\n",
       "      <th>2</th>\n",
       "      <td>news_r</td>\n",
       "      <td>이통사 장기 가입자 혜택 비교해 보니…VIP일까, 호갱일까</td>\n",
       "      <td>REPORT-news_r-00020-00002</td>\n",
       "      <td>SK텔레콤은 ‘T끼리 온가족 할인’ 요금제로, 가족 구성원의 가입 합산 기간이...</td>\n",
       "    </tr>\n",
       "    <tr>\n",
       "      <th>3</th>\n",
       "      <td>news_r</td>\n",
       "      <td>자율포장 테이프 없애놓고 1+1 상품엔 둘둘···대형마트의 모순</td>\n",
       "      <td>REPORT-news_r-00024-00001</td>\n",
       "      <td>“박스 테이프는 어디 갔죠?” 1일 오전 서울 중구의 한 대형마트.\\n  장을 본 ...</td>\n",
       "    </tr>\n",
       "    <tr>\n",
       "      <th>4</th>\n",
       "      <td>news_r</td>\n",
       "      <td>이달 출시 제네시스 첫 SUV 살짝 공개···전문가들 \"예상대로\"</td>\n",
       "      <td>REPORT-news_r-00029-00001</td>\n",
       "      <td>현대차그룹 고급 브랜드 제네시스의 첫 스포츠유틸리티차량(SUV), GV80이 드디어...</td>\n",
       "    </tr>\n",
       "  </tbody>\n",
       "</table>\n",
       "</div>"
      ],
      "text/plain": [
       "  doc_type                                         doc_name  \\\n",
       "0   news_r  [최상연 논설위원이 간다] 이재오 “무반성 한국당, 무능 지도부…이대론 총선 어렵다”   \n",
       "1   news_r             26세에 14억 빚 얻은 청년, 8년만에 연매출 183억 비결은?   \n",
       "2   news_r                 이통사 장기 가입자 혜택 비교해 보니…VIP일까, 호갱일까   \n",
       "3   news_r              자율포장 테이프 없애놓고 1+1 상품엔 둘둘···대형마트의 모순   \n",
       "4   news_r             이달 출시 제네시스 첫 SUV 살짝 공개···전문가들 \"예상대로\"   \n",
       "\n",
       "                  passage_id  \\\n",
       "0  REPORT-news_r-00007-00001   \n",
       "1  REPORT-news_r-00018-00001   \n",
       "2  REPORT-news_r-00020-00002   \n",
       "3  REPORT-news_r-00024-00001   \n",
       "4  REPORT-news_r-00029-00001   \n",
       "\n",
       "                                             passage  \n",
       "0  보수진영 사분오열 속 ‘국민통합연대’ 띄운 비박계 크리스마스를 앞둔 지난 23일 오...  \n",
       "1  가난 속에서 맨손으로 혼자 창업해 30대 중반에 코스닥 상장까지 일궈낸 이가 있다....  \n",
       "2     SK텔레콤은 ‘T끼리 온가족 할인’ 요금제로, 가족 구성원의 가입 합산 기간이...  \n",
       "3  “박스 테이프는 어디 갔죠?” 1일 오전 서울 중구의 한 대형마트.\\n  장을 본 ...  \n",
       "4  현대차그룹 고급 브랜드 제네시스의 첫 스포츠유틸리티차량(SUV), GV80이 드디어...  "
      ]
     },
     "execution_count": 43,
     "metadata": {},
     "output_type": "execute_result"
    }
   ],
   "source": [
    "train_data.head()"
   ]
  },
  {
   "cell_type": "code",
   "execution_count": 44,
   "id": "14140e33-62aa-4731-b01d-66e60b24d93e",
   "metadata": {
    "tags": []
   },
   "outputs": [
    {
     "data": {
      "text/html": [
       "<div>\n",
       "<style scoped>\n",
       "    .dataframe tbody tr th:only-of-type {\n",
       "        vertical-align: middle;\n",
       "    }\n",
       "\n",
       "    .dataframe tbody tr th {\n",
       "        vertical-align: top;\n",
       "    }\n",
       "\n",
       "    .dataframe thead th {\n",
       "        text-align: right;\n",
       "    }\n",
       "</style>\n",
       "<table border=\"1\" class=\"dataframe\">\n",
       "  <thead>\n",
       "    <tr style=\"text-align: right;\">\n",
       "      <th></th>\n",
       "      <th>doc_type</th>\n",
       "      <th>doc_name</th>\n",
       "      <th>passage_id</th>\n",
       "      <th>passage</th>\n",
       "    </tr>\n",
       "  </thead>\n",
       "  <tbody>\n",
       "    <tr>\n",
       "      <th>995</th>\n",
       "      <td>narration</td>\n",
       "      <td>51006_DC_걸어서세계속으로006_2014007630.txt</td>\n",
       "      <td>REPORT-narration-51006-00019</td>\n",
       "      <td>한국과는 정반대다.\\n계절의 뒤바뀜을 느껴보는 것도 여행의 또 다른 재미다.\\n이곳...</td>\n",
       "    </tr>\n",
       "    <tr>\n",
       "      <th>996</th>\n",
       "      <td>narration</td>\n",
       "      <td>51007_DC_걸어서세계속으로007_2014007672.txt</td>\n",
       "      <td>REPORT-narration-51007-00003</td>\n",
       "      <td>1960년대부터는 중국의 박해를 피해 망명한 티베트인들이 이곳을 중심으로 네팔에 정...</td>\n",
       "    </tr>\n",
       "    <tr>\n",
       "      <th>997</th>\n",
       "      <td>narration</td>\n",
       "      <td>51007_DC_걸어서세계속으로007_2014007672.txt</td>\n",
       "      <td>REPORT-narration-51007-00004</td>\n",
       "      <td>포카라에서는 어느 곳에서나 안나푸르나 산 문을 볼 수 있다.\\n안나푸르나로 가는 길...</td>\n",
       "    </tr>\n",
       "    <tr>\n",
       "      <th>998</th>\n",
       "      <td>narration</td>\n",
       "      <td>51007_DC_걸어서세계속으로007_2014007672.txt</td>\n",
       "      <td>REPORT-narration-51007-00007</td>\n",
       "      <td>청년의 친절이 고마웠다.\\n주민들은 산비탈을 깎아 만든 계단식 밭에서 겨울에는 주로...</td>\n",
       "    </tr>\n",
       "    <tr>\n",
       "      <th>999</th>\n",
       "      <td>narration</td>\n",
       "      <td>51007_DC_걸어서세계속으로007_2014007672.txt</td>\n",
       "      <td>REPORT-narration-51007-00009</td>\n",
       "      <td>부모의 사랑을 받으며 커야 할 8살 나이에 아이가 짊어져야 하는 삶의 무게가 버거워...</td>\n",
       "    </tr>\n",
       "  </tbody>\n",
       "</table>\n",
       "</div>"
      ],
      "text/plain": [
       "      doc_type                             doc_name  \\\n",
       "995  narration  51006_DC_걸어서세계속으로006_2014007630.txt   \n",
       "996  narration  51007_DC_걸어서세계속으로007_2014007672.txt   \n",
       "997  narration  51007_DC_걸어서세계속으로007_2014007672.txt   \n",
       "998  narration  51007_DC_걸어서세계속으로007_2014007672.txt   \n",
       "999  narration  51007_DC_걸어서세계속으로007_2014007672.txt   \n",
       "\n",
       "                       passage_id  \\\n",
       "995  REPORT-narration-51006-00019   \n",
       "996  REPORT-narration-51007-00003   \n",
       "997  REPORT-narration-51007-00004   \n",
       "998  REPORT-narration-51007-00007   \n",
       "999  REPORT-narration-51007-00009   \n",
       "\n",
       "                                               passage  \n",
       "995  한국과는 정반대다.\\n계절의 뒤바뀜을 느껴보는 것도 여행의 또 다른 재미다.\\n이곳...  \n",
       "996  1960년대부터는 중국의 박해를 피해 망명한 티베트인들이 이곳을 중심으로 네팔에 정...  \n",
       "997  포카라에서는 어느 곳에서나 안나푸르나 산 문을 볼 수 있다.\\n안나푸르나로 가는 길...  \n",
       "998  청년의 친절이 고마웠다.\\n주민들은 산비탈을 깎아 만든 계단식 밭에서 겨울에는 주로...  \n",
       "999  부모의 사랑을 받으며 커야 할 8살 나이에 아이가 짊어져야 하는 삶의 무게가 버거워...  "
      ]
     },
     "execution_count": 44,
     "metadata": {},
     "output_type": "execute_result"
    }
   ],
   "source": [
    "train_data.tail()"
   ]
  },
  {
   "cell_type": "code",
   "execution_count": 45,
   "id": "0e625bfc-6890-4382-a795-b3f1bf4c4d6a",
   "metadata": {
    "tags": []
   },
   "outputs": [
    {
     "data": {
      "text/plain": [
       "doc_type\n",
       "news_r        100\n",
       "briefing      100\n",
       "his_cul       100\n",
       "paper         100\n",
       "minute        100\n",
       "edit          100\n",
       "public        100\n",
       "speech        100\n",
       "literature    100\n",
       "narration     100\n",
       "Name: count, dtype: int64"
      ]
     },
     "execution_count": 45,
     "metadata": {},
     "output_type": "execute_result"
    }
   ],
   "source": [
    "train_data[\"doc_type\"].value_counts()"
   ]
  },
  {
   "cell_type": "code",
   "execution_count": 46,
   "id": "d90057d1-e0a0-4922-ae69-b43be0c59d49",
   "metadata": {
    "tags": []
   },
   "outputs": [
    {
     "data": {
      "text/plain": [
       "doc_type      0\n",
       "doc_name      0\n",
       "passage_id    0\n",
       "passage       0\n",
       "dtype: int64"
      ]
     },
     "execution_count": 46,
     "metadata": {},
     "output_type": "execute_result"
    }
   ],
   "source": [
    "train_data.isnull().sum()"
   ]
  },
  {
   "cell_type": "markdown",
   "id": "16f9a859-308b-44a7-851d-5cd647e7a32f",
   "metadata": {},
   "source": [
    "### 문자 길이"
   ]
  },
  {
   "cell_type": "code",
   "execution_count": 47,
   "id": "b0e40789-a51e-4d63-b0c6-1857f33a6b26",
   "metadata": {
    "tags": []
   },
   "outputs": [
    {
     "name": "stdout",
     "output_type": "stream",
     "text": [
      "전체 학습 데이터의 개수: 1000\n"
     ]
    }
   ],
   "source": [
    "# 학습 데이터의 개수\n",
    "print('전체 학습 데이터의 개수: {}'.format(len(train_data)))\n",
    "\n",
    "# 결과\n",
    "# 전체 학습 데이터의 개수: 1000"
   ]
  },
  {
   "cell_type": "code",
   "execution_count": 48,
   "id": "497b6e0d-3b91-4734-9d81-79893d76e3e7",
   "metadata": {
    "tags": []
   },
   "outputs": [
    {
     "data": {
      "text/plain": [
       "0      1204\n",
       "1      1240\n",
       "2      1227\n",
       "3      1285\n",
       "4      1215\n",
       "       ... \n",
       "995     405\n",
       "996     418\n",
       "997     402\n",
       "998     401\n",
       "999     419\n",
       "Name: passage, Length: 1000, dtype: int64"
      ]
     },
     "execution_count": 48,
     "metadata": {},
     "output_type": "execute_result"
    }
   ],
   "source": [
    "# 각 passage의 길이를 분석\n",
    "train_length = train_data['passage'].apply(len)\n",
    "train_length"
   ]
  },
  {
   "cell_type": "code",
   "execution_count": 80,
   "id": "d8412a02-c460-437f-9566-2e826fad8be1",
   "metadata": {
    "tags": []
   },
   "outputs": [
    {
     "data": {
      "text/plain": [
       "count    1000.000000\n",
       "mean      746.968000\n",
       "std       237.385186\n",
       "min       301.000000\n",
       "25%       669.500000\n",
       "50%       744.000000\n",
       "75%       809.250000\n",
       "max      1489.000000\n",
       "Name: passage, dtype: float64"
      ]
     },
     "execution_count": 80,
     "metadata": {},
     "output_type": "execute_result"
    }
   ],
   "source": [
    "train_length.describe()"
   ]
  },
  {
   "cell_type": "code",
   "execution_count": 50,
   "id": "6646c10a-dca6-4470-a555-516721ff90d6",
   "metadata": {
    "tags": []
   },
   "outputs": [
    {
     "name": "stdout",
     "output_type": "stream",
     "text": [
      "물음표가 있는 질문: 21.80%\n",
      "마침표가 있는 질문: 100.00%\n",
      "숫자가 있는 질문: 83.20%\n"
     ]
    }
   ],
   "source": [
    "# 물음표가 구두점으로 사용되는 비율\n",
    "qmarks = np.mean(train_data['passage'].apply(lambda x : '?' in x))\n",
    "# 마침표가 구두점으로 사용되는 비율\n",
    "fullstop = np.mean(train_data['passage'].apply(lambda x : '.' in x))\n",
    "# 첫 번째 대문자의 비율\n",
    "#capital_first = np.mean(train_data['passage'].apply(lambda x : x[0].isupper()))\n",
    "# 대문자 비율\n",
    "#capitals = np.mean(train_data['passage'].apply(lambda x : max([y.isupper() for y in x])))\n",
    "# 숫자 비율\n",
    "numbers = np.mean(train_data['passage'].apply(lambda x : max([y.isdigit() for y in x])))\n",
    "\n",
    "print('물음표가 있는 질문: {:.2f}%'.format(qmarks * 100))\n",
    "print('마침표가 있는 질문: {:.2f}%'.format(fullstop * 100))\n",
    "#print('첫 글자가 대문자인 질문: {:.2f}%'.format(capital_first * 100))\n",
    "#print('대문자가 있는 질문: {:.2f}%'.format(capitals * 100))\n",
    "print('숫자가 있는 질문: {:.2f}%'.format(numbers * 100))\n",
    "\n",
    "# 결과\n",
    "# 물음표가 있는 질문: 21.80%\n",
    "# 마침표가 있는 질문: 100.00%\n",
    "# 숫자가 있는 질문: 83.20%"
   ]
  },
  {
   "cell_type": "code",
   "execution_count": 52,
   "id": "d6aac864-5275-411f-a26a-85e6a8258436",
   "metadata": {
    "tags": []
   },
   "outputs": [
    {
     "data": {
      "text/html": [
       "<div>\n",
       "<style scoped>\n",
       "    .dataframe tbody tr th:only-of-type {\n",
       "        vertical-align: middle;\n",
       "    }\n",
       "\n",
       "    .dataframe tbody tr th {\n",
       "        vertical-align: top;\n",
       "    }\n",
       "\n",
       "    .dataframe thead th {\n",
       "        text-align: right;\n",
       "    }\n",
       "</style>\n",
       "<table border=\"1\" class=\"dataframe\">\n",
       "  <thead>\n",
       "    <tr style=\"text-align: right;\">\n",
       "      <th></th>\n",
       "      <th>doc_type</th>\n",
       "      <th>doc_name</th>\n",
       "      <th>passage_id</th>\n",
       "      <th>passage</th>\n",
       "      <th>word_count</th>\n",
       "      <th>unique_word_count</th>\n",
       "    </tr>\n",
       "  </thead>\n",
       "  <tbody>\n",
       "    <tr>\n",
       "      <th>0</th>\n",
       "      <td>news_r</td>\n",
       "      <td>[최상연 논설위원이 간다] 이재오 “무반성 한국당, 무능 지도부…이대론 총선 어렵다”</td>\n",
       "      <td>REPORT-news_r-00007-00001</td>\n",
       "      <td>보수진영 사분오열 속 ‘국민통합연대’ 띄운 비박계 크리스마스를 앞둔 지난 23일 오...</td>\n",
       "      <td>258</td>\n",
       "      <td>242</td>\n",
       "    </tr>\n",
       "    <tr>\n",
       "      <th>1</th>\n",
       "      <td>news_r</td>\n",
       "      <td>26세에 14억 빚 얻은 청년, 8년만에 연매출 183억 비결은?</td>\n",
       "      <td>REPORT-news_r-00018-00001</td>\n",
       "      <td>가난 속에서 맨손으로 혼자 창업해 30대 중반에 코스닥 상장까지 일궈낸 이가 있다....</td>\n",
       "      <td>279</td>\n",
       "      <td>254</td>\n",
       "    </tr>\n",
       "    <tr>\n",
       "      <th>2</th>\n",
       "      <td>news_r</td>\n",
       "      <td>이통사 장기 가입자 혜택 비교해 보니…VIP일까, 호갱일까</td>\n",
       "      <td>REPORT-news_r-00020-00002</td>\n",
       "      <td>SK텔레콤은 ‘T끼리 온가족 할인’ 요금제로, 가족 구성원의 가입 합산 기간이...</td>\n",
       "      <td>284</td>\n",
       "      <td>229</td>\n",
       "    </tr>\n",
       "    <tr>\n",
       "      <th>3</th>\n",
       "      <td>news_r</td>\n",
       "      <td>자율포장 테이프 없애놓고 1+1 상품엔 둘둘···대형마트의 모순</td>\n",
       "      <td>REPORT-news_r-00024-00001</td>\n",
       "      <td>“박스 테이프는 어디 갔죠?” 1일 오전 서울 중구의 한 대형마트.\\n  장을 본 ...</td>\n",
       "      <td>286</td>\n",
       "      <td>235</td>\n",
       "    </tr>\n",
       "    <tr>\n",
       "      <th>4</th>\n",
       "      <td>news_r</td>\n",
       "      <td>이달 출시 제네시스 첫 SUV 살짝 공개···전문가들 \"예상대로\"</td>\n",
       "      <td>REPORT-news_r-00029-00001</td>\n",
       "      <td>현대차그룹 고급 브랜드 제네시스의 첫 스포츠유틸리티차량(SUV), GV80이 드디어...</td>\n",
       "      <td>262</td>\n",
       "      <td>232</td>\n",
       "    </tr>\n",
       "  </tbody>\n",
       "</table>\n",
       "</div>"
      ],
      "text/plain": [
       "  doc_type                                         doc_name  \\\n",
       "0   news_r  [최상연 논설위원이 간다] 이재오 “무반성 한국당, 무능 지도부…이대론 총선 어렵다”   \n",
       "1   news_r             26세에 14억 빚 얻은 청년, 8년만에 연매출 183억 비결은?   \n",
       "2   news_r                 이통사 장기 가입자 혜택 비교해 보니…VIP일까, 호갱일까   \n",
       "3   news_r              자율포장 테이프 없애놓고 1+1 상품엔 둘둘···대형마트의 모순   \n",
       "4   news_r             이달 출시 제네시스 첫 SUV 살짝 공개···전문가들 \"예상대로\"   \n",
       "\n",
       "                  passage_id  \\\n",
       "0  REPORT-news_r-00007-00001   \n",
       "1  REPORT-news_r-00018-00001   \n",
       "2  REPORT-news_r-00020-00002   \n",
       "3  REPORT-news_r-00024-00001   \n",
       "4  REPORT-news_r-00029-00001   \n",
       "\n",
       "                                             passage  word_count  \\\n",
       "0  보수진영 사분오열 속 ‘국민통합연대’ 띄운 비박계 크리스마스를 앞둔 지난 23일 오...         258   \n",
       "1  가난 속에서 맨손으로 혼자 창업해 30대 중반에 코스닥 상장까지 일궈낸 이가 있다....         279   \n",
       "2     SK텔레콤은 ‘T끼리 온가족 할인’ 요금제로, 가족 구성원의 가입 합산 기간이...         284   \n",
       "3  “박스 테이프는 어디 갔죠?” 1일 오전 서울 중구의 한 대형마트.\\n  장을 본 ...         286   \n",
       "4  현대차그룹 고급 브랜드 제네시스의 첫 스포츠유틸리티차량(SUV), GV80이 드디어...         262   \n",
       "\n",
       "   unique_word_count  \n",
       "0                242  \n",
       "1                254  \n",
       "2                229  \n",
       "3                235  \n",
       "4                232  "
      ]
     },
     "execution_count": 52,
     "metadata": {},
     "output_type": "execute_result"
    }
   ],
   "source": [
    "train_data[\"word_count\"] = train_data[\"passage\"].apply(lambda x : len(x.split())) # calculates the number of words in each string in the \"title\" column\n",
    "train_data[\"unique_word_count\"] = train_data[\"passage\"].apply(lambda x : len(set(x.split()))) # calculate the number of unique words in each string in the \n",
    "train_data.head()"
   ]
  },
  {
   "cell_type": "markdown",
   "id": "24b4bc90-1078-4667-9e68-da2a040a0dda",
   "metadata": {},
   "source": [
    "### 데이터 전처리"
   ]
  },
  {
   "cell_type": "code",
   "execution_count": 113,
   "id": "0bf925a9-c0e9-428a-880f-ff4a7b173efb",
   "metadata": {},
   "outputs": [],
   "source": [
    "import re\n",
    "from bs4 import BeautifulSoup\n",
    "from nltk.corpus import stopwords\n",
    "#from tensorflow.python.keras.preprocessing.sequence import pad_sequences\n",
    "#from tensorflow.python.keras.preprocessing.text import Tokenizer\n",
    "import nltk"
   ]
  },
  {
   "cell_type": "code",
   "execution_count": 82,
   "id": "3e272630-06d6-4873-a690-ff99627decb2",
   "metadata": {
    "tags": []
   },
   "outputs": [
    {
     "data": {
      "text/plain": [
       "'보수진영 사분오열 속 ‘국민통합연대’ 띄운 비박계 크리스마스를 앞둔 지난 23일 오전 서울 프레스센터 국제회의실.\\n  보수분열 극복을 내건 ‘국민통합연대’가 창립대회를 열었다.\\n  햇살 없이 착 가라앉은 날씨에 동지 바람이 매서웠지만 행사장 안은 달아올랐다.\\n  문재인 정권을 향한 맹폭격이 이어졌고 ‘무능, 기만의 오만방자한 정권에 사망을 선고한다’는 창립선언문이 나왔다.\\n  홍준표 전 자유한국당 대표 등 전현직 의원 20여명을 포함해 500여명이 자리를 빼곡하게 메웠다.\\n  총선이 불과 석달 남짓이다.\\n  야권 인사들이 정권을 두들겨 패는 거야 이상한 일이 아니다.\\n  눈 여겨 볼 대목은 모인 사람이 대부분 친이·비박계(친이명박·비박근혜) 인사들이란 점이다.\\n  박관용 전 국회의장, 이문열 작가와 함께 보수쪽 명망가 여럿이 이름을 올리고 더러 참석했다.\\n  전광훈 목사는 축사를 했다.\\n  그래도 이명박 정권서 요직을 맡았던 사람들이 주축이다.\\n  이재오 중앙집행위원장과 홍준표 전 대표가 한가운데 있다.\\n  두 사람은 ‘친박 그룹’에 둘러싸인 황교안 대표와 한국당에 불편한 기색을 감추지 않는 중이다.\\n  홍 전 대표는 이튿날 “무기력한 야당만 믿고 따르기엔 너무 답답하고 앞날이 보이지 않아 창립한 게 국민통합연대”란 글을 올렸다.\\n  31일엔 “한국당 지도부는 총사퇴하고 비상대책위를 꾸려야 한다”고 황 대표 사퇴를 요구했다.\\n  이재오 위원장은 지난 10월3일 광화문의 조국 규탄집회장에서 “자유한국당은 집회에서 빠지라”고 외쳤다.\\n  가뜩이나 뿔뿔이 흩어진 각자도생의 보수세력이다.\\n  한국당과 우리공화당에다 새로운 보수당, 이언주 신당, 이정현 신당이 나올 판이다.\\n  게다가 개정선거법의 준연동형 비례대표제는 군소정당에 유리한 분열요인이다.\\n  중앙선관위에 등록된 정당이 34개인데 창당준비위원회를 설립한 예비정당만 16개에 달한다.\\n  야권 빅텐트를 외칠만한 상황이긴 하다.\\n  그런데 통합을 내건 이재오 위원장은 “어느 한 정당이나 단체 중 힘 있는 정당, 단체를 중심으로 뭘 하자는 식의 통합은 어렵다”고 주장했다.\\n  황교안 대표와 한국당 중심의 보수 통합론을 가로막고 나선 셈이다.\\n  그렇다고 ‘힘 있는’ 한국당이 ‘힘 없는’ 국민통합연대의 주문에 따를 리는 없다.\\n  결국 친이계가 떨어져 나가는 ‘보수 4분열’이란 해석이 나왔다.\\n  정말 그럴까.\\n  국민통합연대는 조만간 친이 비박 신당으로 탈바꿈할 것인가.\\n '"
      ]
     },
     "execution_count": 82,
     "metadata": {},
     "output_type": "execute_result"
    }
   ],
   "source": [
    "sample_content = train_data[\"passage\"][0]\n",
    "sample_content"
   ]
  },
  {
   "cell_type": "code",
   "execution_count": 56,
   "id": "8cc5a904-3c60-474b-a84e-fbe83dd22864",
   "metadata": {
    "tags": []
   },
   "outputs": [],
   "source": [
    "def preprocessing(text):\n",
    "    # 개행문자 제거\n",
    "    text = re.sub('\\n', ' ', text)\n",
    "    #text = re.sub('‘', '', text)\n",
    "    #text = re.sub('’', ' ', text)\n",
    "    # 특수문자 제거\n",
    "    # 특수문자나 이모티콘 등은 때로는 의미를 갖기도 하지만 여기에서는 제거했습니다.\n",
    "    # text = re.sub('[?.,;:|\\)*~`’!^\\-_+<>@\\#$%&-=#}※]', '', text)\n",
    "    # 한글, 영문, 숫자만 남기고 모두 제거하도록 합니다.\n",
    "    #text = re.sub('[^가-힣ㄱ-ㅎㅏ-ㅣa-zA-Z0-9]', ' ', text)\n",
    "    # 한글, 영문만 남기고 모두 제거하도록 합니다.\n",
    "    text = re.sub('[^가-힣ㄱ-ㅎㅏ-ㅣa-zA-Z]', ' ', text)\n",
    "    # 중복으로 생성된 공백값을 제거합니다.\n",
    "    text = re.sub(' +', ' ', text)\n",
    "    return text"
   ]
  },
  {
   "cell_type": "code",
   "execution_count": 57,
   "id": "b4d2bb0e-e019-4d54-a644-fa693ad7f0eb",
   "metadata": {
    "tags": []
   },
   "outputs": [],
   "source": [
    "# 불용어 제거\n",
    "def remove_stopwords(text):\n",
    "    tokens = text.split(' ')\n",
    "    stops = ['수', '현', '있는', '있습니다', '그', '년도', '합니다', '하는', \n",
    "             '및', '제', '할', '하고', '더', '대한', '한', '그리고', '월', \n",
    "             '저는', '없는', '입니다', '등', '일', '많은', '이런', '것은', \n",
    "             '왜','같은', '같습니다', '없습니다', '위해', '한다', \n",
    "             '여명', '이다', '에', '고', '란', '는', '그래도', '개에', '개인데', '일엔']\n",
    "    meaningful_words = [w for w in tokens if not w in stops]\n",
    "    return ' '.join(meaningful_words)"
   ]
  },
  {
   "cell_type": "code",
   "execution_count": 58,
   "id": "c05001b1-6619-4661-ba56-13586c08e8d6",
   "metadata": {
    "tags": []
   },
   "outputs": [
    {
     "name": "stdout",
     "output_type": "stream",
     "text": [
      "CPU times: total: 0 ns\n",
      "Wall time: 997 µs\n"
     ]
    },
    {
     "data": {
      "text/plain": [
       "'보수진영 사분오열 속 국민통합연대 띄운 비박계 크리스마스를 앞둔 지난 일 오전 서울 프레스센터 국제회의실 보수분열 극복을 내건 국민통합연대 가 창립대회를 열었다 햇살 없이 착 가라앉은 날씨에 동지 바람이 매서웠지만 행사장 안은 달아올랐다 문재인 정권을 향한 맹폭격이 이어졌고 무능 기만의 오만방자한 정권에 사망을 선고한다 는 창립선언문이 나왔다 홍준표 전 자유한국당 대표 등 전현직 의원 여명을 포함해 여명이 자리를 빼곡하게 메웠다 총선이 불과 석달 남짓이다 야권 인사들이 정권을 두들겨 패는 거야 이상한 일이 아니다 눈 여겨 볼 대목은 모인 사람이 대부분 친이 비박계 친이명박 비박근혜 인사들이란 점이다 박관용 전 국회의장 이문열 작가와 함께 보수쪽 명망가 여럿이 이름을 올리고 더러 참석했다 전광훈 목사는 축사를 했다 그래도 이명박 정권서 요직을 맡았던 사람들이 주축이다 이재오 중앙집행위원장과 홍준표 전 대표가 한가운데 있다 두 사람은 친박 그룹 에 둘러싸인 황교안 대표와 한국당에 불편한 기색을 감추지 않는 중이다 홍 전 대표는 이튿날 무기력한 야당만 믿고 따르기엔 너무 답답하고 앞날이 보이지 않아 창립한 게 국민통합연대 란 글을 올렸다 일엔 한국당 지도부는 총사퇴하고 비상대책위를 꾸려야 한다 고 황 대표 사퇴를 요구했다 이재오 위원장은 지난 월 일 광화문의 조국 규탄집회장에서 자유한국당은 집회에서 빠지라 고 외쳤다 가뜩이나 뿔뿔이 흩어진 각자도생의 보수세력이다 한국당과 우리공화당에다 새로운 보수당 이언주 신당 이정현 신당이 나올 판이다 게다가 개정선거법의 준연동형 비례대표제는 군소정당에 유리한 분열요인이다 중앙선관위에 등록된 정당이 개인데 창당준비위원회를 설립한 예비정당만 개에 달한다 야권 빅텐트를 외칠만한 상황이긴 하다 그런데 통합을 내건 이재오 위원장은 어느 한 정당이나 단체 중 힘 있는 정당 단체를 중심으로 뭘 하자는 식의 통합은 어렵다 고 주장했다 황교안 대표와 한국당 중심의 보수 통합론을 가로막고 나선 셈이다 그렇다고 힘 있는 한국당이 힘 없는 국민통합연대의 주문에 따를 리는 없다 결국 친이계가 떨어져 나가는 보수 분열 이란 해석이 나왔다 정말 그럴까 국민통합연대는 조만간 친이 비박 신당으로 탈바꿈할 것인가 '"
      ]
     },
     "execution_count": 58,
     "metadata": {},
     "output_type": "execute_result"
    }
   ],
   "source": [
    "# 샘플데이터에 적용\n",
    "%time pre_sample_content = preprocessing(sample_content)\n",
    "pre_sample_content"
   ]
  },
  {
   "cell_type": "code",
   "execution_count": 59,
   "id": "1ec4e41d-9c8f-4a51-ade0-9dac088f340c",
   "metadata": {
    "tags": []
   },
   "outputs": [
    {
     "name": "stdout",
     "output_type": "stream",
     "text": [
      "CPU times: total: 31.2 ms\n",
      "Wall time: 64.2 ms\n"
     ]
    }
   ],
   "source": [
    "%time train_data['content_preprocessing'] = train_data['passage'].apply(preprocessing)"
   ]
  },
  {
   "cell_type": "code",
   "execution_count": 60,
   "id": "002052dd-6ed5-45d4-8de6-9af12d0a3de0",
   "metadata": {
    "tags": []
   },
   "outputs": [
    {
     "name": "stdout",
     "output_type": "stream",
     "text": [
      "CPU times: total: 0 ns\n",
      "Wall time: 0 ns\n"
     ]
    }
   ],
   "source": [
    "%time pre_sample_content = remove_stopwords(pre_sample_content)"
   ]
  },
  {
   "cell_type": "code",
   "execution_count": 61,
   "id": "3cd720e8-dd3c-4b33-ac7f-5a8c9641ff20",
   "metadata": {
    "tags": []
   },
   "outputs": [
    {
     "name": "stdout",
     "output_type": "stream",
     "text": [
      "CPU times: total: 46.9 ms\n",
      "Wall time: 71.6 ms\n"
     ]
    }
   ],
   "source": [
    "%time train_data['content_preprocessed'] = train_data['content_preprocessing'].apply(remove_stopwords)"
   ]
  },
  {
   "cell_type": "code",
   "execution_count": 120,
   "id": "56f3eae5-4b03-48e3-b66c-6b1c6bdca680",
   "metadata": {
    "tags": []
   },
   "outputs": [
    {
     "name": "stdout",
     "output_type": "stream",
     "text": [
      "CPU times: total: 609 ms\n",
      "Wall time: 645 ms\n",
      "CPU times: total: 531 ms\n",
      "Wall time: 681 ms\n"
     ]
    },
    {
     "data": {
      "text/html": [
       "<div>\n",
       "<style scoped>\n",
       "    .dataframe tbody tr th:only-of-type {\n",
       "        vertical-align: middle;\n",
       "    }\n",
       "\n",
       "    .dataframe tbody tr th {\n",
       "        vertical-align: top;\n",
       "    }\n",
       "\n",
       "    .dataframe thead th {\n",
       "        text-align: right;\n",
       "    }\n",
       "</style>\n",
       "<table border=\"1\" class=\"dataframe\">\n",
       "  <thead>\n",
       "    <tr style=\"text-align: right;\">\n",
       "      <th></th>\n",
       "      <th>doc_type</th>\n",
       "      <th>doc_name</th>\n",
       "      <th>passage_id</th>\n",
       "      <th>passage</th>\n",
       "      <th>content_preprocessing</th>\n",
       "      <th>content_preprocessed</th>\n",
       "    </tr>\n",
       "  </thead>\n",
       "  <tbody>\n",
       "    <tr>\n",
       "      <th>0</th>\n",
       "      <td>news_r</td>\n",
       "      <td>[마음 읽기] 새해의 첫 마음</td>\n",
       "      <td>REPORT-news_r-00003-00001</td>\n",
       "      <td>새해가 밝았다.\\n  또 다른 한 해가 시작되었다.\\n  눈이 내린 하얀 설원이 앞...</td>\n",
       "      <td>새해가 밝았다 또 다른 한 해가 시작되었다 눈이 내린 하얀 설원이 앞에 펼쳐져 있는...</td>\n",
       "      <td>새해가 밝았다 또 다른 해가 시작되었다 눈이 내린 하얀 설원이 앞에 펼쳐져 느낌이다...</td>\n",
       "    </tr>\n",
       "    <tr>\n",
       "      <th>1</th>\n",
       "      <td>news_r</td>\n",
       "      <td>'남의 팔 가진 사나이' 3년의 행복···\"8월엔 아빠 됩니다\"</td>\n",
       "      <td>REPORT-news_r-00015-00001</td>\n",
       "      <td>\"기다리던 새해가 밝았네요.\\n  올해 제가 드디어 아빠가 됩니다.\\n \" 국내에서...</td>\n",
       "      <td>기다리던 새해가 밝았네요 올해 제가 드디어 아빠가 됩니다 국내에서 처음으로 남의 ...</td>\n",
       "      <td>기다리던 새해가 밝았네요 올해 제가 드디어 아빠가 됩니다 국내에서 처음으로 남의 ...</td>\n",
       "    </tr>\n",
       "    <tr>\n",
       "      <th>2</th>\n",
       "      <td>news_r</td>\n",
       "      <td>새 전략무기 언급한 김정은···\"조만간 전략잠수함 진수식 첩보\"</td>\n",
       "      <td>REPORT-news_r-00028-00001</td>\n",
       "      <td>김정은 국무위원장이 지난달 28일부터 31일까지 열린 노동당 중앙위원회 전원회의 ...</td>\n",
       "      <td>김정은 국무위원장이 지난달 일부터 일까지 열린 노동당 중앙위원회 전원회의 보고에서...</td>\n",
       "      <td>김정은 국무위원장이 지난달 일부터 일까지 열린 노동당 중앙위원회 전원회의 보고에서...</td>\n",
       "    </tr>\n",
       "    <tr>\n",
       "      <th>3</th>\n",
       "      <td>news_r</td>\n",
       "      <td>“경선 밀리신거냐” 그 말에···예비후보 벌써 등록한 현역 8명</td>\n",
       "      <td>REPORT-news_r-00032-00002</td>\n",
       "      <td>신 의원은 \"총선에 제가 다시 도전한다는 의사표시로 예비후보를 등록했다\"고 말했다...</td>\n",
       "      <td>신 의원은 총선에 제가 다시 도전한다는 의사표시로 예비후보를 등록했다 고 말했다 ...</td>\n",
       "      <td>신 의원은 총선에 제가 다시 도전한다는 의사표시로 예비후보를 등록했다 말했다 다른...</td>\n",
       "    </tr>\n",
       "    <tr>\n",
       "      <th>4</th>\n",
       "      <td>news_r</td>\n",
       "      <td>손등에 칩 심고 결제하는 나라 스웨덴, 돌연 \"현금 지키자\" 왜</td>\n",
       "      <td>REPORT-news_r-00058-00001</td>\n",
       "      <td>스웨덴에서는 지갑을 몸에 지니지 않아도 일상생활에 불편을 겪지 않는 이들이 있다.\\...</td>\n",
       "      <td>스웨덴에서는 지갑을 몸에 지니지 않아도 일상생활에 불편을 겪지 않는 이들이 있다 엄...</td>\n",
       "      <td>스웨덴에서는 지갑을 몸에 지니지 않아도 일상생활에 불편을 겪지 않는 이들이 있다 엄...</td>\n",
       "    </tr>\n",
       "  </tbody>\n",
       "</table>\n",
       "</div>"
      ],
      "text/plain": [
       "  doc_type                             doc_name                 passage_id  \\\n",
       "0   news_r                     [마음 읽기] 새해의 첫 마음  REPORT-news_r-00003-00001   \n",
       "1   news_r  '남의 팔 가진 사나이' 3년의 행복···\"8월엔 아빠 됩니다\"  REPORT-news_r-00015-00001   \n",
       "2   news_r  새 전략무기 언급한 김정은···\"조만간 전략잠수함 진수식 첩보\"  REPORT-news_r-00028-00001   \n",
       "3   news_r  “경선 밀리신거냐” 그 말에···예비후보 벌써 등록한 현역 8명  REPORT-news_r-00032-00002   \n",
       "4   news_r  손등에 칩 심고 결제하는 나라 스웨덴, 돌연 \"현금 지키자\" 왜  REPORT-news_r-00058-00001   \n",
       "\n",
       "                                             passage  \\\n",
       "0  새해가 밝았다.\\n  또 다른 한 해가 시작되었다.\\n  눈이 내린 하얀 설원이 앞...   \n",
       "1  \"기다리던 새해가 밝았네요.\\n  올해 제가 드디어 아빠가 됩니다.\\n \" 국내에서...   \n",
       "2   김정은 국무위원장이 지난달 28일부터 31일까지 열린 노동당 중앙위원회 전원회의 ...   \n",
       "3   신 의원은 \"총선에 제가 다시 도전한다는 의사표시로 예비후보를 등록했다\"고 말했다...   \n",
       "4  스웨덴에서는 지갑을 몸에 지니지 않아도 일상생활에 불편을 겪지 않는 이들이 있다.\\...   \n",
       "\n",
       "                               content_preprocessing  \\\n",
       "0  새해가 밝았다 또 다른 한 해가 시작되었다 눈이 내린 하얀 설원이 앞에 펼쳐져 있는...   \n",
       "1   기다리던 새해가 밝았네요 올해 제가 드디어 아빠가 됩니다 국내에서 처음으로 남의 ...   \n",
       "2   김정은 국무위원장이 지난달 일부터 일까지 열린 노동당 중앙위원회 전원회의 보고에서...   \n",
       "3   신 의원은 총선에 제가 다시 도전한다는 의사표시로 예비후보를 등록했다 고 말했다 ...   \n",
       "4  스웨덴에서는 지갑을 몸에 지니지 않아도 일상생활에 불편을 겪지 않는 이들이 있다 엄...   \n",
       "\n",
       "                                content_preprocessed  \n",
       "0  새해가 밝았다 또 다른 해가 시작되었다 눈이 내린 하얀 설원이 앞에 펼쳐져 느낌이다...  \n",
       "1   기다리던 새해가 밝았네요 올해 제가 드디어 아빠가 됩니다 국내에서 처음으로 남의 ...  \n",
       "2   김정은 국무위원장이 지난달 일부터 일까지 열린 노동당 중앙위원회 전원회의 보고에서...  \n",
       "3   신 의원은 총선에 제가 다시 도전한다는 의사표시로 예비후보를 등록했다 말했다 다른...  \n",
       "4  스웨덴에서는 지갑을 몸에 지니지 않아도 일상생활에 불편을 겪지 않는 이들이 있다 엄...  "
      ]
     },
     "execution_count": 120,
     "metadata": {},
     "output_type": "execute_result"
    }
   ],
   "source": [
    "%time test_data['content_preprocessing'] = test_data['passage'].apply(preprocessing)\n",
    "%time test_data['content_preprocessed'] = test_data['content_preprocessing'].apply(remove_stopwords)\n",
    "test_data.head()"
   ]
  },
  {
   "cell_type": "markdown",
   "id": "3500afe7-234c-4819-b9b0-7cffe5d66243",
   "metadata": {},
   "source": [
    "## TF-IDF Vectorizing"
   ]
  },
  {
   "cell_type": "markdown",
   "id": "82d18a9e-c288-4dfa-a609-5f3fb043950c",
   "metadata": {},
   "source": [
    "### 학습, 시험 데이터 세트 분리"
   ]
  },
  {
   "cell_type": "code",
   "execution_count": 104,
   "id": "4009882c-427f-4e80-8863-19cabd75b0a1",
   "metadata": {
    "tags": []
   },
   "outputs": [
    {
     "data": {
      "text/plain": [
       "<1000x5000 sparse matrix of type '<class 'numpy.float64'>'\n",
       "\twith 580887 stored elements in Compressed Sparse Row format>"
      ]
     },
     "execution_count": 104,
     "metadata": {},
     "output_type": "execute_result"
    }
   ],
   "source": [
    "from sklearn.feature_extraction.text import TfidfVectorizer\n",
    "\n",
    "vectorizer = TfidfVectorizer(min_df=0.0, analyzer='char', sublinear_tf=True, ngram_range=(1,3), max_features=5000)\n",
    "\n",
    "X = vectorizer.fit_transform(train_data['content_preprocessing'])\n",
    "X"
   ]
  },
  {
   "cell_type": "code",
   "execution_count": 121,
   "id": "7d49b7c9-83c4-43fe-a8bf-1cc33b19a31a",
   "metadata": {
    "tags": []
   },
   "outputs": [
    {
     "data": {
      "text/plain": [
       "((1000, 8), (9150, 6))"
      ]
     },
     "execution_count": 121,
     "metadata": {},
     "output_type": "execute_result"
    }
   ],
   "source": [
    "train_data.shape, test_data.shape"
   ]
  },
  {
   "cell_type": "code",
   "execution_count": 122,
   "id": "704fc3fe-bfc3-4b9f-8390-49db411c900f",
   "metadata": {
    "tags": []
   },
   "outputs": [
    {
     "data": {
      "text/plain": [
       "((1000,), (9150,))"
      ]
     },
     "execution_count": 122,
     "metadata": {},
     "output_type": "execute_result"
    }
   ],
   "source": [
    "X_train = train_data[\"content_preprocessed\"]\n",
    "X_test = test_data[\"content_preprocessed\"]\n",
    "\n",
    "X_train.shape, X_test.shape"
   ]
  },
  {
   "cell_type": "code",
   "execution_count": null,
   "id": "a884abd8-2491-4e13-9ab8-7f89d355b425",
   "metadata": {},
   "outputs": [
    {
     "data": {
      "text/plain": [
       "(1000,)"
      ]
     },
     "execution_count": 123,
     "metadata": {},
     "output_type": "execute_result"
    }
   ],
   "source": [
    "y_train = train_data[\"content_preprocessed\"]\n",
    "y_train.value_counts()\n",
    "y_train.shape"
   ]
  },
  {
   "cell_type": "code",
   "execution_count": 124,
   "id": "8ab81d5f-24ed-4b79-a813-e6761289b58b",
   "metadata": {
    "tags": []
   },
   "outputs": [
    {
     "data": {
      "text/plain": [
       "(9150,)"
      ]
     },
     "execution_count": 124,
     "metadata": {},
     "output_type": "execute_result"
    }
   ],
   "source": [
    "y_test = test_data[\"doc_type\"]\n",
    "y_test.value_counts()\n",
    "y_test.shape"
   ]
  },
  {
   "cell_type": "code",
   "execution_count": 125,
   "id": "6eab6492-d0a4-49a3-9ddf-81ae466f3124",
   "metadata": {
    "tags": []
   },
   "outputs": [
    {
     "data": {
      "text/plain": [
       "TfidfVectorizer(max_df=0.95, min_df=3, ngram_range=(1, 2))"
      ]
     },
     "execution_count": 125,
     "metadata": {},
     "output_type": "execute_result"
    }
   ],
   "source": [
    "from sklearn.feature_extraction.text import TfidfVectorizer\n",
    "tfidf_vect = TfidfVectorizer(tokenizer=None, \n",
    "                             ngram_range=(1,2),\n",
    "                             min_df=3, \n",
    "                             max_df=0.95)\n",
    "tfidf_vect.fit(X_train)"
   ]
  },
  {
   "cell_type": "code",
   "execution_count": 126,
   "id": "7201b845-d6b9-4f85-9d26-5641565673f9",
   "metadata": {
    "tags": []
   },
   "outputs": [
    {
     "data": {
      "text/plain": [
       "((1000, 9663), (9150, 9663))"
      ]
     },
     "execution_count": 126,
     "metadata": {},
     "output_type": "execute_result"
    }
   ],
   "source": [
    "train_feature_tfidf = tfidf_vect.transform(X_train)\n",
    "test_feature_tfidf = tfidf_vect.transform(X_test)\n",
    "\n",
    "train_feature_tfidf.shape, test_feature_tfidf.shape"
   ]
  },
  {
   "cell_type": "code",
   "execution_count": 127,
   "id": "b8cd3fc5-a670-46f9-95be-4fa605685b84",
   "metadata": {
    "tags": []
   },
   "outputs": [
    {
     "name": "stdout",
     "output_type": "stream",
     "text": [
      "9663\n"
     ]
    },
    {
     "data": {
      "text/plain": [
       "array(['ai', 'ai사이버보안전공', 'ai사이버보안전공 ict융합콘텐츠전공', 'a씨', 'a씨가', 'a씨는',\n",
       "       'a씨의', 'big', 'b씨에게', 'ceo'], dtype=object)"
      ]
     },
     "execution_count": 127,
     "metadata": {},
     "output_type": "execute_result"
    }
   ],
   "source": [
    "# 단어 사전\n",
    "vocab = tfidf_vect.get_feature_names_out()\n",
    "print(len(vocab))\n",
    "vocab[:10]"
   ]
  },
  {
   "cell_type": "code",
   "execution_count": 128,
   "id": "a70f3784-4547-452f-9859-58068bed9682",
   "metadata": {
    "tags": []
   },
   "outputs": [
    {
     "data": {
      "text/html": [
       "<div>\n",
       "<style scoped>\n",
       "    .dataframe tbody tr th:only-of-type {\n",
       "        vertical-align: middle;\n",
       "    }\n",
       "\n",
       "    .dataframe tbody tr th {\n",
       "        vertical-align: top;\n",
       "    }\n",
       "\n",
       "    .dataframe thead th {\n",
       "        text-align: right;\n",
       "    }\n",
       "</style>\n",
       "<table border=\"1\" class=\"dataframe\">\n",
       "  <thead>\n",
       "    <tr style=\"text-align: right;\">\n",
       "      <th></th>\n",
       "      <th>ai</th>\n",
       "      <th>ai사이버보안전공</th>\n",
       "      <th>ai사이버보안전공 ict융합콘텐츠전공</th>\n",
       "      <th>a씨</th>\n",
       "      <th>a씨가</th>\n",
       "      <th>a씨는</th>\n",
       "      <th>a씨의</th>\n",
       "      <th>big</th>\n",
       "      <th>b씨에게</th>\n",
       "      <th>ceo</th>\n",
       "      <th>...</th>\n",
       "      <th>희망을 주는</th>\n",
       "      <th>희망의</th>\n",
       "      <th>힘과</th>\n",
       "      <th>힘든</th>\n",
       "      <th>힘들</th>\n",
       "      <th>힘들다</th>\n",
       "      <th>힘써</th>\n",
       "      <th>힘을</th>\n",
       "      <th>힘이</th>\n",
       "      <th>힘입어</th>\n",
       "    </tr>\n",
       "  </thead>\n",
       "  <tbody>\n",
       "    <tr>\n",
       "      <th>0</th>\n",
       "      <td>1.22243</td>\n",
       "      <td>0.216108</td>\n",
       "      <td>0.216108</td>\n",
       "      <td>0.528046</td>\n",
       "      <td>0.354233</td>\n",
       "      <td>0.885987</td>\n",
       "      <td>0.451939</td>\n",
       "      <td>0.445932</td>\n",
       "      <td>0.344046</td>\n",
       "      <td>0.355791</td>\n",
       "      <td>...</td>\n",
       "      <td>0.186129</td>\n",
       "      <td>0.334234</td>\n",
       "      <td>0.337063</td>\n",
       "      <td>1.31937</td>\n",
       "      <td>0.427282</td>\n",
       "      <td>0.438087</td>\n",
       "      <td>0.490809</td>\n",
       "      <td>1.379312</td>\n",
       "      <td>0.553128</td>\n",
       "      <td>0.507058</td>\n",
       "    </tr>\n",
       "  </tbody>\n",
       "</table>\n",
       "<p>1 rows × 9663 columns</p>\n",
       "</div>"
      ],
      "text/plain": [
       "        ai  ai사이버보안전공  ai사이버보안전공 ict융합콘텐츠전공        a씨       a씨가       a씨는  \\\n",
       "0  1.22243   0.216108              0.216108  0.528046  0.354233  0.885987   \n",
       "\n",
       "        a씨의       big      b씨에게       ceo  ...    희망을 주는       희망의        힘과  \\\n",
       "0  0.451939  0.445932  0.344046  0.355791  ...  0.186129  0.334234  0.337063   \n",
       "\n",
       "        힘든        힘들       힘들다        힘써        힘을        힘이       힘입어  \n",
       "0  1.31937  0.427282  0.438087  0.490809  1.379312  0.553128  0.507058  \n",
       "\n",
       "[1 rows x 9663 columns]"
      ]
     },
     "execution_count": 128,
     "metadata": {},
     "output_type": "execute_result"
    }
   ],
   "source": [
    "# np.sum 으로 위에서 구한 train_feature_vector 의 값을 모두 더한다. axis=0 으로 한다. \n",
    "dist = np.sum(train_feature_tfidf, axis=0)\n",
    "\n",
    "vocab_count = pd.DataFrame(dist, columns=vocab)\n",
    "vocab_count"
   ]
  },
  {
   "cell_type": "code",
   "execution_count": 129,
   "id": "62245326-f0f6-4bda-be48-b7eed91d99f4",
   "metadata": {
    "tags": []
   },
   "outputs": [
    {
     "data": {
      "text/plain": [
       "<Axes: >"
      ]
     },
     "execution_count": 129,
     "metadata": {},
     "output_type": "execute_result"
    },
    {
     "data": {
      "image/png": "[encoded data removed]",
      "text/plain": [
       "<Figure size 1500x400 with 1 Axes>"
      ]
     },
     "metadata": {},
     "output_type": "display_data"
    }
   ],
   "source": [
    "# 위에서 구한 빈도수를 그래프로 그린다.\n",
    "vocab_count.T[0].sort_values(ascending=False).head(50).plot.bar(figsize=(15, 4))"
   ]
  },
  {
   "cell_type": "markdown",
   "id": "5078c456-c209-4681-b5e3-04a325aa5b74",
   "metadata": {},
   "source": [
    "### 학습과 예측"
   ]
  },
  {
   "cell_type": "code",
   "execution_count": 112,
   "id": "da033d51-5f57-4dcb-8e29-cd5863b1c136",
   "metadata": {
    "tags": []
   },
   "outputs": [
    {
     "data": {
      "text/plain": [
       "RandomForestClassifier(n_jobs=-1, random_state=42)"
      ]
     },
     "execution_count": 112,
     "metadata": {},
     "output_type": "execute_result"
    }
   ],
   "source": [
    "# RandomForestClassifier 를 불러온다.\n",
    "from sklearn.ensemble import RandomForestClassifier\n",
    "\n",
    "# 랜덤포레스트 분류기를 사용\n",
    "model = RandomForestClassifier(n_estimators = 100, n_jobs = -1, random_state=42)\n",
    "model"
   ]
  },
  {
   "cell_type": "code",
   "execution_count": null,
   "id": "fc11cc74-ca58-4300-8484-364c762eb5f6",
   "metadata": {},
   "outputs": [],
   "source": []
  },
  {
   "cell_type": "code",
   "execution_count": null,
   "id": "343064f8-521d-4449-8765-a352d218320a",
   "metadata": {},
   "outputs": [],
   "source": []
  },
  {
   "cell_type": "code",
   "execution_count": null,
   "id": "b3a26b96-ac7b-4175-95a9-0974c6e195ba",
   "metadata": {},
   "outputs": [],
   "source": []
  },
  {
   "cell_type": "code",
   "execution_count": null,
   "id": "b9db72db-a09c-4ad7-aaba-8010e22d8562",
   "metadata": {},
   "outputs": [],
   "source": []
  },
  {
   "cell_type": "code",
   "execution_count": null,
   "id": "e67cdd2c-9a20-4065-87e1-2229d7efb889",
   "metadata": {},
   "outputs": [],
   "source": []
  },
  {
   "cell_type": "code",
   "execution_count": null,
   "id": "ca6c6e6d-ba6b-4b96-aa97-08d27ff65924",
   "metadata": {},
   "outputs": [],
   "source": []
  },
  {
   "cell_type": "code",
   "execution_count": null,
   "id": "c951d430-4ce0-4891-8cb1-551b66eab16b",
   "metadata": {
    "tags": []
   },
   "outputs": [],
   "source": [
    "# 문장분리\n",
    "!pip install kss \n",
    "import kss"
   ]
  },
  {
   "cell_type": "code",
   "execution_count": 63,
   "id": "56347f7b-8433-4bbf-bfa2-e842606c9dc7",
   "metadata": {
    "tags": []
   },
   "outputs": [
    {
     "name": "stderr",
     "output_type": "stream",
     "text": [
      "[Kss]: Because there's no supported C++ morpheme analyzer, Kss will take pecab as a backend. :D\n",
      "For your information, Kss also supports mecab backend.\n",
      "We recommend you to install mecab or konlpy.tag.Mecab for faster execution of Kss.\n",
      "Please refer to following web sites for details:\n",
      "- mecab: https://cleancode-ws.tistory.com/97\n",
      "- konlpy.tag.Mecab: https://uwgdqo.tistory.com/363\n",
      "\n"
     ]
    },
    {
     "name": "stdout",
     "output_type": "stream",
     "text": [
      "보수진영 사분오열 속 국민통합연대 띄운 비박계 크리스마스를 앞둔 지난 오전 서울 프레스센터 국제회의실 보수분열 극복을 내건 국민통합연대 가 창립대회를 열었다 햇살 없이 착 가라앉은 날씨에 동지 바람이 매서웠지만 행사장 안은 달아올랐다\n",
      "문재인 정권을 향한 맹폭격이 이어졌고 무능 기만의 오만방자한 정권에 사망을 선고한다 창립선언문이 나왔다\n",
      "홍준표 전 자유한국당 대표 전현직 의원 여명을 포함해 여명이 자리를 빼곡하게 메웠다 총선이 불과 석달 남짓이다 야권 인사들이 정권을 두들겨 패는 거야\n",
      "이상한 일이 아니다 눈 여겨 볼 대목은 모인 사람이 대부분 친이 비박계 친이명박 비박근혜 인사들이란 점이다\n",
      "박관용 전 국회의장 이문열 작가와 함께 보수쪽 명망가 여럿이 이름을 올리고 더러 참석했다\n",
      "전광훈 목사는 축사를 했다\n",
      "이명박 정권서 요직을 맡았던 사람들이 주축이다 이재오 중앙집행위원장과 홍준표 전 대표가 한가운데 있다 두 사람은 친박 그룹 둘러싸인 황교안 대표와 한국당에 불편한 기색을 감추지 않는 중이다 홍 전 대표는 이튿날 무기력한 야당만 믿고 따르기엔 너무 답답하고 앞날이 보이지 않아 창립한 게 국민통합연대 글을 올렸다\n",
      "한국당 지도부는 총사퇴하고 비상대책위를 꾸려야 황 대표 사퇴를 요구했다\n",
      "이재오 위원장은 지난 광화문의 조국 규탄집회장에서 자유한국당은 집회에서 빠지라 외쳤다\n",
      "가뜩이나 뿔뿔이 흩어진 각자도생의 보수세력이다\n",
      "한국당과 우리공화당에다 새로운 보수당 이언주 신당 이정현 신당이 나올 판이다\n",
      "게다가 개정선거법의 준연동형 비례대표제는 군소정당에 유리한 분열요인이다\n",
      "중앙선관위에 등록된 정당이 창당준비위원회를 설립한 예비정당만 달한다 야권 빅텐트를 외칠만한 상황이긴 하다\n",
      "그런데 통합을 내건 이재오 위원장은 어느 정당이나 단체 중 힘 정당 단체를 중심으로 뭘 하자는 식의 통합은 어렵다 주장했다\n",
      "황교안 대표와 한국당 중심의 보수 통합론을 가로막고 나선 셈이다\n",
      "그렇다고 힘 한국당이 힘 국민통합연대의 주문에 따를 리는 없다\n",
      "결국 친이계가 떨어져 나가는 보수 분열 이란 해석이 나왔다\n",
      "정말 그럴까 국민통합연대는 조만간 친이 비박 신당으로 탈바꿈할 것인가\n"
     ]
    }
   ],
   "source": [
    "for sent in kss.split_sentences(pre_sample_content):\n",
    "    print(sent)"
   ]
  },
  {
   "cell_type": "code",
   "execution_count": 76,
   "id": "c3fc8c14-e336-4ef8-bcfa-21e554a7c3e5",
   "metadata": {
    "tags": []
   },
   "outputs": [
    {
     "name": "stdout",
     "output_type": "stream",
     "text": [
      "Requirement already satisfied: konlpy in c:\\users\\t3q_dhkim\\anaconda3\\envs\\intern\\lib\\site-packages (0.6.0)\n",
      "Requirement already satisfied: JPype1>=0.7.0 in c:\\users\\t3q_dhkim\\anaconda3\\envs\\intern\\lib\\site-packages (from konlpy) (1.4.0)\n",
      "Requirement already satisfied: lxml>=4.1.0 in c:\\users\\t3q_dhkim\\anaconda3\\envs\\intern\\lib\\site-packages (from konlpy) (4.9.2)\n",
      "Requirement already satisfied: numpy>=1.6 in c:\\users\\t3q_dhkim\\anaconda3\\envs\\intern\\lib\\site-packages (from konlpy) (1.24.3)\n"
     ]
    },
    {
     "name": "stderr",
     "output_type": "stream",
     "text": [
      "WARNING: Ignoring invalid distribution -rotobuf (c:\\users\\t3q_dhkim\\anaconda3\\envs\\intern\\lib\\site-packages)\n",
      "WARNING: Ignoring invalid distribution -rotobuf (c:\\users\\t3q_dhkim\\anaconda3\\envs\\intern\\lib\\site-packages)\n"
     ]
    }
   ],
   "source": [
    "!pip install konlpy"
   ]
  },
  {
   "cell_type": "code",
   "execution_count": null,
   "id": "544da51c-3e75-4e4a-a04d-b77ad053a4a3",
   "metadata": {},
   "outputs": [],
   "source": [
    "import tensorflow"
   ]
  },
  {
   "cell_type": "code",
   "execution_count": null,
   "id": "72454b41-856d-42fa-8ba8-ac5fbf086231",
   "metadata": {
    "tags": []
   },
   "outputs": [],
   "source": [
    "from tensorflow.keras.preprocessing.sequence import pad_sequences\n",
    "from tensorflow.keras.preprocessing.text import Tokenizer\n"
   ]
  },
  {
   "cell_type": "code",
   "execution_count": null,
   "id": "14a27ef5-4877-4d69-a478-1ff41cf40291",
   "metadata": {
    "tags": []
   },
   "outputs": [],
   "source": [
    "tokenizer = Tokenizer()\n",
    "tokenizer.fit_on_texts(train_data['content_preprocessed'])\n",
    "text_sequences = tokenizer.texts_to_sequences(train_data['content_preprocessed'])"
   ]
  },
  {
   "cell_type": "code",
   "execution_count": null,
   "id": "a5c88b05-fa41-4f53-853e-6c2e4beb99c0",
   "metadata": {
    "tags": []
   },
   "outputs": [],
   "source": [
    "word_vocab = tokenizer.word_index\n",
    "#print(word_vocab)\n",
    "print('전체 단어 개수:', len(word_vocab))"
   ]
  },
  {
   "cell_type": "code",
   "execution_count": null,
   "id": "ba825fa4-a32a-42b2-9028-e955dc04a3ef",
   "metadata": {
    "tags": []
   },
   "outputs": [],
   "source": [
    "data_configs = {}\n",
    "data_configs['vocab'] = word_vocab\n",
    "data_configs['vocab_size']=len(word_vocab)+1"
   ]
  },
  {
   "cell_type": "markdown",
   "id": "938853fd-cb80-47d9-a5c1-7ec5407261dc",
   "metadata": {},
   "source": [
    "### 단어 벡터화하기"
   ]
  },
  {
   "cell_type": "code",
   "execution_count": 90,
   "id": "385c208f-4af0-4893-867d-db2403a0e7d8",
   "metadata": {
    "tags": []
   },
   "outputs": [
    {
     "data": {
      "text/plain": [
       "CountVectorizer(max_features=2000, min_df=2, ngram_range=(1, 3))"
      ]
     },
     "execution_count": 90,
     "metadata": {},
     "output_type": "execute_result"
    }
   ],
   "source": [
    "from sklearn.feature_extraction.text import CountVectorizer\n",
    "\n",
    "vectorizer = CountVectorizer(analyzer = 'word',\n",
    "                             tokenizer = None,\n",
    "                             preprocessor = None,\n",
    "                             stop_words = None,\n",
    "                             min_df = 2, \n",
    "                             ngram_range=(1, 3),\n",
    "                             max_features = 2000\n",
    "                            )\n",
    "vectorizer"
   ]
  },
  {
   "cell_type": "code",
   "execution_count": 91,
   "id": "fc1bc9e5-fb61-45f1-ba4e-bc8d42bb764d",
   "metadata": {
    "tags": []
   },
   "outputs": [
    {
     "name": "stdout",
     "output_type": "stream",
     "text": [
      "CPU times: total: 938 ms\n",
      "Wall time: 1.02 s\n"
     ]
    },
    {
     "data": {
      "text/plain": [
       "(1000, 2000)"
      ]
     },
     "execution_count": 91,
     "metadata": {},
     "output_type": "execute_result"
    }
   ],
   "source": [
    "%%time \n",
    "train_feature_vector = vectorizer.fit_transform(train_data['content_preprocessing'])\n",
    "train_feature_vector.shape"
   ]
  },
  {
   "cell_type": "code",
   "execution_count": 92,
   "id": "595e75bd-017b-4b94-8029-1d323b70c9a7",
   "metadata": {
    "tags": []
   },
   "outputs": [
    {
     "name": "stdout",
     "output_type": "stream",
     "text": [
      "2000\n"
     ]
    },
    {
     "data": {
      "text/plain": [
       "array(['ai', 'a씨는', 'dj', 'esg', 'imf', 'ioi', 'jp', 'km', 'kr', 'lh'],\n",
       "      dtype=object)"
      ]
     },
     "execution_count": 92,
     "metadata": {},
     "output_type": "execute_result"
    }
   ],
   "source": [
    "vocab = vectorizer.get_feature_names_out()\n",
    "print(len(vocab))\n",
    "vocab[:10]"
   ]
  },
  {
   "cell_type": "code",
   "execution_count": 93,
   "id": "6c8d2cce-bb50-465e-a6e4-d0f498db1df2",
   "metadata": {
    "tags": []
   },
   "outputs": [
    {
     "data": {
      "text/html": [
       "<div>\n",
       "<style scoped>\n",
       "    .dataframe tbody tr th:only-of-type {\n",
       "        vertical-align: middle;\n",
       "    }\n",
       "\n",
       "    .dataframe tbody tr th {\n",
       "        vertical-align: top;\n",
       "    }\n",
       "\n",
       "    .dataframe thead th {\n",
       "        text-align: right;\n",
       "    }\n",
       "</style>\n",
       "<table border=\"1\" class=\"dataframe\">\n",
       "  <thead>\n",
       "    <tr style=\"text-align: right;\">\n",
       "      <th></th>\n",
       "      <th>ai</th>\n",
       "      <th>a씨는</th>\n",
       "      <th>dj</th>\n",
       "      <th>esg</th>\n",
       "      <th>imf</th>\n",
       "      <th>ioi</th>\n",
       "      <th>jp</th>\n",
       "      <th>km</th>\n",
       "      <th>kr</th>\n",
       "      <th>lh</th>\n",
       "      <th>...</th>\n",
       "      <th>후보를</th>\n",
       "      <th>후보와</th>\n",
       "      <th>후보의</th>\n",
       "      <th>후에</th>\n",
       "      <th>훈련</th>\n",
       "      <th>훨씬</th>\n",
       "      <th>흐르는</th>\n",
       "      <th>흔히</th>\n",
       "      <th>힘든</th>\n",
       "      <th>힘을</th>\n",
       "    </tr>\n",
       "  </thead>\n",
       "  <tbody>\n",
       "    <tr>\n",
       "      <th>0</th>\n",
       "      <td>13</td>\n",
       "      <td>12</td>\n",
       "      <td>16</td>\n",
       "      <td>26</td>\n",
       "      <td>13</td>\n",
       "      <td>10</td>\n",
       "      <td>12</td>\n",
       "      <td>15</td>\n",
       "      <td>11</td>\n",
       "      <td>30</td>\n",
       "      <td>...</td>\n",
       "      <td>33</td>\n",
       "      <td>17</td>\n",
       "      <td>41</td>\n",
       "      <td>33</td>\n",
       "      <td>11</td>\n",
       "      <td>27</td>\n",
       "      <td>14</td>\n",
       "      <td>13</td>\n",
       "      <td>14</td>\n",
       "      <td>12</td>\n",
       "    </tr>\n",
       "  </tbody>\n",
       "</table>\n",
       "<p>1 rows × 2000 columns</p>\n",
       "</div>"
      ],
      "text/plain": [
       "   ai  a씨는  dj  esg  imf  ioi  jp  km  kr  lh  ...  후보를  후보와  후보의  후에  훈련  훨씬  \\\n",
       "0  13   12  16   26   13   10  12  15  11  30  ...   33   17   41  33  11  27   \n",
       "\n",
       "   흐르는  흔히  힘든  힘을  \n",
       "0   14  13  14  12  \n",
       "\n",
       "[1 rows x 2000 columns]"
      ]
     },
     "execution_count": 93,
     "metadata": {},
     "output_type": "execute_result"
    }
   ],
   "source": [
    "dist = np.sum(train_feature_vector, axis=0)\n",
    "\n",
    "pd.DataFrame(dist, columns=vocab)"
   ]
  },
  {
   "cell_type": "code",
   "execution_count": null,
   "id": "8f23e93a-b618-4cba-91b2-4df726c9ed89",
   "metadata": {},
   "outputs": [],
   "source": []
  },
  {
   "cell_type": "code",
   "execution_count": 94,
   "id": "718508d4-f386-4fe6-8422-3c22fb293f2d",
   "metadata": {
    "tags": []
   },
   "outputs": [
    {
     "data": {
      "text/plain": [
       "<soynlp.tokenizer._tokenizer.RegexTokenizer at 0x23342036340>"
      ]
     },
     "execution_count": 94,
     "metadata": {},
     "output_type": "execute_result"
    }
   ],
   "source": [
    "from soynlp.tokenizer import RegexTokenizer\n",
    "\n",
    "tokenizer = RegexTokenizer()\n",
    "tokenizer"
   ]
  },
  {
   "cell_type": "code",
   "execution_count": 95,
   "id": "d58ae397-c647-41dc-815e-df02fa71e134",
   "metadata": {},
   "outputs": [],
   "source": [
    "tokened_title = tokenizer.tokenize(train_data['content_preprocessed'][0])\n",
    "#tokened_title"
   ]
  },
  {
   "cell_type": "code",
   "execution_count": null,
   "id": "8636aef0-e11e-4326-885f-079499cd8ee5",
   "metadata": {},
   "outputs": [],
   "source": []
  },
  {
   "cell_type": "code",
   "execution_count": 96,
   "id": "ca273394-b623-406c-85bf-7676d76656a6",
   "metadata": {
    "tags": []
   },
   "outputs": [],
   "source": [
    "dtm_cv = cv.fit_transform(train_data[\"content_preprocessed\"])"
   ]
  },
  {
   "cell_type": "code",
   "execution_count": 97,
   "id": "ea6dc2ee-a931-4570-9c3b-7217e0caefd8",
   "metadata": {
    "tags": []
   },
   "outputs": [],
   "source": [
    "# 주어진 문서에 대하여 각 문서에 어떤 주제들이 존재하는지를 확인하는 잠재 디리클레 분석(LDA)을 불러옴\n",
    "# n_components에 넣을 하이퍼파라미터 NUM_TOPICS로 주제수를 설정(기본값=10)\n",
    "# max_iter는 훈련 데이터(epoch라고도 함)에 대한 최대 패스 수(기본값=10)\n",
    "\n",
    "from sklearn.decomposition import LatentDirichletAllocation\n",
    "\n",
    "NUM_TOPICS = 10\n",
    "LDA_model = LatentDirichletAllocation(n_components=NUM_TOPICS, random_state=42)"
   ]
  },
  {
   "cell_type": "code",
   "execution_count": 98,
   "id": "83da312d-f1b0-4a78-97a8-1c529c6bc834",
   "metadata": {
    "tags": []
   },
   "outputs": [
    {
     "data": {
      "text/plain": [
       "LatentDirichletAllocation(random_state=42)"
      ]
     },
     "execution_count": 98,
     "metadata": {},
     "output_type": "execute_result"
    }
   ],
   "source": [
    "# LDA_model 에 dtm_cv 를 넣어 학습\n",
    "LDA_model.fit(dtm_cv)"
   ]
  },
  {
   "cell_type": "code",
   "execution_count": 99,
   "id": "31c58535-c77f-40fa-8ace-3f3d45e12e14",
   "metadata": {
    "tags": []
   },
   "outputs": [],
   "source": [
    "#pip install pyldavis"
   ]
  },
  {
   "cell_type": "code",
   "execution_count": 100,
   "id": "af861ff5-c099-4ded-a3ef-99d77b70e629",
   "metadata": {
    "tags": []
   },
   "outputs": [],
   "source": [
    "import gensim\n",
    "import gensim.corpora as corpora\n",
    "from gensim.corpora import Dictionary\n",
    "from gensim.models.coherencemodel import CoherenceModel\n",
    "from gensim.models.ldamodel import LdaModel\n",
    "\n",
    "from pprint import pprint\n",
    "\n",
    "import spacy\n",
    "\n",
    "import pickle\n",
    "import re\n",
    "import pyLDAvis\n",
    "import pyLDAvis.gensim\n"
   ]
  },
  {
   "cell_type": "code",
   "execution_count": 102,
   "id": "a361c3da-3de4-4389-bfda-01d634ef8647",
   "metadata": {
    "tags": []
   },
   "outputs": [],
   "source": [
    "import pyLDAvis\n",
    "import pyLDAvis.gensim_models as gensimvis\n",
    "pyLDAvis.enable_notebook()"
   ]
  },
  {
   "cell_type": "code",
   "execution_count": null,
   "id": "ffdbea3b-19a9-4272-8e35-bdba6271b88e",
   "metadata": {},
   "outputs": [],
   "source": []
  }
 ],
 "metadata": {
  "kernelspec": {
   "display_name": "Python 3 (ipykernel)",
   "language": "python",
   "name": "python3"
  },
  "language_info": {
   "codemirror_mode": {
    "name": "ipython",
    "version": 3
   },
   "file_extension": ".py",
   "mimetype": "text/x-python",
   "name": "python",
   "nbconvert_exporter": "python",
   "pygments_lexer": "ipython3",
   "version": "3.9.17"
  }
 },
 "nbformat": 4,
 "nbformat_minor": 5
}
