{
 "cells": [
  {
   "cell_type": "code",
   "execution_count": 1,
   "id": "5f057f67-e3d4-41dd-8733-0e6c1a0c0585",
   "metadata": {
    "tags": []
   },
   "outputs": [
    {
     "name": "stderr",
     "output_type": "stream",
     "text": [
      "C:\\Users\\t3q_dhkim\\anaconda3\\envs\\intern\\lib\\site-packages\\numpy\\_distributor_init.py:30: UserWarning: loaded more than 1 DLL from .libs:\n",
      "C:\\Users\\t3q_dhkim\\anaconda3\\envs\\intern\\lib\\site-packages\\numpy\\.libs\\libopenblas64__v0.3.21-gcc_10_3_0.dll\n",
      "C:\\Users\\t3q_dhkim\\anaconda3\\envs\\intern\\lib\\site-packages\\numpy\\.libs\\libopenblas64__v0.3.23-gcc_10_3_0.dll\n",
      "  warnings.warn(\"loaded more than 1 DLL from .libs:\"\n"
     ]
    }
   ],
   "source": [
    "import pandas as pd\n",
    "import numpy as np\n",
    "import json, os\n",
    "\n",
    "# 출력 데이터를 깔끔하게 표시하기 위해\n",
    "import warnings\n",
    "warnings.filterwarnings('ignore')"
   ]
  },
  {
   "cell_type": "code",
   "execution_count": 2,
   "id": "704a9f85-de54-4978-86f2-371d971cb0d4",
   "metadata": {
    "tags": []
   },
   "outputs": [
    {
     "data": {
      "text/plain": [
       "'C:\\\\Users\\\\t3q_dhkim\\\\Documents\\\\Intern\\\\022.요약문 및 레포트 생성 데이터\\\\sample'"
      ]
     },
     "execution_count": 2,
     "metadata": {},
     "output_type": "execute_result"
    }
   ],
   "source": [
    "os.getcwd()"
   ]
  },
  {
   "cell_type": "code",
   "execution_count": 127,
   "id": "1d8d60af-d076-4058-a5a6-32ffc2228483",
   "metadata": {
    "tags": []
   },
   "outputs": [
    {
     "data": {
      "text/html": [
       "<div>\n",
       "<style scoped>\n",
       "    .dataframe tbody tr th:only-of-type {\n",
       "        vertical-align: middle;\n",
       "    }\n",
       "\n",
       "    .dataframe tbody tr th {\n",
       "        vertical-align: top;\n",
       "    }\n",
       "\n",
       "    .dataframe thead th {\n",
       "        text-align: right;\n",
       "    }\n",
       "</style>\n",
       "<table border=\"1\" class=\"dataframe\">\n",
       "  <thead>\n",
       "    <tr style=\"text-align: right;\">\n",
       "      <th></th>\n",
       "      <th>Meta(Acqusition)</th>\n",
       "      <th>Meta(Refine)</th>\n",
       "      <th>Annotation</th>\n",
       "    </tr>\n",
       "  </thead>\n",
       "  <tbody>\n",
       "    <tr>\n",
       "      <th>doc_id</th>\n",
       "      <td>REPORT-news_r-00001</td>\n",
       "      <td>NaN</td>\n",
       "      <td>NaN</td>\n",
       "    </tr>\n",
       "    <tr>\n",
       "      <th>doc_category</th>\n",
       "      <td>REPORT</td>\n",
       "      <td>NaN</td>\n",
       "      <td>NaN</td>\n",
       "    </tr>\n",
       "    <tr>\n",
       "      <th>doc_type</th>\n",
       "      <td>news_r</td>\n",
       "      <td>NaN</td>\n",
       "      <td>NaN</td>\n",
       "    </tr>\n",
       "    <tr>\n",
       "      <th>doc_name</th>\n",
       "      <td>40억달러 딜 주인공 김봉진 \"국내서 폼잡다 죽고싶지 않았다\"</td>\n",
       "      <td>NaN</td>\n",
       "      <td>NaN</td>\n",
       "    </tr>\n",
       "    <tr>\n",
       "      <th>author</th>\n",
       "      <td>김선영</td>\n",
       "      <td>NaN</td>\n",
       "      <td>NaN</td>\n",
       "    </tr>\n",
       "    <tr>\n",
       "      <th>publisher</th>\n",
       "      <td>중앙일보</td>\n",
       "      <td>NaN</td>\n",
       "      <td>NaN</td>\n",
       "    </tr>\n",
       "    <tr>\n",
       "      <th>publisher_year</th>\n",
       "      <td>2020</td>\n",
       "      <td>NaN</td>\n",
       "      <td>NaN</td>\n",
       "    </tr>\n",
       "    <tr>\n",
       "      <th>doc_origin</th>\n",
       "      <td>중앙일보</td>\n",
       "      <td>NaN</td>\n",
       "      <td>NaN</td>\n",
       "    </tr>\n",
       "    <tr>\n",
       "      <th>passage_id</th>\n",
       "      <td>NaN</td>\n",
       "      <td>REPORT-news_r-00001-00001</td>\n",
       "      <td>NaN</td>\n",
       "    </tr>\n",
       "    <tr>\n",
       "      <th>passage</th>\n",
       "      <td>NaN</td>\n",
       "      <td>40억 달러 ‘딜’ 주인공 김봉진 우아한형제들 대표태풍 뒤의 고요함이랄까.\\n  4...</td>\n",
       "      <td>NaN</td>\n",
       "    </tr>\n",
       "    <tr>\n",
       "      <th>passage_Cnt</th>\n",
       "      <td>NaN</td>\n",
       "      <td>1271</td>\n",
       "      <td>NaN</td>\n",
       "    </tr>\n",
       "    <tr>\n",
       "      <th>summary1</th>\n",
       "      <td>NaN</td>\n",
       "      <td>NaN</td>\n",
       "      <td>DH가 기업가치를 약 4조 8000억 원으로 평가한 우아한형제들의 김 대표는 국내 ...</td>\n",
       "    </tr>\n",
       "    <tr>\n",
       "      <th>summary2</th>\n",
       "      <td>NaN</td>\n",
       "      <td>NaN</td>\n",
       "      <td>None</td>\n",
       "    </tr>\n",
       "    <tr>\n",
       "      <th>summary3</th>\n",
       "      <td>NaN</td>\n",
       "      <td>NaN</td>\n",
       "      <td>독일계 음식 배달서비스업체 DH(딜리버리 히어로)가 평가한 우아한형제들의 기업가치는...</td>\n",
       "    </tr>\n",
       "    <tr>\n",
       "      <th>summary_3_cnt</th>\n",
       "      <td>NaN</td>\n",
       "      <td>NaN</td>\n",
       "      <td>209</td>\n",
       "    </tr>\n",
       "  </tbody>\n",
       "</table>\n",
       "</div>"
      ],
      "text/plain": [
       "                                   Meta(Acqusition)  \\\n",
       "doc_id                          REPORT-news_r-00001   \n",
       "doc_category                                 REPORT   \n",
       "doc_type                                     news_r   \n",
       "doc_name        40억달러 딜 주인공 김봉진 \"국내서 폼잡다 죽고싶지 않았다\"    \n",
       "author                                          김선영   \n",
       "publisher                                      중앙일보   \n",
       "publisher_year                                 2020   \n",
       "doc_origin                                     중앙일보   \n",
       "passage_id                                      NaN   \n",
       "passage                                         NaN   \n",
       "passage_Cnt                                     NaN   \n",
       "summary1                                        NaN   \n",
       "summary2                                        NaN   \n",
       "summary3                                        NaN   \n",
       "summary_3_cnt                                   NaN   \n",
       "\n",
       "                                                     Meta(Refine)  \\\n",
       "doc_id                                                        NaN   \n",
       "doc_category                                                  NaN   \n",
       "doc_type                                                      NaN   \n",
       "doc_name                                                      NaN   \n",
       "author                                                        NaN   \n",
       "publisher                                                     NaN   \n",
       "publisher_year                                                NaN   \n",
       "doc_origin                                                    NaN   \n",
       "passage_id                              REPORT-news_r-00001-00001   \n",
       "passage         40억 달러 ‘딜’ 주인공 김봉진 우아한형제들 대표태풍 뒤의 고요함이랄까.\\n  4...   \n",
       "passage_Cnt                                                  1271   \n",
       "summary1                                                      NaN   \n",
       "summary2                                                      NaN   \n",
       "summary3                                                      NaN   \n",
       "summary_3_cnt                                                 NaN   \n",
       "\n",
       "                                                       Annotation  \n",
       "doc_id                                                        NaN  \n",
       "doc_category                                                  NaN  \n",
       "doc_type                                                      NaN  \n",
       "doc_name                                                      NaN  \n",
       "author                                                        NaN  \n",
       "publisher                                                     NaN  \n",
       "publisher_year                                                NaN  \n",
       "doc_origin                                                    NaN  \n",
       "passage_id                                                    NaN  \n",
       "passage                                                       NaN  \n",
       "passage_Cnt                                                   NaN  \n",
       "summary1        DH가 기업가치를 약 4조 8000억 원으로 평가한 우아한형제들의 김 대표는 국내 ...  \n",
       "summary2                                                     None  \n",
       "summary3        독일계 음식 배달서비스업체 DH(딜리버리 히어로)가 평가한 우아한형제들의 기업가치는...  \n",
       "summary_3_cnt                                                 209  "
      ]
     },
     "execution_count": 127,
     "metadata": {},
     "output_type": "execute_result"
    }
   ],
   "source": [
    "df = pd.read_json('01.news_r\\\\20per\\\\REPORT-news_r-00001-00001.json')\n",
    "df"
   ]
  },
  {
   "cell_type": "code",
   "execution_count": 128,
   "id": "f2ba3b2e-3766-4e44-a02d-0323e01eafa9",
   "metadata": {
    "tags": []
   },
   "outputs": [
    {
     "data": {
      "text/html": [
       "<div>\n",
       "<style scoped>\n",
       "    .dataframe tbody tr th:only-of-type {\n",
       "        vertical-align: middle;\n",
       "    }\n",
       "\n",
       "    .dataframe tbody tr th {\n",
       "        vertical-align: top;\n",
       "    }\n",
       "\n",
       "    .dataframe thead th {\n",
       "        text-align: right;\n",
       "    }\n",
       "</style>\n",
       "<table border=\"1\" class=\"dataframe\">\n",
       "  <thead>\n",
       "    <tr style=\"text-align: right;\">\n",
       "      <th></th>\n",
       "      <th>doc_type</th>\n",
       "      <th>doc_name</th>\n",
       "      <th>passage_id</th>\n",
       "      <th>passage</th>\n",
       "    </tr>\n",
       "  </thead>\n",
       "  <tbody>\n",
       "    <tr>\n",
       "      <th>0</th>\n",
       "      <td>news_r</td>\n",
       "      <td>40억달러 딜 주인공 김봉진 \"국내서 폼잡다 죽고싶지 않았다\"</td>\n",
       "      <td>REPORT-news_r-00001-00001</td>\n",
       "      <td>40억 달러 ‘딜’ 주인공 김봉진 우아한형제들 대표태풍 뒤의 고요함이랄까.\\n  4...</td>\n",
       "    </tr>\n",
       "  </tbody>\n",
       "</table>\n",
       "</div>"
      ],
      "text/plain": [
       "  doc_type                             doc_name                 passage_id  \\\n",
       "0   news_r  40억달러 딜 주인공 김봉진 \"국내서 폼잡다 죽고싶지 않았다\"   REPORT-news_r-00001-00001   \n",
       "\n",
       "                                             passage  \n",
       "0  40억 달러 ‘딜’ 주인공 김봉진 우아한형제들 대표태풍 뒤의 고요함이랄까.\\n  4...  "
      ]
     },
     "execution_count": 128,
     "metadata": {},
     "output_type": "execute_result"
    }
   ],
   "source": [
    "meta_data = {\n",
    "    \"doc_type\": df[\"Meta(Acqusition)\"][\"doc_type\"],\n",
    "    \"doc_name\": df[\"Meta(Acqusition)\"][\"doc_name\"],\n",
    "    \"passage_id\": df[\"Meta(Refine)\"][\"passage_id\"],\n",
    "    \"passage\": df[\"Meta(Refine)\"][\"passage\"]\n",
    "}\n",
    "\n",
    "new = pd.DataFrame([meta_data])\n",
    "new"
   ]
  },
  {
   "cell_type": "code",
   "execution_count": 129,
   "id": "1fbab7ba-de1f-4f03-be80-ab772efd8a59",
   "metadata": {
    "tags": []
   },
   "outputs": [],
   "source": [
    "file_paths = glob.glob('01.news_r\\\\20per\\\\*.json') \n",
    "len(file_paths)\n",
    "file_paths=file_paths[:5]"
   ]
  },
  {
   "cell_type": "code",
   "execution_count": 130,
   "id": "6f2c23e2-ad39-4754-bc5a-a9e77d59660d",
   "metadata": {
    "tags": []
   },
   "outputs": [
    {
     "name": "stdout",
     "output_type": "stream",
     "text": [
      "CPU times: total: 0 ns\n",
      "Wall time: 7.53 ms\n"
     ]
    },
    {
     "data": {
      "text/html": [
       "<div>\n",
       "<style scoped>\n",
       "    .dataframe tbody tr th:only-of-type {\n",
       "        vertical-align: middle;\n",
       "    }\n",
       "\n",
       "    .dataframe tbody tr th {\n",
       "        vertical-align: top;\n",
       "    }\n",
       "\n",
       "    .dataframe thead th {\n",
       "        text-align: right;\n",
       "    }\n",
       "</style>\n",
       "<table border=\"1\" class=\"dataframe\">\n",
       "  <thead>\n",
       "    <tr style=\"text-align: right;\">\n",
       "      <th></th>\n",
       "      <th>doc_type</th>\n",
       "      <th>doc_name</th>\n",
       "      <th>passage_id</th>\n",
       "      <th>passage</th>\n",
       "    </tr>\n",
       "  </thead>\n",
       "  <tbody>\n",
       "    <tr>\n",
       "      <th>0</th>\n",
       "      <td>news_r</td>\n",
       "      <td>40억달러 딜 주인공 김봉진 \"국내서 폼잡다 죽고싶지 않았다\"</td>\n",
       "      <td>REPORT-news_r-00001-00001</td>\n",
       "      <td>40억 달러 ‘딜’ 주인공 김봉진 우아한형제들 대표태풍 뒤의 고요함이랄까.\\n  4...</td>\n",
       "    </tr>\n",
       "    <tr>\n",
       "      <th>1</th>\n",
       "      <td>news_r</td>\n",
       "      <td>[차이나인사이트] 한한령 풀리면 한·중관계 회복될까</td>\n",
       "      <td>REPORT-news_r-00005-00001</td>\n",
       "      <td>시진핑 방한과 새해 한·중관계 전망지난달 23일 베이징에서 열린 한·중 정상회담을 ...</td>\n",
       "    </tr>\n",
       "    <tr>\n",
       "      <th>2</th>\n",
       "      <td>news_r</td>\n",
       "      <td>[차이나인사이트] 한한령 풀리면 한·중관계 회복될까</td>\n",
       "      <td>REPORT-news_r-00005-00003</td>\n",
       "      <td>한·중이 사드에 관한 ‘3불(不)’이 ‘약속’인지 ‘입장표명’인지 표현을 놓고 갈...</td>\n",
       "    </tr>\n",
       "    <tr>\n",
       "      <th>3</th>\n",
       "      <td>news_r</td>\n",
       "      <td>[이철호 칼럼] 문 대통령, 총알을 물어야 한다</td>\n",
       "      <td>REPORT-news_r-00009-00001</td>\n",
       "      <td>배달의민족이 독일 자본에 매각된 것을 놓고 말들이 많다.\\n  민족 정서를 배반했다...</td>\n",
       "    </tr>\n",
       "    <tr>\n",
       "      <th>4</th>\n",
       "      <td>news_r</td>\n",
       "      <td>'北핵무력 강화 핵심' 이병철, 노동당 정치국 위원에 선출</td>\n",
       "      <td>REPORT-news_r-00012-00001</td>\n",
       "      <td>지난 28일부터 나흘간 진행된 7기 5차 노동당 전원회의에서 북한은 핵 무력 개발의...</td>\n",
       "    </tr>\n",
       "  </tbody>\n",
       "</table>\n",
       "</div>"
      ],
      "text/plain": [
       "  doc_type                             doc_name                 passage_id  \\\n",
       "0   news_r  40억달러 딜 주인공 김봉진 \"국내서 폼잡다 죽고싶지 않았다\"   REPORT-news_r-00001-00001   \n",
       "1   news_r         [차이나인사이트] 한한령 풀리면 한·중관계 회복될까  REPORT-news_r-00005-00001   \n",
       "2   news_r         [차이나인사이트] 한한령 풀리면 한·중관계 회복될까  REPORT-news_r-00005-00003   \n",
       "3   news_r           [이철호 칼럼] 문 대통령, 총알을 물어야 한다  REPORT-news_r-00009-00001   \n",
       "4   news_r     '北핵무력 강화 핵심' 이병철, 노동당 정치국 위원에 선출  REPORT-news_r-00012-00001   \n",
       "\n",
       "                                             passage  \n",
       "0  40억 달러 ‘딜’ 주인공 김봉진 우아한형제들 대표태풍 뒤의 고요함이랄까.\\n  4...  \n",
       "1  시진핑 방한과 새해 한·중관계 전망지난달 23일 베이징에서 열린 한·중 정상회담을 ...  \n",
       "2   한·중이 사드에 관한 ‘3불(不)’이 ‘약속’인지 ‘입장표명’인지 표현을 놓고 갈...  \n",
       "3  배달의민족이 독일 자본에 매각된 것을 놓고 말들이 많다.\\n  민족 정서를 배반했다...  \n",
       "4  지난 28일부터 나흘간 진행된 7기 5차 노동당 전원회의에서 북한은 핵 무력 개발의...  "
      ]
     },
     "execution_count": 130,
     "metadata": {},
     "output_type": "execute_result"
    }
   ],
   "source": [
    "%%time \n",
    "# Initialize an empty DataFrame\n",
    "new_df = pd.DataFrame(columns=[\"doc_type\", \"doc_name\", \"passage_id\", \"passage\"])\n",
    "\n",
    "# Iterate over each JSON file\n",
    "#print(file_paths)\n",
    "for file_path in file_paths:\n",
    "    # Load the JSON file\n",
    "    with open(file_path, \"r\", encoding=\"utf-8\") as file:\n",
    "        json_data = json.load(file)\n",
    "    \n",
    "    # Extract the required information\n",
    "    doc_type = json_data[\"Meta(Acqusition)\"][\"doc_type\"]\n",
    "    doc_name = json_data[\"Meta(Acqusition)\"][\"doc_name\"]\n",
    "    passage_id = json_data[\"Meta(Refine)\"][\"passage_id\"]\n",
    "    passage = json_data[\"Meta(Refine)\"][\"passage\"]\n",
    "\n",
    "    # Append a new row to the DataFrame\n",
    "    new_df = new_df.append({\"doc_type\": doc_type, \"doc_name\": doc_name, \"passage_id\": passage_id, \"passage\": passage}, ignore_index=True)\n",
    "\n",
    "# Print the resulting DataFrame\n",
    "new_df"
   ]
  },
  {
   "cell_type": "code",
   "execution_count": 131,
   "id": "cc0d68c7-1526-42a1-ae22-86cc01b5d745",
   "metadata": {
    "tags": []
   },
   "outputs": [
    {
     "data": {
      "text/plain": [
       "0    40억 달러 ‘딜’ 주인공 김봉진 우아한형제들 대표태풍 뒤의 고요함이랄까.\\n  4...\n",
       "1    시진핑 방한과 새해 한·중관계 전망지난달 23일 베이징에서 열린 한·중 정상회담을 ...\n",
       "2     한·중이 사드에 관한 ‘3불(不)’이 ‘약속’인지 ‘입장표명’인지 표현을 놓고 갈...\n",
       "3    배달의민족이 독일 자본에 매각된 것을 놓고 말들이 많다.\\n  민족 정서를 배반했다...\n",
       "4    지난 28일부터 나흘간 진행된 7기 5차 노동당 전원회의에서 북한은 핵 무력 개발의...\n",
       "Name: passage, dtype: object"
      ]
     },
     "execution_count": 131,
     "metadata": {},
     "output_type": "execute_result"
    }
   ],
   "source": [
    "new_df[\"passage\"]"
   ]
  },
  {
   "cell_type": "code",
   "execution_count": 138,
   "id": "6650209c-557f-455b-ad04-513b77de9523",
   "metadata": {
    "tags": []
   },
   "outputs": [
    {
     "data": {
      "text/html": [
       "<div>\n",
       "<style scoped>\n",
       "    .dataframe tbody tr th:only-of-type {\n",
       "        vertical-align: middle;\n",
       "    }\n",
       "\n",
       "    .dataframe tbody tr th {\n",
       "        vertical-align: top;\n",
       "    }\n",
       "\n",
       "    .dataframe thead th {\n",
       "        text-align: right;\n",
       "    }\n",
       "</style>\n",
       "<table border=\"1\" class=\"dataframe\">\n",
       "  <thead>\n",
       "    <tr style=\"text-align: right;\">\n",
       "      <th></th>\n",
       "      <th>passage</th>\n",
       "      <th>doc_type</th>\n",
       "    </tr>\n",
       "  </thead>\n",
       "  <tbody>\n",
       "    <tr>\n",
       "      <th>0</th>\n",
       "      <td>40억 달러 ‘딜’ 주인공 김봉진 우아한형제들 대표태풍 뒤의 고요함이랄까.\\n  4...</td>\n",
       "      <td>news_r</td>\n",
       "    </tr>\n",
       "    <tr>\n",
       "      <th>1</th>\n",
       "      <td>시진핑 방한과 새해 한·중관계 전망지난달 23일 베이징에서 열린 한·중 정상회담을 ...</td>\n",
       "      <td>news_r</td>\n",
       "    </tr>\n",
       "    <tr>\n",
       "      <th>2</th>\n",
       "      <td>한·중이 사드에 관한 ‘3불(不)’이 ‘약속’인지 ‘입장표명’인지 표현을 놓고 갈...</td>\n",
       "      <td>news_r</td>\n",
       "    </tr>\n",
       "    <tr>\n",
       "      <th>3</th>\n",
       "      <td>배달의민족이 독일 자본에 매각된 것을 놓고 말들이 많다.\\n  민족 정서를 배반했다...</td>\n",
       "      <td>news_r</td>\n",
       "    </tr>\n",
       "    <tr>\n",
       "      <th>4</th>\n",
       "      <td>지난 28일부터 나흘간 진행된 7기 5차 노동당 전원회의에서 북한은 핵 무력 개발의...</td>\n",
       "      <td>news_r</td>\n",
       "    </tr>\n",
       "  </tbody>\n",
       "</table>\n",
       "</div>"
      ],
      "text/plain": [
       "                                             passage doc_type\n",
       "0  40억 달러 ‘딜’ 주인공 김봉진 우아한형제들 대표태풍 뒤의 고요함이랄까.\\n  4...   news_r\n",
       "1  시진핑 방한과 새해 한·중관계 전망지난달 23일 베이징에서 열린 한·중 정상회담을 ...   news_r\n",
       "2   한·중이 사드에 관한 ‘3불(不)’이 ‘약속’인지 ‘입장표명’인지 표현을 놓고 갈...   news_r\n",
       "3  배달의민족이 독일 자본에 매각된 것을 놓고 말들이 많다.\\n  민족 정서를 배반했다...   news_r\n",
       "4  지난 28일부터 나흘간 진행된 7기 5차 노동당 전원회의에서 북한은 핵 무력 개발의...   news_r"
      ]
     },
     "execution_count": 138,
     "metadata": {},
     "output_type": "execute_result"
    }
   ],
   "source": [
    "new_df.loc[:,[\"passage\", \"doc_type\"]]"
   ]
  },
  {
   "cell_type": "code",
   "execution_count": 133,
   "id": "9cf12f74-0e2a-4f67-b10d-7687dc9a03fb",
   "metadata": {
    "tags": []
   },
   "outputs": [
    {
     "data": {
      "text/plain": [
       "'40억 달러 ‘딜’ 주인공 김봉진 우아한형제들 대표태풍 뒤의 고요함이랄까.\\n  40억 달러짜리 ‘딜’(거래)을 마친 뒤의 사무실은 조용했다.\\n  음식 배달 앱 ‘배달의민족’ 운영사 ㈜우아한형제들의 서울 송파구 방이동 사옥은 비어 있었다.\\n  전 직원들에게 연말 특별 휴가를 선물한 김봉진(44) 대표는 혼자 출근해 남은 일을 처리하고 있었다.\\n  축하한다는 말을 건네자 “이제 시작인 걸요”라는 답이 돌아왔다.\\n  그에게 기업 매각은 단순한 ‘엑시트’(창업 후 지분 매각으로 이익을 실현하는 일)가 아니었다.\\n  성공 스토리 뒤에는 환희의 무게만큼 고민이 자리 잡고 있었다.\\n  독일계 음식 배달서비스업체 DH(딜리버리 히어로)가 평가한 우아한형제들의 기업가치는 약 4조8000억원.\\n  국내 스타트업 M&A 사상 최대 규모다.\\n  앱 하나로 평가받은 기업가치가 GS나 현대건설의 시가총액과 맞먹는다.\\n  ‘매각’이라는 표현을 썼지만, 창업자인 김 대표가 회사를 떠나는 것은 아니다.\\n  오히려 역할이 커졌다.\\n  두 회사가 절반씩 출자해 싱가포르에 세우는 합작법인 ‘우아DH아시아’의 책임자로서 아시아 11개국 사업을 총괄하게 된다.\\n  DH는 우아한형제들의 투자자 지분 87%를 인수하고, 김 대표 등 경영진이 가진 지분 13%는 DH 본사 지분으로 전환하기로 했다.\\n  그렇게 되면 김 대표는 DH 경영진 가운데 개인 최대 주주가 된다.\\n   “더 큰 꿈 위해 글로벌 자본 선택” 김 대표의 고민은 ‘민족’이라는 단어에 닿아 있었다.\\n  회사가 외국 자본에 넘어가면서 민족 브랜드가 어울리지 않게 됐다는 시선 때문이다.\\n  소비자 반응이 긍정적이지만은 않다.\\n “겸허하게 받아들인다.\\n  DH와는 경쟁 관계이지만 창업 초기부터 지속해서 교류해왔다.\\n  그 과정에서 그들이 지닌 ‘글로벌 DNA’에 놀랐다.\\n  DH는 홈그라운드 격인 독일 사업마저 네덜란드 기업에 넘기고 글로벌 마케팅을 강화해왔다.\\n  그들과 계속 싸울지, 합쳐서 글로벌 무대로 나갈지 마지막까지 고민했다.\\n  더 큰 도전을 위한 선택이라고 이해해줬으면 한다.\\n ” 국내 상장도 생각해볼 수 있었을 텐데.\\n “국내 상장이 이뤄지지 않아 아쉽긴 하다.\\n  난들 여의도 거래소에서 멋있게 상장 축하 종을 쳐보고 싶지 않았겠나.\\n  그러나 국내 상장이나 매각을 통해 조달할 수 있는 자본은 한계가 있었다.\\n  글로벌 무대에서 경쟁하기엔 턱없이 부족한 규모라고 판단했다.\\n  향후 3~4년 사업 시뮬레이션을 해 본 결과, 국내 상장으로는 ‘폼’ 한번 잡은 뒤 서서히 죽어갈 수밖에 없다는 결론을 얻었다.\\n '"
      ]
     },
     "execution_count": 133,
     "metadata": {},
     "output_type": "execute_result"
    }
   ],
   "source": [
    "df[\"Meta(Refine)\"][\"passage\"]"
   ]
  },
  {
   "cell_type": "code",
   "execution_count": 134,
   "id": "eb95b3c2-4642-4a9d-92db-5f7becfb6f74",
   "metadata": {
    "tags": []
   },
   "outputs": [
    {
     "data": {
      "text/html": [
       "<div>\n",
       "<style scoped>\n",
       "    .dataframe tbody tr th:only-of-type {\n",
       "        vertical-align: middle;\n",
       "    }\n",
       "\n",
       "    .dataframe tbody tr th {\n",
       "        vertical-align: top;\n",
       "    }\n",
       "\n",
       "    .dataframe thead th {\n",
       "        text-align: right;\n",
       "    }\n",
       "</style>\n",
       "<table border=\"1\" class=\"dataframe\">\n",
       "  <thead>\n",
       "    <tr style=\"text-align: right;\">\n",
       "      <th></th>\n",
       "      <th>Meta(Acqusition)</th>\n",
       "      <th>Meta(Refine)</th>\n",
       "      <th>Annotation</th>\n",
       "    </tr>\n",
       "  </thead>\n",
       "  <tbody>\n",
       "    <tr>\n",
       "      <th>count</th>\n",
       "      <td>8</td>\n",
       "      <td>3</td>\n",
       "      <td>3</td>\n",
       "    </tr>\n",
       "    <tr>\n",
       "      <th>unique</th>\n",
       "      <td>7</td>\n",
       "      <td>3</td>\n",
       "      <td>3</td>\n",
       "    </tr>\n",
       "    <tr>\n",
       "      <th>top</th>\n",
       "      <td>중앙일보</td>\n",
       "      <td>REPORT-news_r-00001-00001</td>\n",
       "      <td>DH가 기업가치를 약 4조 8000억 원으로 평가한 우아한형제들의 김 대표는 국내 ...</td>\n",
       "    </tr>\n",
       "    <tr>\n",
       "      <th>freq</th>\n",
       "      <td>2</td>\n",
       "      <td>1</td>\n",
       "      <td>1</td>\n",
       "    </tr>\n",
       "  </tbody>\n",
       "</table>\n",
       "</div>"
      ],
      "text/plain": [
       "       Meta(Acqusition)               Meta(Refine)  \\\n",
       "count                 8                          3   \n",
       "unique                7                          3   \n",
       "top                중앙일보  REPORT-news_r-00001-00001   \n",
       "freq                  2                          1   \n",
       "\n",
       "                                               Annotation  \n",
       "count                                                   3  \n",
       "unique                                                  3  \n",
       "top     DH가 기업가치를 약 4조 8000억 원으로 평가한 우아한형제들의 김 대표는 국내 ...  \n",
       "freq                                                    1  "
      ]
     },
     "execution_count": 134,
     "metadata": {},
     "output_type": "execute_result"
    }
   ],
   "source": [
    "df.describe()"
   ]
  },
  {
   "cell_type": "code",
   "execution_count": 135,
   "id": "518a3d3b-ad60-442e-8750-ca898f6a40d2",
   "metadata": {
    "tags": []
   },
   "outputs": [
    {
     "data": {
      "text/plain": [
       "',Meta(Acqusition),Meta(Refine),Annotation\\r\\ndoc_id,REPORT-news_r-00001,,\\r\\ndoc_category,REPORT,,\\r\\ndoc_type,news_r,,\\r\\ndoc_name,\"40억달러 딜 주인공 김봉진 \"\"국내서 폼잡다 죽고싶지 않았다\"\" \",,\\r\\nauthor,김선영,,\\r\\npublisher,중앙일보,,\\r\\npublisher_year,2020,,\\r\\ndoc_origin,중앙일보,,\\r\\npassage_id,,REPORT-news_r-00001-00001,\\r\\npassage,,\"40억 달러 ‘딜’ 주인공 김봉진 우아한형제들 대표태풍 뒤의 고요함이랄까.\\n  40억 달러짜리 ‘딜’(거래)을 마친 뒤의 사무실은 조용했다.\\n  음식 배달 앱 ‘배달의민족’ 운영사 ㈜우아한형제들의 서울 송파구 방이동 사옥은 비어 있었다.\\n  전 직원들에게 연말 특별 휴가를 선물한 김봉진(44) 대표는 혼자 출근해 남은 일을 처리하고 있었다.\\n  축하한다는 말을 건네자 “이제 시작인 걸요”라는 답이 돌아왔다.\\n  그에게 기업 매각은 단순한 ‘엑시트’(창업 후 지분 매각으로 이익을 실현하는 일)가 아니었다.\\n  성공 스토리 뒤에는 환희의 무게만큼 고민이 자리 잡고 있었다.\\n  독일계 음식 배달서비스업체 DH(딜리버리 히어로)가 평가한 우아한형제들의 기업가치는 약 4조8000억원.\\n  국내 스타트업 M&A 사상 최대 규모다.\\n  앱 하나로 평가받은 기업가치가 GS나 현대건설의 시가총액과 맞먹는다.\\n  ‘매각’이라는 표현을 썼지만, 창업자인 김 대표가 회사를 떠나는 것은 아니다.\\n  오히려 역할이 커졌다.\\n  두 회사가 절반씩 출자해 싱가포르에 세우는 합작법인 ‘우아DH아시아’의 책임자로서 아시아 11개국 사업을 총괄하게 된다.\\n  DH는 우아한형제들의 투자자 지분 87%를 인수하고, 김 대표 등 경영진이 가진 지분 13%는 DH 본사 지분으로 전환하기로 했다.\\n  그렇게 되면 김 대표는 DH 경영진 가운데 개인 최대 주주가 된다.\\n   “더 큰 꿈 위해 글로벌 자본 선택” 김 대표의 고민은 ‘민족’이라는 단어에 닿아 있었다.\\n  회사가 외국 자본에 넘어가면서 민족 브랜드가 어울리지 않게 됐다는 시선 때문이다.\\n  소비자 반응이 긍정적이지만은 않다.\\n “겸허하게 받아들인다.\\n  DH와는 경쟁 관계이지만 창업 초기부터 지속해서 교류해왔다.\\n  그 과정에서 그들이 지닌 ‘글로벌 DNA’에 놀랐다.\\n  DH는 홈그라운드 격인 독일 사업마저 네덜란드 기업에 넘기고 글로벌 마케팅을 강화해왔다.\\n  그들과 계속 싸울지, 합쳐서 글로벌 무대로 나갈지 마지막까지 고민했다.\\n  더 큰 도전을 위한 선택이라고 이해해줬으면 한다.\\n ” 국내 상장도 생각해볼 수 있었을 텐데.\\n “국내 상장이 이뤄지지 않아 아쉽긴 하다.\\n  난들 여의도 거래소에서 멋있게 상장 축하 종을 쳐보고 싶지 않았겠나.\\n  그러나 국내 상장이나 매각을 통해 조달할 수 있는 자본은 한계가 있었다.\\n  글로벌 무대에서 경쟁하기엔 턱없이 부족한 규모라고 판단했다.\\n  향후 3~4년 사업 시뮬레이션을 해 본 결과, 국내 상장으로는 ‘폼’ 한번 잡은 뒤 서서히 죽어갈 수밖에 없다는 결론을 얻었다.\\n \",\\r\\npassage_Cnt,,1271,\\r\\nsummary1,,,DH가 기업가치를 약 4조 8000억 원으로 평가한 우아한형제들의 김 대표는 국내 스타트업 사상 최대 규모의 M&A 이후 합작법인 우아DH아시아의 책임자가 된다.\\r\\nsummary2,,,\\r\\nsummary3,,,독일계 음식 배달서비스업체 DH(딜리버리 히어로)가 평가한 우아한형제들의 기업가치는 약 4조8000억원. 두 회사가 절반씩 출자해 싱가포르에 세우는 합작법인 ‘우아DH아시아’의 책임자로서 아시아 11개국 사업을 총괄하게 된다. 전 직원들에게 연말 특별 휴가를 선물한 김봉진(44) 대표는 혼자 출근해 남은 일을 처리하고 있었다. 국내 스타트업 M&A 사상 최대 규모다.\\r\\nsummary_3_cnt,,,209\\r\\n'"
      ]
     },
     "execution_count": 135,
     "metadata": {},
     "output_type": "execute_result"
    }
   ],
   "source": [
    "df.to_csv()"
   ]
  },
  {
   "cell_type": "code",
   "execution_count": 136,
   "id": "a8d6ffd1-2cb9-456d-bbef-2223f4a64af9",
   "metadata": {
    "tags": []
   },
   "outputs": [
    {
     "data": {
      "text/html": [
       "<div>\n",
       "<style scoped>\n",
       "    .dataframe tbody tr th:only-of-type {\n",
       "        vertical-align: middle;\n",
       "    }\n",
       "\n",
       "    .dataframe tbody tr th {\n",
       "        vertical-align: top;\n",
       "    }\n",
       "\n",
       "    .dataframe thead th {\n",
       "        text-align: right;\n",
       "    }\n",
       "</style>\n",
       "<table border=\"1\" class=\"dataframe\">\n",
       "  <thead>\n",
       "    <tr style=\"text-align: right;\">\n",
       "      <th></th>\n",
       "      <th>Meta(Acqusition)</th>\n",
       "      <th>Meta(Refine)</th>\n",
       "      <th>Annotation</th>\n",
       "    </tr>\n",
       "  </thead>\n",
       "  <tbody>\n",
       "    <tr>\n",
       "      <th>doc_id</th>\n",
       "      <td>REPORT-news_r-00001</td>\n",
       "      <td>NaN</td>\n",
       "      <td>NaN</td>\n",
       "    </tr>\n",
       "    <tr>\n",
       "      <th>doc_category</th>\n",
       "      <td>REPORT</td>\n",
       "      <td>NaN</td>\n",
       "      <td>NaN</td>\n",
       "    </tr>\n",
       "    <tr>\n",
       "      <th>doc_type</th>\n",
       "      <td>news_r</td>\n",
       "      <td>NaN</td>\n",
       "      <td>NaN</td>\n",
       "    </tr>\n",
       "    <tr>\n",
       "      <th>doc_name</th>\n",
       "      <td>40억달러 딜 주인공 김봉진 \"국내서 폼잡다 죽고싶지 않았다\"</td>\n",
       "      <td>NaN</td>\n",
       "      <td>NaN</td>\n",
       "    </tr>\n",
       "    <tr>\n",
       "      <th>author</th>\n",
       "      <td>김선영</td>\n",
       "      <td>NaN</td>\n",
       "      <td>NaN</td>\n",
       "    </tr>\n",
       "  </tbody>\n",
       "</table>\n",
       "</div>"
      ],
      "text/plain": [
       "                                 Meta(Acqusition) Meta(Refine) Annotation\n",
       "doc_id                        REPORT-news_r-00001          NaN        NaN\n",
       "doc_category                               REPORT          NaN        NaN\n",
       "doc_type                                   news_r          NaN        NaN\n",
       "doc_name      40억달러 딜 주인공 김봉진 \"국내서 폼잡다 죽고싶지 않았다\"           NaN        NaN\n",
       "author                                        김선영          NaN        NaN"
      ]
     },
     "execution_count": 136,
     "metadata": {},
     "output_type": "execute_result"
    }
   ],
   "source": [
    "df.head()"
   ]
  },
  {
   "cell_type": "code",
   "execution_count": 35,
   "id": "2752ae53-c279-452e-86aa-e8d8965475bd",
   "metadata": {
    "tags": []
   },
   "outputs": [
    {
     "data": {
      "text/plain": [
       "'Documents/Intern/022.요약문 및 레포트 생성 데이터\\\\01.news_r\\\\20per\\\\*.json'"
      ]
     },
     "execution_count": 35,
     "metadata": {},
     "output_type": "execute_result"
    }
   ],
   "source": [
    "base_path = \"Documents/Intern/022.요약문 및 레포트 생성 데이터\"\n",
    "search_pattern = \"01.news_r\\\\20per\\\\*.json\"  # Recursive search for all JSON files\n",
    "os.path.join(base_path, search_pattern)"
   ]
  },
  {
   "cell_type": "code",
   "execution_count": 34,
   "id": "15d45fe9-b34a-46fe-aa59-758d8265e62c",
   "metadata": {
    "tags": []
   },
   "outputs": [
    {
     "data": {
      "text/plain": [
       "[]"
      ]
     },
     "execution_count": 34,
     "metadata": {},
     "output_type": "execute_result"
    }
   ],
   "source": [
    "data= []\n",
    "json_files = glob.glob(os.path.join(base_path, search_pattern), recursive=True)\n",
    "json_files"
   ]
  },
  {
   "cell_type": "code",
   "execution_count": 26,
   "id": "a7f8e7b7-5603-428d-9fcc-ea37ab6ad28f",
   "metadata": {
    "tags": []
   },
   "outputs": [
    {
     "data": {
      "text/html": [
       "<div>\n",
       "<style scoped>\n",
       "    .dataframe tbody tr th:only-of-type {\n",
       "        vertical-align: middle;\n",
       "    }\n",
       "\n",
       "    .dataframe tbody tr th {\n",
       "        vertical-align: top;\n",
       "    }\n",
       "\n",
       "    .dataframe thead th {\n",
       "        text-align: right;\n",
       "    }\n",
       "</style>\n",
       "<table border=\"1\" class=\"dataframe\">\n",
       "  <thead>\n",
       "    <tr style=\"text-align: right;\">\n",
       "      <th></th>\n",
       "    </tr>\n",
       "  </thead>\n",
       "  <tbody>\n",
       "  </tbody>\n",
       "</table>\n",
       "</div>"
      ],
      "text/plain": [
       "Empty DataFrame\n",
       "Columns: []\n",
       "Index: []"
      ]
     },
     "execution_count": 26,
     "metadata": {},
     "output_type": "execute_result"
    }
   ],
   "source": [
    "for file_path in json_files:\n",
    "    with open(file_path, \"r\", encoding=\"utf-8\") as file:\n",
    "        json_data = json.load(file)\n",
    "        doc_type = json_data[\"Meta(Acqusition)\"][\"doc_type\"]\n",
    "        doc_name = json_data[\"Meta(Acqusition)\"][\"doc_name\"]\n",
    "        passage_id = json_data[\"Meta(Refine)\"][\"passage_id\"]\n",
    "        passage = json_data[\"Meta(Refine)\"][\"passage\"]\n",
    "        \n",
    "        data.append({\"doc_type\": doc_type, \"doc_name\": doc_name, \"passage_id\": passage_id, \"passage\": passage})\n",
    "\n",
    "df = pd.DataFrame(data)\n",
    "df"
   ]
  },
  {
   "cell_type": "code",
   "execution_count": null,
   "id": "068ce061-8d49-42da-bceb-7611993d2abf",
   "metadata": {},
   "outputs": [],
   "source": []
  }
 ],
 "metadata": {
  "kernelspec": {
   "display_name": "Python 3 (ipykernel)",
   "language": "python",
   "name": "python3"
  },
  "language_info": {
   "codemirror_mode": {
    "name": "ipython",
    "version": 3
   },
   "file_extension": ".py",
   "mimetype": "text/x-python",
   "name": "python",
   "nbconvert_exporter": "python",
   "pygments_lexer": "ipython3",
   "version": "3.9.17"
  }
 },
 "nbformat": 4,
 "nbformat_minor": 5
}
